{
  "nbformat": 4,
  "nbformat_minor": 0,
  "metadata": {
    "colab": {
      "name": "1. News Data Collection.ipynb",
      "provenance": []
    },
    "kernelspec": {
      "display_name": "Python 3",
      "name": "python3"
    }
  },
  "cells": [
    {
      "cell_type": "code",
      "metadata": {
        "id": "0H_Huj1-6z71"
      },
      "source": [
        "!pip install intrinio_sdk"
      ],
      "execution_count": null,
      "outputs": []
    },
    {
      "cell_type": "code",
      "metadata": {
        "colab": {
          "base_uri": "https://localhost:8080/"
        },
        "id": "bJSmuNL865rN",
        "outputId": "26b3c585-e41d-463b-bae1-716f17ece744"
      },
      "source": [
        "import pandas as pd\n",
        "import nltk\n",
        "import numpy as np\n",
        "nltk.download('wordnet')"
      ],
      "execution_count": null,
      "outputs": [
        {
          "output_type": "stream",
          "text": [
            "[nltk_data] Downloading package wordnet to /root/nltk_data...\n",
            "[nltk_data]   Unzipping corpora/wordnet.zip.\n"
          ],
          "name": "stdout"
        },
        {
          "output_type": "execute_result",
          "data": {
            "text/plain": [
              "True"
            ]
          },
          "metadata": {
            "tags": []
          },
          "execution_count": 2
        }
      ]
    },
    {
      "cell_type": "code",
      "metadata": {
        "colab": {
          "background_save": true
        },
        "id": "YnlhMJ0_68Rq",
        "outputId": "6face215-1f6d-4327-c054-c0de63328764"
      },
      "source": [
        "\n",
        "# API call to Intrinio for company news data (https://intrinio.com/)\n",
        "#Since Github Does not accept files larger than 25 MB, I put an error to reduce its size.\n",
        "from __future__ import print_function\n",
        "import time\n",
        "import intrinio_sdk\n",
        "from intrinio_sdk.rest import ApiException\n",
        "from pprint import pprint\n",
        "\n",
        "intrinio_sdk.ApiClient().configuration.api_key['api_key'] = 'OjgxN2FiYThhMzc3MjY4NzA1NDY4MThhNDQxMDNmZGQ3'\n",
        "\n",
        "company_api = intrinio_sdk.CompanyApi()\n",
        "\n",
        "identifier = 'AAPL' # str | A Company identifier (Ticker, CIK, LEI, Intrinio ID)\n",
        "page_size = 100 # int | The number of results to return (optional) (default to 100)\n",
        "next_page = '' # str | Gets the next page of data from a previous API call (optional)\n",
        "\n",
        "api_response_list = []\n",
        "condition = True\n",
        "while condition:\n",
        "\n",
        "    try:\n",
        "        api_response = company_api.get_company_news(identifier, page_size=page_size, next_page=next_page)\n",
        "        api_response_list.append(api_response)\n",
        "        next_page = api_response.next_page\n",
        "        time.sleep(5)\n",
        "    except ApiException as e:\n",
        "        print(\"Exception when calling CompanyApi->get_company_news: %s\\r\\n\" % e)\n",
        "        condition = False"
      ],
      "execution_count": null,
      "outputs": [
        {
          "output_type": "stream",
          "text": [
            "Exception when calling CompanyApi->get_company_news: (502)\n",
            "Reason: Bad Gateway\n",
            "HTTP response headers: HTTPHeaderDict({'Server': 'awselb/2.0', 'Date': 'Tue, 23 Feb 2021 04:58:14 GMT', 'Content-Type': 'text/html', 'Content-Length': '122', 'Connection': 'keep-alive'})\n",
            "HTTP response body: <html>\r\n",
            "<head><title>502 Bad Gateway</title></head>\r\n",
            "<body>\r\n",
            "<center><h1>502 Bad Gateway</h1></center>\r\n",
            "</body>\r\n",
            "</html>\r\n",
            "\n",
            "\r\n",
            "\n"
          ],
          "name": "stdout"
        }
      ]
    },
    {
      "cell_type": "code",
      "metadata": {
        "colab": {
          "background_save": true
        },
        "id": "-qC7h5U1HTVt"
      },
      "source": [
        "#Extract URL, Title, Date and Summary of each piece of News\n",
        "url_list = []\n",
        "title_list = []\n",
        "date_list = []\n",
        "summary_list = []\n",
        "\n",
        "cnt = 0\n",
        "last = ''\n",
        "\n",
        "for page_100 in api_response_list:\n",
        "    for article in page_100.news:\n",
        "        \n",
        "        if last == article.title:\n",
        "            cnt+= 1\n",
        "            pass \n",
        "        last = article.title\n",
        "        \n",
        "        \n",
        "        url_list.append(article.url)\n",
        "        title_list.append(article.title)\n",
        "        date_list.append(article.publication_date)\n",
        "        summary_list.append(article.summary)"
      ],
      "execution_count": null,
      "outputs": []
    },
    {
      "cell_type": "code",
      "metadata": {
        "colab": {
          "background_save": true
        },
        "id": "jgCbYTjMHULP"
      },
      "source": [
        "#Assigning news to dates within stock trading hours\n",
        "#If news was released after 4pm (when the stock market closes), the news affects next day's stock price\n",
        "from datetime import timedelta\n",
        "new_date = []\n",
        "for date_item in date_list:\n",
        "    if date_item.hour < 15:\n",
        "        new_date.append(date_item)\n",
        "    elif date_item.hour > 16:\n",
        "        new_date.append(date_item - timedelta(days=1))\n",
        "    else:\n",
        "        new_date.append(np.nan)"
      ],
      "execution_count": null,
      "outputs": []
    },
    {
      "cell_type": "code",
      "metadata": {
        "colab": {
          "background_save": true
        },
        "id": "4r8PztFjHXwW"
      },
      "source": [
        "#Dataframe with each New's URL, Title, Date and Summary\n",
        "new_df = pd.DataFrame ({'url':url_list,\n",
        "                       'title':title_list,\n",
        "                       'date':new_date,\n",
        "                       'summary':summary_list})"
      ],
      "execution_count": null,
      "outputs": []
    },
    {
      "cell_type": "code",
      "metadata": {
        "colab": {
          "base_uri": "https://localhost:8080/",
          "height": 289
        },
        "id": "xNXgthIVHoUR",
        "outputId": "3dcb1709-2354-4394-8a8b-7805d75c82c6"
      },
      "source": [
        "new_df.head()"
      ],
      "execution_count": null,
      "outputs": [
        {
          "output_type": "execute_result",
          "data": {
            "text/html": [
              "<div>\n",
              "<style scoped>\n",
              "    .dataframe tbody tr th:only-of-type {\n",
              "        vertical-align: middle;\n",
              "    }\n",
              "\n",
              "    .dataframe tbody tr th {\n",
              "        vertical-align: top;\n",
              "    }\n",
              "\n",
              "    .dataframe thead th {\n",
              "        text-align: right;\n",
              "    }\n",
              "</style>\n",
              "<table border=\"1\" class=\"dataframe\">\n",
              "  <thead>\n",
              "    <tr style=\"text-align: right;\">\n",
              "      <th></th>\n",
              "      <th>url</th>\n",
              "      <th>title</th>\n",
              "      <th>date</th>\n",
              "      <th>summary</th>\n",
              "    </tr>\n",
              "  </thead>\n",
              "  <tbody>\n",
              "    <tr>\n",
              "      <th>0</th>\n",
              "      <td>https://www.nasdaq.com/articles/microsoft-is-b...</td>\n",
              "      <td>Microsoft Is Bringing Xbox Game Pass to iOS, b...</td>\n",
              "      <td>2020-10-08 18:25:00+00:00</td>\n",
              "      <td>\\nLast month, Microsoft (NASDAQ: MSFT) announc...</td>\n",
              "    </tr>\n",
              "    <tr>\n",
              "      <th>1</th>\n",
              "      <td>https://www.nasdaq.com/articles/us-stocks-sp-5...</td>\n",
              "      <td>US STOCKS-S&amp;P 500, Dow track second straight w...</td>\n",
              "      <td>2020-10-08 17:34:06+00:00</td>\n",
              "      <td>Wall Street's main indexes rose on Friday, set...</td>\n",
              "    </tr>\n",
              "    <tr>\n",
              "      <th>2</th>\n",
              "      <td>https://www.nasdaq.com/articles/3-top-5g-stock...</td>\n",
              "      <td>3 Top 5G Stocks to Buy Right Now</td>\n",
              "      <td>NaT</td>\n",
              "      <td>The expansion of 5G networks, which are up to ...</td>\n",
              "    </tr>\n",
              "    <tr>\n",
              "      <th>3</th>\n",
              "      <td>https://www.nasdaq.com/articles/microsoft-take...</td>\n",
              "      <td>Microsoft Takes Shots at Apple in New App Stor...</td>\n",
              "      <td>2020-10-09 14:00:00+00:00</td>\n",
              "      <td>\\nAntitrust scrutiny of dominant app stores, s...</td>\n",
              "    </tr>\n",
              "    <tr>\n",
              "      <th>4</th>\n",
              "      <td>https://www.nasdaq.com/articles/pre-market-mos...</td>\n",
              "      <td>Pre-Market Most Active for Oct 9, 2020 :  MVIS...</td>\n",
              "      <td>2020-10-09 12:28:59+00:00</td>\n",
              "      <td>The NASDAQ 100 Pre-Market Indicator is up 47.7...</td>\n",
              "    </tr>\n",
              "  </tbody>\n",
              "</table>\n",
              "</div>"
            ],
            "text/plain": [
              "                                                 url  ...                                            summary\n",
              "0  https://www.nasdaq.com/articles/microsoft-is-b...  ...  \\nLast month, Microsoft (NASDAQ: MSFT) announc...\n",
              "1  https://www.nasdaq.com/articles/us-stocks-sp-5...  ...  Wall Street's main indexes rose on Friday, set...\n",
              "2  https://www.nasdaq.com/articles/3-top-5g-stock...  ...  The expansion of 5G networks, which are up to ...\n",
              "3  https://www.nasdaq.com/articles/microsoft-take...  ...  \\nAntitrust scrutiny of dominant app stores, s...\n",
              "4  https://www.nasdaq.com/articles/pre-market-mos...  ...  The NASDAQ 100 Pre-Market Indicator is up 47.7...\n",
              "\n",
              "[5 rows x 4 columns]"
            ]
          },
          "metadata": {
            "tags": []
          },
          "execution_count": 12
        }
      ]
    },
    {
      "cell_type": "code",
      "metadata": {
        "id": "_3UaD3GsJJRg"
      },
      "source": [
        "#Extracting the News Headlines and Date\n",
        "Int_titles = new_df['date','title']\n",
        "Int_titles = Int_titles.to_frame()"
      ],
      "execution_count": null,
      "outputs": []
    },
    {
      "cell_type": "code",
      "metadata": {
        "id": "_9m1onp7JVOb"
      },
      "source": [
        "Int_titles.to_csv('/content/drive/MyDrive/Colab Notebooks/BERT + STOCK /Intrinio_Titles_Data.csv')"
      ],
      "execution_count": null,
      "outputs": []
    }
  ]
}