{
  "nbformat": 4,
  "nbformat_minor": 0,
  "metadata": {
    "colab": {
      "name": "8) Model Comparison using T-Test.ipynb",
      "provenance": []
    },
    "kernelspec": {
      "name": "python3",
      "display_name": "Python 3"
    },
    "language_info": {
      "name": "python"
    }
  },
  "cells": [
    {
      "cell_type": "code",
      "metadata": {
        "id": "S0Jor6siV0wg"
      },
      "source": [
        "from scipy import stats"
      ],
      "execution_count": null,
      "outputs": []
    },
    {
      "cell_type": "code",
      "metadata": {
        "id": "1FMzWZWgV9dt"
      },
      "source": [
        "LSTM= [0.8376480501849164, 0.8376480501849276]\n",
        "MLP = [0.8850709236458967, 0.8750709236458967]\n",
        "XGBoost = [0.8926548382566359, 0.8726548382566359]"
      ],
      "execution_count": null,
      "outputs": []
    },
    {
      "cell_type": "code",
      "metadata": {
        "colab": {
          "base_uri": "https://localhost:8080/"
        },
        "id": "-NZM_AjHV5Bv",
        "outputId": "47a7d222-07c9-4b6f-9f27-8d11bccf1d13"
      },
      "source": [
        "stats.ttest_rel(LSTM,MLP)"
      ],
      "execution_count": null,
      "outputs": [
        {
          "output_type": "execute_result",
          "data": {
            "text/plain": [
              "Ttest_relResult(statistic=-8.484574692185413, pvalue=0.07468804490095644)"
            ]
          },
          "metadata": {
            "tags": []
          },
          "execution_count": 5
        }
      ]
    },
    {
      "cell_type": "code",
      "metadata": {
        "colab": {
          "base_uri": "https://localhost:8080/"
        },
        "id": "A7IuANrBgq_y",
        "outputId": "4f01d8d9-1417-49df-ed19-954e3f47db2c"
      },
      "source": [
        "stats.ttest_rel(LSTM,XGBoost)"
      ],
      "execution_count": null,
      "outputs": [
        {
          "output_type": "execute_result",
          "data": {
            "text/plain": [
              "Ttest_relResult(statistic=-4.500678807168866, pvalue=0.139188641371784)"
            ]
          },
          "metadata": {
            "tags": []
          },
          "execution_count": 6
        }
      ]
    },
    {
      "cell_type": "code",
      "metadata": {
        "id": "rpXVjja0hNUY",
        "colab": {
          "base_uri": "https://localhost:8080/"
        },
        "outputId": "909ee070-e9c4-4b85-f8b4-e4f9d128abbd"
      },
      "source": [
        "stats.ttest_rel(MLP,XGBoost)"
      ],
      "execution_count": null,
      "outputs": [
        {
          "output_type": "execute_result",
          "data": {
            "text/plain": [
              "Ttest_relResult(statistic=-0.516782922147851, pvalue=0.6963427939709242)"
            ]
          },
          "metadata": {
            "tags": []
          },
          "execution_count": 7
        }
      ]
    }
  ]
}