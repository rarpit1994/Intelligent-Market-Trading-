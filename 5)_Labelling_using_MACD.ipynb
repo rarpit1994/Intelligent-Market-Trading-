{
  "nbformat": 4,
  "nbformat_minor": 0,
  "metadata": {
    "colab": {
      "name": "5) Labelling using MACD.ipynb",
      "provenance": []
    },
    "kernelspec": {
      "name": "python3",
      "display_name": "Python 3"
    }
  },
  "cells": [
    {
      "cell_type": "code",
      "metadata": {
        "id": "GP9JTPmEvYzt"
      },
      "source": [
        "import pandas as pd\n",
        "import numpy as np"
      ],
      "execution_count": null,
      "outputs": []
    },
    {
      "cell_type": "code",
      "metadata": {
        "id": "O-vvJBllviyM"
      },
      "source": [
        "data = pd.read_csv('/content/drive/MyDrive/BERT + STOCK /Merged_App_News_MACD.csv')"
      ],
      "execution_count": null,
      "outputs": []
    },
    {
      "cell_type": "code",
      "metadata": {
        "colab": {
          "base_uri": "https://localhost:8080/",
          "height": 204
        },
        "id": "0ekPlN1h-2Rd",
        "outputId": "2c87f68f-a99c-40cc-d4da-5010489d0c5f"
      },
      "source": [
        "data.head()"
      ],
      "execution_count": null,
      "outputs": [
        {
          "output_type": "execute_result",
          "data": {
            "text/html": [
              "<div>\n",
              "<style scoped>\n",
              "    .dataframe tbody tr th:only-of-type {\n",
              "        vertical-align: middle;\n",
              "    }\n",
              "\n",
              "    .dataframe tbody tr th {\n",
              "        vertical-align: top;\n",
              "    }\n",
              "\n",
              "    .dataframe thead th {\n",
              "        text-align: right;\n",
              "    }\n",
              "</style>\n",
              "<table border=\"1\" class=\"dataframe\">\n",
              "  <thead>\n",
              "    <tr style=\"text-align: right;\">\n",
              "      <th></th>\n",
              "      <th>date</th>\n",
              "      <th>title</th>\n",
              "      <th>close</th>\n",
              "      <th>high</th>\n",
              "      <th>low</th>\n",
              "      <th>open</th>\n",
              "      <th>macd</th>\n",
              "      <th>macds</th>\n",
              "      <th>macdh</th>\n",
              "    </tr>\n",
              "  </thead>\n",
              "  <tbody>\n",
              "    <tr>\n",
              "      <th>0</th>\n",
              "      <td>2020-10-08</td>\n",
              "      <td>Microsoft Is Bringing Xbox Game Pass to iOS, b...</td>\n",
              "      <td>114.97</td>\n",
              "      <td>116.4</td>\n",
              "      <td>114.5901</td>\n",
              "      <td>116.25</td>\n",
              "      <td>0.000000</td>\n",
              "      <td>0.000000</td>\n",
              "      <td>0.000000</td>\n",
              "    </tr>\n",
              "    <tr>\n",
              "      <th>1</th>\n",
              "      <td>2020-10-08</td>\n",
              "      <td>US STOCKS-S&amp;P 500, Dow track second straight w...</td>\n",
              "      <td>114.97</td>\n",
              "      <td>116.4</td>\n",
              "      <td>114.5901</td>\n",
              "      <td>116.25</td>\n",
              "      <td>0.000000</td>\n",
              "      <td>0.000000</td>\n",
              "      <td>0.000000</td>\n",
              "    </tr>\n",
              "    <tr>\n",
              "      <th>2</th>\n",
              "      <td>2020-10-08</td>\n",
              "      <td>RPT-U.S. explores restrictions on Ant Group, T...</td>\n",
              "      <td>114.97</td>\n",
              "      <td>116.4</td>\n",
              "      <td>114.5901</td>\n",
              "      <td>116.25</td>\n",
              "      <td>0.000000</td>\n",
              "      <td>0.000000</td>\n",
              "      <td>0.000000</td>\n",
              "    </tr>\n",
              "    <tr>\n",
              "      <th>3</th>\n",
              "      <td>2020-10-09</td>\n",
              "      <td>Microsoft Takes Shots at Apple in New App Stor...</td>\n",
              "      <td>116.97</td>\n",
              "      <td>117.0</td>\n",
              "      <td>114.9200</td>\n",
              "      <td>115.28</td>\n",
              "      <td>0.095016</td>\n",
              "      <td>0.050675</td>\n",
              "      <td>0.044341</td>\n",
              "    </tr>\n",
              "    <tr>\n",
              "      <th>4</th>\n",
              "      <td>2020-10-09</td>\n",
              "      <td>Pre-Market Most Active for Oct 9, 2020 :  MVIS...</td>\n",
              "      <td>116.97</td>\n",
              "      <td>117.0</td>\n",
              "      <td>114.9200</td>\n",
              "      <td>115.28</td>\n",
              "      <td>0.132414</td>\n",
              "      <td>0.092863</td>\n",
              "      <td>0.039551</td>\n",
              "    </tr>\n",
              "  </tbody>\n",
              "</table>\n",
              "</div>"
            ],
            "text/plain": [
              "         date  ...     macdh\n",
              "0  2020-10-08  ...  0.000000\n",
              "1  2020-10-08  ...  0.000000\n",
              "2  2020-10-08  ...  0.000000\n",
              "3  2020-10-09  ...  0.044341\n",
              "4  2020-10-09  ...  0.039551\n",
              "\n",
              "[5 rows x 9 columns]"
            ]
          },
          "metadata": {
            "tags": []
          },
          "execution_count": 8
        }
      ]
    },
    {
      "cell_type": "code",
      "metadata": {
        "id": "ZF4yuUs-BP7w"
      },
      "source": [
        "stock_data = pd.read_csv(\"/content/drive/MyDrive/BERT + STOCK /Market_Data_apple.csv\")"
      ],
      "execution_count": null,
      "outputs": []
    },
    {
      "cell_type": "code",
      "metadata": {
        "colab": {
          "base_uri": "https://localhost:8080/",
          "height": 204
        },
        "id": "J9_TdJAVBaKS",
        "outputId": "095291ac-5883-42a3-e6de-d54c4d215b40"
      },
      "source": [
        "stock_data.head()"
      ],
      "execution_count": null,
      "outputs": [
        {
          "output_type": "execute_result",
          "data": {
            "text/html": [
              "<div>\n",
              "<style scoped>\n",
              "    .dataframe tbody tr th:only-of-type {\n",
              "        vertical-align: middle;\n",
              "    }\n",
              "\n",
              "    .dataframe tbody tr th {\n",
              "        vertical-align: top;\n",
              "    }\n",
              "\n",
              "    .dataframe thead th {\n",
              "        text-align: right;\n",
              "    }\n",
              "</style>\n",
              "<table border=\"1\" class=\"dataframe\">\n",
              "  <thead>\n",
              "    <tr style=\"text-align: right;\">\n",
              "      <th></th>\n",
              "      <th>Unnamed: 0</th>\n",
              "      <th>close</th>\n",
              "      <th>high</th>\n",
              "      <th>low</th>\n",
              "      <th>open</th>\n",
              "      <th>date</th>\n",
              "    </tr>\n",
              "  </thead>\n",
              "  <tbody>\n",
              "    <tr>\n",
              "      <th>0</th>\n",
              "      <td>0</td>\n",
              "      <td>124.40</td>\n",
              "      <td>125.18</td>\n",
              "      <td>119.2845</td>\n",
              "      <td>120.06</td>\n",
              "      <td>2020-10-12</td>\n",
              "    </tr>\n",
              "    <tr>\n",
              "      <th>1</th>\n",
              "      <td>1</td>\n",
              "      <td>116.97</td>\n",
              "      <td>117.00</td>\n",
              "      <td>114.9200</td>\n",
              "      <td>115.28</td>\n",
              "      <td>2020-10-09</td>\n",
              "    </tr>\n",
              "    <tr>\n",
              "      <th>2</th>\n",
              "      <td>2</td>\n",
              "      <td>114.97</td>\n",
              "      <td>116.40</td>\n",
              "      <td>114.5901</td>\n",
              "      <td>116.25</td>\n",
              "      <td>2020-10-08</td>\n",
              "    </tr>\n",
              "    <tr>\n",
              "      <th>3</th>\n",
              "      <td>3</td>\n",
              "      <td>115.08</td>\n",
              "      <td>115.55</td>\n",
              "      <td>114.1300</td>\n",
              "      <td>114.62</td>\n",
              "      <td>2020-10-07</td>\n",
              "    </tr>\n",
              "    <tr>\n",
              "      <th>4</th>\n",
              "      <td>4</td>\n",
              "      <td>113.16</td>\n",
              "      <td>116.12</td>\n",
              "      <td>112.2500</td>\n",
              "      <td>115.70</td>\n",
              "      <td>2020-10-06</td>\n",
              "    </tr>\n",
              "  </tbody>\n",
              "</table>\n",
              "</div>"
            ],
            "text/plain": [
              "   Unnamed: 0   close    high       low    open        date\n",
              "0           0  124.40  125.18  119.2845  120.06  2020-10-12\n",
              "1           1  116.97  117.00  114.9200  115.28  2020-10-09\n",
              "2           2  114.97  116.40  114.5901  116.25  2020-10-08\n",
              "3           3  115.08  115.55  114.1300  114.62  2020-10-07\n",
              "4           4  113.16  116.12  112.2500  115.70  2020-10-06"
            ]
          },
          "metadata": {
            "tags": []
          },
          "execution_count": 117
        }
      ]
    },
    {
      "cell_type": "code",
      "metadata": {
        "id": "TJKgOkAgBenu"
      },
      "source": [
        ""
      ],
      "execution_count": null,
      "outputs": []
    },
    {
      "cell_type": "code",
      "metadata": {
        "id": "WcGaafsF0vzK"
      },
      "source": [
        "data_sample = data.iloc[0:5585]"
      ],
      "execution_count": null,
      "outputs": []
    },
    {
      "cell_type": "code",
      "metadata": {
        "colab": {
          "base_uri": "https://localhost:8080/",
          "height": 204
        },
        "id": "Rf8BcCx203mT",
        "outputId": "383df2fb-7085-4f92-8d6c-dc1150eb87d9"
      },
      "source": [
        "data_sample.head()"
      ],
      "execution_count": null,
      "outputs": [
        {
          "output_type": "execute_result",
          "data": {
            "text/html": [
              "<div>\n",
              "<style scoped>\n",
              "    .dataframe tbody tr th:only-of-type {\n",
              "        vertical-align: middle;\n",
              "    }\n",
              "\n",
              "    .dataframe tbody tr th {\n",
              "        vertical-align: top;\n",
              "    }\n",
              "\n",
              "    .dataframe thead th {\n",
              "        text-align: right;\n",
              "    }\n",
              "</style>\n",
              "<table border=\"1\" class=\"dataframe\">\n",
              "  <thead>\n",
              "    <tr style=\"text-align: right;\">\n",
              "      <th></th>\n",
              "      <th>date</th>\n",
              "      <th>title</th>\n",
              "      <th>close</th>\n",
              "      <th>high</th>\n",
              "      <th>low</th>\n",
              "      <th>open</th>\n",
              "      <th>macd</th>\n",
              "      <th>macds</th>\n",
              "      <th>macdh</th>\n",
              "    </tr>\n",
              "  </thead>\n",
              "  <tbody>\n",
              "    <tr>\n",
              "      <th>0</th>\n",
              "      <td>2020-10-08</td>\n",
              "      <td>Microsoft Is Bringing Xbox Game Pass to iOS, b...</td>\n",
              "      <td>114.97</td>\n",
              "      <td>116.4</td>\n",
              "      <td>114.5901</td>\n",
              "      <td>116.25</td>\n",
              "      <td>0.000000</td>\n",
              "      <td>0.000000</td>\n",
              "      <td>0.000000</td>\n",
              "    </tr>\n",
              "    <tr>\n",
              "      <th>1</th>\n",
              "      <td>2020-10-08</td>\n",
              "      <td>US STOCKS-S&amp;P 500, Dow track second straight w...</td>\n",
              "      <td>114.97</td>\n",
              "      <td>116.4</td>\n",
              "      <td>114.5901</td>\n",
              "      <td>116.25</td>\n",
              "      <td>0.000000</td>\n",
              "      <td>0.000000</td>\n",
              "      <td>0.000000</td>\n",
              "    </tr>\n",
              "    <tr>\n",
              "      <th>2</th>\n",
              "      <td>2020-10-08</td>\n",
              "      <td>RPT-U.S. explores restrictions on Ant Group, T...</td>\n",
              "      <td>114.97</td>\n",
              "      <td>116.4</td>\n",
              "      <td>114.5901</td>\n",
              "      <td>116.25</td>\n",
              "      <td>0.000000</td>\n",
              "      <td>0.000000</td>\n",
              "      <td>0.000000</td>\n",
              "    </tr>\n",
              "    <tr>\n",
              "      <th>3</th>\n",
              "      <td>2020-10-09</td>\n",
              "      <td>Microsoft Takes Shots at Apple in New App Stor...</td>\n",
              "      <td>116.97</td>\n",
              "      <td>117.0</td>\n",
              "      <td>114.9200</td>\n",
              "      <td>115.28</td>\n",
              "      <td>0.095016</td>\n",
              "      <td>0.050675</td>\n",
              "      <td>0.044341</td>\n",
              "    </tr>\n",
              "    <tr>\n",
              "      <th>4</th>\n",
              "      <td>2020-10-09</td>\n",
              "      <td>Pre-Market Most Active for Oct 9, 2020 :  MVIS...</td>\n",
              "      <td>116.97</td>\n",
              "      <td>117.0</td>\n",
              "      <td>114.9200</td>\n",
              "      <td>115.28</td>\n",
              "      <td>0.132414</td>\n",
              "      <td>0.092863</td>\n",
              "      <td>0.039551</td>\n",
              "    </tr>\n",
              "  </tbody>\n",
              "</table>\n",
              "</div>"
            ],
            "text/plain": [
              "         date  ...     macdh\n",
              "0  2020-10-08  ...  0.000000\n",
              "1  2020-10-08  ...  0.000000\n",
              "2  2020-10-08  ...  0.000000\n",
              "3  2020-10-09  ...  0.044341\n",
              "4  2020-10-09  ...  0.039551\n",
              "\n",
              "[5 rows x 9 columns]"
            ]
          },
          "metadata": {
            "tags": []
          },
          "execution_count": 67
        }
      ]
    },
    {
      "cell_type": "code",
      "metadata": {
        "colab": {
          "base_uri": "https://localhost:8080/"
        },
        "id": "qQBFe9Rmiy7Q",
        "outputId": "78602220-657c-4e3b-e125-da771b33e8c4"
      },
      "source": [
        "data.columns"
      ],
      "execution_count": null,
      "outputs": [
        {
          "output_type": "execute_result",
          "data": {
            "text/plain": [
              "Index(['date', 'title', 'close', 'high', 'low', 'open', 'macd', 'macds',\n",
              "       'macdh'],\n",
              "      dtype='object')"
            ]
          },
          "metadata": {
            "tags": []
          },
          "execution_count": 68
        }
      ]
    },
    {
      "cell_type": "code",
      "metadata": {
        "id": "jp-zLEzDz3hR"
      },
      "source": [
        "macd = data_sample[['macd','macds']]"
      ],
      "execution_count": null,
      "outputs": []
    },
    {
      "cell_type": "code",
      "metadata": {
        "id": "SzbBDRvanT1k"
      },
      "source": [
        "macd_signal = data[['macds']]"
      ],
      "execution_count": null,
      "outputs": []
    },
    {
      "cell_type": "code",
      "metadata": {
        "colab": {
          "base_uri": "https://localhost:8080/"
        },
        "id": "WE_8C8pnidmd",
        "outputId": "ce96c2dc-0c68-4cfc-eeba-7a22d7e1366f"
      },
      "source": [
        "macd.shape"
      ],
      "execution_count": null,
      "outputs": [
        {
          "output_type": "execute_result",
          "data": {
            "text/plain": [
              "(5585, 2)"
            ]
          },
          "metadata": {
            "tags": []
          },
          "execution_count": 71
        }
      ]
    },
    {
      "cell_type": "code",
      "metadata": {
        "id": "F_bjyUmLiTBD"
      },
      "source": [
        "macd_list = macd.macd.to_list()"
      ],
      "execution_count": null,
      "outputs": []
    },
    {
      "cell_type": "code",
      "metadata": {
        "id": "fNwBa2vJnZtP"
      },
      "source": [
        "macd_signal_list = macd_signal.macds.to_list()"
      ],
      "execution_count": null,
      "outputs": []
    },
    {
      "cell_type": "code",
      "metadata": {
        "colab": {
          "base_uri": "https://localhost:8080/"
        },
        "id": "Tj6mWbKcwQzu",
        "outputId": "fa168645-54ae-4c06-a12c-f03d2ef7461e"
      },
      "source": [
        "macd['Difference'] = macd['macd'] - macd['macds']"
      ],
      "execution_count": null,
      "outputs": [
        {
          "output_type": "stream",
          "text": [
            "/usr/local/lib/python3.7/dist-packages/ipykernel_launcher.py:1: SettingWithCopyWarning: \n",
            "A value is trying to be set on a copy of a slice from a DataFrame.\n",
            "Try using .loc[row_indexer,col_indexer] = value instead\n",
            "\n",
            "See the caveats in the documentation: https://pandas.pydata.org/pandas-docs/stable/user_guide/indexing.html#returning-a-view-versus-a-copy\n",
            "  \"\"\"Entry point for launching an IPython kernel.\n"
          ],
          "name": "stderr"
        }
      ]
    },
    {
      "cell_type": "code",
      "metadata": {
        "colab": {
          "base_uri": "https://localhost:8080/",
          "height": 204
        },
        "id": "ullQwlJhwd5o",
        "outputId": "e418431a-c1ee-4fa7-9167-a4a4cdd68456"
      },
      "source": [
        "macd.head()"
      ],
      "execution_count": null,
      "outputs": [
        {
          "output_type": "execute_result",
          "data": {
            "text/html": [
              "<div>\n",
              "<style scoped>\n",
              "    .dataframe tbody tr th:only-of-type {\n",
              "        vertical-align: middle;\n",
              "    }\n",
              "\n",
              "    .dataframe tbody tr th {\n",
              "        vertical-align: top;\n",
              "    }\n",
              "\n",
              "    .dataframe thead th {\n",
              "        text-align: right;\n",
              "    }\n",
              "</style>\n",
              "<table border=\"1\" class=\"dataframe\">\n",
              "  <thead>\n",
              "    <tr style=\"text-align: right;\">\n",
              "      <th></th>\n",
              "      <th>macd</th>\n",
              "      <th>macds</th>\n",
              "      <th>Difference</th>\n",
              "    </tr>\n",
              "  </thead>\n",
              "  <tbody>\n",
              "    <tr>\n",
              "      <th>0</th>\n",
              "      <td>0.000000</td>\n",
              "      <td>0.000000</td>\n",
              "      <td>0.000000</td>\n",
              "    </tr>\n",
              "    <tr>\n",
              "      <th>1</th>\n",
              "      <td>0.000000</td>\n",
              "      <td>0.000000</td>\n",
              "      <td>0.000000</td>\n",
              "    </tr>\n",
              "    <tr>\n",
              "      <th>2</th>\n",
              "      <td>0.000000</td>\n",
              "      <td>0.000000</td>\n",
              "      <td>0.000000</td>\n",
              "    </tr>\n",
              "    <tr>\n",
              "      <th>3</th>\n",
              "      <td>0.095016</td>\n",
              "      <td>0.050675</td>\n",
              "      <td>0.044341</td>\n",
              "    </tr>\n",
              "    <tr>\n",
              "      <th>4</th>\n",
              "      <td>0.132414</td>\n",
              "      <td>0.092863</td>\n",
              "      <td>0.039551</td>\n",
              "    </tr>\n",
              "  </tbody>\n",
              "</table>\n",
              "</div>"
            ],
            "text/plain": [
              "       macd     macds  Difference\n",
              "0  0.000000  0.000000    0.000000\n",
              "1  0.000000  0.000000    0.000000\n",
              "2  0.000000  0.000000    0.000000\n",
              "3  0.095016  0.050675    0.044341\n",
              "4  0.132414  0.092863    0.039551"
            ]
          },
          "metadata": {
            "tags": []
          },
          "execution_count": 75
        }
      ]
    },
    {
      "cell_type": "code",
      "metadata": {
        "id": "N0kfKD_dwloM"
      },
      "source": [
        "macd_list_difference = macd.Difference.to_list()"
      ],
      "execution_count": null,
      "outputs": []
    },
    {
      "cell_type": "code",
      "metadata": {
        "colab": {
          "base_uri": "https://localhost:8080/"
        },
        "id": "gOrBBERf9NOz",
        "outputId": "64b1d41a-fb80-4d39-9b38-f3473f12d4ee"
      },
      "source": [
        "len(macd_list_difference)"
      ],
      "execution_count": null,
      "outputs": [
        {
          "output_type": "execute_result",
          "data": {
            "text/plain": [
              "5585"
            ]
          },
          "metadata": {
            "tags": []
          },
          "execution_count": 79
        }
      ]
    },
    {
      "cell_type": "code",
      "metadata": {
        "colab": {
          "base_uri": "https://localhost:8080/",
          "height": 204
        },
        "id": "y7CN-ZvprdiD",
        "outputId": "c73ac297-b629-4d76-9384-9223233ab623"
      },
      "source": [
        "label_alt_df = pd.DataFrame(label_alt)\n",
        "label_alt_df = label_alt_df.rename(columns={0:\"Label_Signal\"})\n",
        "label_alt_df.head()"
      ],
      "execution_count": null,
      "outputs": [
        {
          "output_type": "execute_result",
          "data": {
            "text/html": [
              "<div>\n",
              "<style scoped>\n",
              "    .dataframe tbody tr th:only-of-type {\n",
              "        vertical-align: middle;\n",
              "    }\n",
              "\n",
              "    .dataframe tbody tr th {\n",
              "        vertical-align: top;\n",
              "    }\n",
              "\n",
              "    .dataframe thead th {\n",
              "        text-align: right;\n",
              "    }\n",
              "</style>\n",
              "<table border=\"1\" class=\"dataframe\">\n",
              "  <thead>\n",
              "    <tr style=\"text-align: right;\">\n",
              "      <th></th>\n",
              "      <th>Label_Signal</th>\n",
              "    </tr>\n",
              "  </thead>\n",
              "  <tbody>\n",
              "    <tr>\n",
              "      <th>0</th>\n",
              "      <td>Hold</td>\n",
              "    </tr>\n",
              "    <tr>\n",
              "      <th>1</th>\n",
              "      <td>Hold</td>\n",
              "    </tr>\n",
              "    <tr>\n",
              "      <th>2</th>\n",
              "      <td>Hold</td>\n",
              "    </tr>\n",
              "    <tr>\n",
              "      <th>3</th>\n",
              "      <td>Bullish</td>\n",
              "    </tr>\n",
              "    <tr>\n",
              "      <th>4</th>\n",
              "      <td>Bullish</td>\n",
              "    </tr>\n",
              "  </tbody>\n",
              "</table>\n",
              "</div>"
            ],
            "text/plain": [
              "  Label_Signal\n",
              "0         Hold\n",
              "1         Hold\n",
              "2         Hold\n",
              "3      Bullish\n",
              "4      Bullish"
            ]
          },
          "metadata": {
            "tags": []
          },
          "execution_count": 17
        }
      ]
    },
    {
      "cell_type": "code",
      "metadata": {
        "id": "PhhOGM7orvOC"
      },
      "source": [
        "Bullish_data = label_alt_df.loc[label_alt_df['Label_Signal'] == \"Bullish\"] \n",
        "Bearish_data = label_alt_df.loc[label_alt_df['Label_Signal'] == \"Bearish\"] \n",
        "Hold_data = label_alt_df.loc[label_alt_df['Label_Signal'] == \"Hold\"] "
      ],
      "execution_count": null,
      "outputs": []
    },
    {
      "cell_type": "code",
      "metadata": {
        "colab": {
          "base_uri": "https://localhost:8080/",
          "height": 204
        },
        "id": "lUdLSYT8nydN",
        "outputId": "f5d22ea0-38c6-41ac-da10-6335fc0a3b7c"
      },
      "source": [
        "label_signal_df = pd.DataFrame(label_signal)\n",
        "label_signal_df = label_signal_df.rename(columns={0:\"Label_Signal\"})\n",
        "label_signal_df.head()"
      ],
      "execution_count": null,
      "outputs": [
        {
          "output_type": "execute_result",
          "data": {
            "text/html": [
              "<div>\n",
              "<style scoped>\n",
              "    .dataframe tbody tr th:only-of-type {\n",
              "        vertical-align: middle;\n",
              "    }\n",
              "\n",
              "    .dataframe tbody tr th {\n",
              "        vertical-align: top;\n",
              "    }\n",
              "\n",
              "    .dataframe thead th {\n",
              "        text-align: right;\n",
              "    }\n",
              "</style>\n",
              "<table border=\"1\" class=\"dataframe\">\n",
              "  <thead>\n",
              "    <tr style=\"text-align: right;\">\n",
              "      <th></th>\n",
              "      <th>Label_Signal</th>\n",
              "    </tr>\n",
              "  </thead>\n",
              "  <tbody>\n",
              "    <tr>\n",
              "      <th>0</th>\n",
              "      <td>Hold</td>\n",
              "    </tr>\n",
              "    <tr>\n",
              "      <th>1</th>\n",
              "      <td>Hold</td>\n",
              "    </tr>\n",
              "    <tr>\n",
              "      <th>2</th>\n",
              "      <td>Bullish</td>\n",
              "    </tr>\n",
              "    <tr>\n",
              "      <th>3</th>\n",
              "      <td>Hold</td>\n",
              "    </tr>\n",
              "    <tr>\n",
              "      <th>4</th>\n",
              "      <td>Hold</td>\n",
              "    </tr>\n",
              "  </tbody>\n",
              "</table>\n",
              "</div>"
            ],
            "text/plain": [
              "  Label_Signal\n",
              "0         Hold\n",
              "1         Hold\n",
              "2      Bullish\n",
              "3         Hold\n",
              "4         Hold"
            ]
          },
          "metadata": {
            "tags": []
          },
          "execution_count": 44
        }
      ]
    },
    {
      "cell_type": "code",
      "metadata": {
        "colab": {
          "base_uri": "https://localhost:8080/"
        },
        "id": "lLIY9cAgn7q-",
        "outputId": "5b1ea519-b1c5-4f48-cc0a-2ccd53a9ba41"
      },
      "source": [
        "Bullish_data = label_signal_df.loc[label_signal_df['Label_Signal'] == \"Bullish\"] \n",
        "Bullish_data.shape"
      ],
      "execution_count": null,
      "outputs": [
        {
          "output_type": "execute_result",
          "data": {
            "text/plain": [
              "(1, 1)"
            ]
          },
          "metadata": {
            "tags": []
          },
          "execution_count": 45
        }
      ]
    },
    {
      "cell_type": "code",
      "metadata": {
        "colab": {
          "base_uri": "https://localhost:8080/"
        },
        "id": "a1uKuN-JoIkF",
        "outputId": "1d7c0ef1-b63b-4082-fe18-93f976085d2c"
      },
      "source": [
        "Bearish_data = label_signal_df.loc[label_signal_df['Label_Signal'] == \"Bearish\"] \n",
        "Bearish_data.shape"
      ],
      "execution_count": null,
      "outputs": [
        {
          "output_type": "execute_result",
          "data": {
            "text/plain": [
              "(0, 1)"
            ]
          },
          "metadata": {
            "tags": []
          },
          "execution_count": 46
        }
      ]
    },
    {
      "cell_type": "code",
      "metadata": {
        "colab": {
          "base_uri": "https://localhost:8080/"
        },
        "id": "-hbHca7-oKE-",
        "outputId": "c62e4fa5-08c3-4e6c-e135-f0751e9348d6"
      },
      "source": [
        "Hold_data = label_signal_df.loc[label_signal_df['Label_Signal'] == \"Hold\"] \n",
        "Hold_data.shape"
      ],
      "execution_count": null,
      "outputs": [
        {
          "output_type": "execute_result",
          "data": {
            "text/plain": [
              "(50433, 1)"
            ]
          },
          "metadata": {
            "tags": []
          },
          "execution_count": 47
        }
      ]
    },
    {
      "cell_type": "code",
      "metadata": {
        "colab": {
          "base_uri": "https://localhost:8080/"
        },
        "id": "OfsrqZtW-1t8",
        "outputId": "74151307-e210-4c52-ddb7-0bf5fb022257"
      },
      "source": [
        "len(macd_list_difference)"
      ],
      "execution_count": null,
      "outputs": [
        {
          "output_type": "execute_result",
          "data": {
            "text/plain": [
              "5585"
            ]
          },
          "metadata": {
            "tags": []
          },
          "execution_count": 93
        }
      ]
    },
    {
      "cell_type": "code",
      "metadata": {
        "id": "GvH6XnoLxUQE"
      },
      "source": [
        "#for macd label\n",
        "label = []\n",
        "index = 0\n",
        "for i in range(len(macd_list_difference)-1):\n",
        "  if i==5585:\n",
        "    break\n",
        "  current_index = i\n",
        "  next_index = current_index + 1\n",
        "  if (macd_list_difference[i] < 0.00000 and macd_list_difference[next_index]>0.000000):\n",
        "    label.append('Bearish')\n",
        "  elif (macd_list_difference[i] > 0.000000 and macd_list_difference[next_index]<0.000000):\n",
        "    label.append('Bullish')\n",
        "  else:\n",
        "    label.append('Hold')  \n"
      ],
      "execution_count": null,
      "outputs": []
    },
    {
      "cell_type": "code",
      "metadata": {
        "id": "Kw1IJBB2kSiD",
        "colab": {
          "base_uri": "https://localhost:8080/",
          "height": 204
        },
        "outputId": "38b668f0-8d2a-4116-ee2a-748fc908235e"
      },
      "source": [
        "label_df = pd.DataFrame(label)\n",
        "label_df = label_df.rename(columns={0:\"Label\"})\n",
        "label_df.head()"
      ],
      "execution_count": null,
      "outputs": [
        {
          "output_type": "execute_result",
          "data": {
            "text/html": [
              "<div>\n",
              "<style scoped>\n",
              "    .dataframe tbody tr th:only-of-type {\n",
              "        vertical-align: middle;\n",
              "    }\n",
              "\n",
              "    .dataframe tbody tr th {\n",
              "        vertical-align: top;\n",
              "    }\n",
              "\n",
              "    .dataframe thead th {\n",
              "        text-align: right;\n",
              "    }\n",
              "</style>\n",
              "<table border=\"1\" class=\"dataframe\">\n",
              "  <thead>\n",
              "    <tr style=\"text-align: right;\">\n",
              "      <th></th>\n",
              "      <th>Label</th>\n",
              "    </tr>\n",
              "  </thead>\n",
              "  <tbody>\n",
              "    <tr>\n",
              "      <th>0</th>\n",
              "      <td>Hold</td>\n",
              "    </tr>\n",
              "    <tr>\n",
              "      <th>1</th>\n",
              "      <td>Hold</td>\n",
              "    </tr>\n",
              "    <tr>\n",
              "      <th>2</th>\n",
              "      <td>Hold</td>\n",
              "    </tr>\n",
              "    <tr>\n",
              "      <th>3</th>\n",
              "      <td>Hold</td>\n",
              "    </tr>\n",
              "    <tr>\n",
              "      <th>4</th>\n",
              "      <td>Hold</td>\n",
              "    </tr>\n",
              "  </tbody>\n",
              "</table>\n",
              "</div>"
            ],
            "text/plain": [
              "  Label\n",
              "0  Hold\n",
              "1  Hold\n",
              "2  Hold\n",
              "3  Hold\n",
              "4  Hold"
            ]
          },
          "metadata": {
            "tags": []
          },
          "execution_count": 108
        }
      ]
    },
    {
      "cell_type": "code",
      "metadata": {
        "id": "MaX4bOmZlDOF"
      },
      "source": [
        "label_data = pd.merge(data, label_df, left_index=True, right_index=True)"
      ],
      "execution_count": null,
      "outputs": []
    },
    {
      "cell_type": "code",
      "metadata": {
        "colab": {
          "base_uri": "https://localhost:8080/"
        },
        "id": "pM4hDcc0lZbI",
        "outputId": "f084823a-a0b3-468a-8727-d7d92958539f"
      },
      "source": [
        "label_data.shape"
      ],
      "execution_count": null,
      "outputs": [
        {
          "output_type": "execute_result",
          "data": {
            "text/plain": [
              "(5584, 10)"
            ]
          },
          "metadata": {
            "tags": []
          },
          "execution_count": 110
        }
      ]
    },
    {
      "cell_type": "code",
      "metadata": {
        "colab": {
          "base_uri": "https://localhost:8080/",
          "height": 359
        },
        "id": "GiZkRcldlbRw",
        "outputId": "86898e7d-73f4-4fe7-c922-00fb1651a672"
      },
      "source": [
        "label_data.head(10)"
      ],
      "execution_count": null,
      "outputs": [
        {
          "output_type": "execute_result",
          "data": {
            "text/html": [
              "<div>\n",
              "<style scoped>\n",
              "    .dataframe tbody tr th:only-of-type {\n",
              "        vertical-align: middle;\n",
              "    }\n",
              "\n",
              "    .dataframe tbody tr th {\n",
              "        vertical-align: top;\n",
              "    }\n",
              "\n",
              "    .dataframe thead th {\n",
              "        text-align: right;\n",
              "    }\n",
              "</style>\n",
              "<table border=\"1\" class=\"dataframe\">\n",
              "  <thead>\n",
              "    <tr style=\"text-align: right;\">\n",
              "      <th></th>\n",
              "      <th>date</th>\n",
              "      <th>title</th>\n",
              "      <th>close</th>\n",
              "      <th>high</th>\n",
              "      <th>low</th>\n",
              "      <th>open</th>\n",
              "      <th>macd</th>\n",
              "      <th>macds</th>\n",
              "      <th>macdh</th>\n",
              "      <th>Label</th>\n",
              "    </tr>\n",
              "  </thead>\n",
              "  <tbody>\n",
              "    <tr>\n",
              "      <th>0</th>\n",
              "      <td>2020-10-08</td>\n",
              "      <td>Microsoft Is Bringing Xbox Game Pass to iOS, b...</td>\n",
              "      <td>114.97</td>\n",
              "      <td>116.4</td>\n",
              "      <td>114.5901</td>\n",
              "      <td>116.25</td>\n",
              "      <td>0.000000</td>\n",
              "      <td>0.000000</td>\n",
              "      <td>0.000000</td>\n",
              "      <td>Hold</td>\n",
              "    </tr>\n",
              "    <tr>\n",
              "      <th>1</th>\n",
              "      <td>2020-10-08</td>\n",
              "      <td>US STOCKS-S&amp;P 500, Dow track second straight w...</td>\n",
              "      <td>114.97</td>\n",
              "      <td>116.4</td>\n",
              "      <td>114.5901</td>\n",
              "      <td>116.25</td>\n",
              "      <td>0.000000</td>\n",
              "      <td>0.000000</td>\n",
              "      <td>0.000000</td>\n",
              "      <td>Hold</td>\n",
              "    </tr>\n",
              "    <tr>\n",
              "      <th>2</th>\n",
              "      <td>2020-10-08</td>\n",
              "      <td>RPT-U.S. explores restrictions on Ant Group, T...</td>\n",
              "      <td>114.97</td>\n",
              "      <td>116.4</td>\n",
              "      <td>114.5901</td>\n",
              "      <td>116.25</td>\n",
              "      <td>0.000000</td>\n",
              "      <td>0.000000</td>\n",
              "      <td>0.000000</td>\n",
              "      <td>Hold</td>\n",
              "    </tr>\n",
              "    <tr>\n",
              "      <th>3</th>\n",
              "      <td>2020-10-09</td>\n",
              "      <td>Microsoft Takes Shots at Apple in New App Stor...</td>\n",
              "      <td>116.97</td>\n",
              "      <td>117.0</td>\n",
              "      <td>114.9200</td>\n",
              "      <td>115.28</td>\n",
              "      <td>0.095016</td>\n",
              "      <td>0.050675</td>\n",
              "      <td>0.044341</td>\n",
              "      <td>Hold</td>\n",
              "    </tr>\n",
              "    <tr>\n",
              "      <th>4</th>\n",
              "      <td>2020-10-09</td>\n",
              "      <td>Pre-Market Most Active for Oct 9, 2020 :  MVIS...</td>\n",
              "      <td>116.97</td>\n",
              "      <td>117.0</td>\n",
              "      <td>114.9200</td>\n",
              "      <td>115.28</td>\n",
              "      <td>0.132414</td>\n",
              "      <td>0.092863</td>\n",
              "      <td>0.039551</td>\n",
              "      <td>Hold</td>\n",
              "    </tr>\n",
              "    <tr>\n",
              "      <th>5</th>\n",
              "      <td>2020-10-09</td>\n",
              "      <td>Is Ecolab Stock a Buy?</td>\n",
              "      <td>116.97</td>\n",
              "      <td>117.0</td>\n",
              "      <td>114.9200</td>\n",
              "      <td>115.28</td>\n",
              "      <td>0.143061</td>\n",
              "      <td>0.118360</td>\n",
              "      <td>0.024700</td>\n",
              "      <td>Hold</td>\n",
              "    </tr>\n",
              "    <tr>\n",
              "      <th>6</th>\n",
              "      <td>2020-10-09</td>\n",
              "      <td>Should Tech Investors Worry About Antitrust?</td>\n",
              "      <td>116.97</td>\n",
              "      <td>117.0</td>\n",
              "      <td>114.9200</td>\n",
              "      <td>115.28</td>\n",
              "      <td>0.140288</td>\n",
              "      <td>0.129411</td>\n",
              "      <td>0.010878</td>\n",
              "      <td>Hold</td>\n",
              "    </tr>\n",
              "    <tr>\n",
              "      <th>7</th>\n",
              "      <td>2020-10-09</td>\n",
              "      <td>Verizon, Qualcomm, Qorvo: Stocks To Watch As A...</td>\n",
              "      <td>116.97</td>\n",
              "      <td>117.0</td>\n",
              "      <td>114.9200</td>\n",
              "      <td>115.28</td>\n",
              "      <td>0.130761</td>\n",
              "      <td>0.130089</td>\n",
              "      <td>0.000673</td>\n",
              "      <td>Bullish</td>\n",
              "    </tr>\n",
              "    <tr>\n",
              "      <th>8</th>\n",
              "      <td>2020-10-09</td>\n",
              "      <td>Tesla Can Post Apple-Like Margins. Here's How.</td>\n",
              "      <td>116.97</td>\n",
              "      <td>117.0</td>\n",
              "      <td>114.9200</td>\n",
              "      <td>115.28</td>\n",
              "      <td>0.118109</td>\n",
              "      <td>0.124087</td>\n",
              "      <td>-0.005978</td>\n",
              "      <td>Hold</td>\n",
              "    </tr>\n",
              "    <tr>\n",
              "      <th>9</th>\n",
              "      <td>2020-10-09</td>\n",
              "      <td>Tesla's Expenses: Operating Cost Controls, Imp...</td>\n",
              "      <td>116.97</td>\n",
              "      <td>117.0</td>\n",
              "      <td>114.9200</td>\n",
              "      <td>115.28</td>\n",
              "      <td>0.104399</td>\n",
              "      <td>0.114234</td>\n",
              "      <td>-0.009834</td>\n",
              "      <td>Hold</td>\n",
              "    </tr>\n",
              "  </tbody>\n",
              "</table>\n",
              "</div>"
            ],
            "text/plain": [
              "         date  ...    Label\n",
              "0  2020-10-08  ...     Hold\n",
              "1  2020-10-08  ...     Hold\n",
              "2  2020-10-08  ...     Hold\n",
              "3  2020-10-09  ...     Hold\n",
              "4  2020-10-09  ...     Hold\n",
              "5  2020-10-09  ...     Hold\n",
              "6  2020-10-09  ...     Hold\n",
              "7  2020-10-09  ...  Bullish\n",
              "8  2020-10-09  ...     Hold\n",
              "9  2020-10-09  ...     Hold\n",
              "\n",
              "[10 rows x 10 columns]"
            ]
          },
          "metadata": {
            "tags": []
          },
          "execution_count": 111
        }
      ]
    },
    {
      "cell_type": "code",
      "metadata": {
        "id": "Y_JYxmqPlhAi",
        "colab": {
          "base_uri": "https://localhost:8080/"
        },
        "outputId": "b3008210-4b0e-4d6d-e69e-44ccc9394f08"
      },
      "source": [
        "Bullish_data = label_data.loc[label_data['Label'] == \"Bullish\"] \n",
        "Bullish_data.shape"
      ],
      "execution_count": null,
      "outputs": [
        {
          "output_type": "execute_result",
          "data": {
            "text/plain": [
              "(131, 10)"
            ]
          },
          "metadata": {
            "tags": []
          },
          "execution_count": 112
        }
      ]
    },
    {
      "cell_type": "code",
      "metadata": {
        "id": "TVrykfXAmJFQ",
        "colab": {
          "base_uri": "https://localhost:8080/"
        },
        "outputId": "05440345-4472-47eb-9b6c-e5ecaa011edc"
      },
      "source": [
        "Bearish_data = label_data.loc[label_data['Label'] == \"Bearish\"] \n",
        "Bearish_data.shape"
      ],
      "execution_count": null,
      "outputs": [
        {
          "output_type": "execute_result",
          "data": {
            "text/plain": [
              "(130, 10)"
            ]
          },
          "metadata": {
            "tags": []
          },
          "execution_count": 113
        }
      ]
    },
    {
      "cell_type": "code",
      "metadata": {
        "id": "NKeIVj_umTTG",
        "colab": {
          "base_uri": "https://localhost:8080/"
        },
        "outputId": "7696a4d7-092f-4411-f89d-a195709cc9c2"
      },
      "source": [
        "Hold_data = label_data.loc[label_data['Label'] == \"Hold\"]\n",
        "Hold_data.shape"
      ],
      "execution_count": null,
      "outputs": [
        {
          "output_type": "execute_result",
          "data": {
            "text/plain": [
              "(5323, 10)"
            ]
          },
          "metadata": {
            "tags": []
          },
          "execution_count": 114
        }
      ]
    },
    {
      "cell_type": "code",
      "metadata": {
        "colab": {
          "base_uri": "https://localhost:8080/",
          "height": 669
        },
        "id": "rLisUYaPADpR",
        "outputId": "7eeab3b8-8b07-4779-d571-92de30454625"
      },
      "source": [
        "label_data.head(20)"
      ],
      "execution_count": null,
      "outputs": [
        {
          "output_type": "execute_result",
          "data": {
            "text/html": [
              "<div>\n",
              "<style scoped>\n",
              "    .dataframe tbody tr th:only-of-type {\n",
              "        vertical-align: middle;\n",
              "    }\n",
              "\n",
              "    .dataframe tbody tr th {\n",
              "        vertical-align: top;\n",
              "    }\n",
              "\n",
              "    .dataframe thead th {\n",
              "        text-align: right;\n",
              "    }\n",
              "</style>\n",
              "<table border=\"1\" class=\"dataframe\">\n",
              "  <thead>\n",
              "    <tr style=\"text-align: right;\">\n",
              "      <th></th>\n",
              "      <th>date</th>\n",
              "      <th>title</th>\n",
              "      <th>close</th>\n",
              "      <th>high</th>\n",
              "      <th>low</th>\n",
              "      <th>open</th>\n",
              "      <th>macd</th>\n",
              "      <th>macds</th>\n",
              "      <th>macdh</th>\n",
              "      <th>Label</th>\n",
              "    </tr>\n",
              "  </thead>\n",
              "  <tbody>\n",
              "    <tr>\n",
              "      <th>0</th>\n",
              "      <td>2020-10-08</td>\n",
              "      <td>Microsoft Is Bringing Xbox Game Pass to iOS, b...</td>\n",
              "      <td>114.97</td>\n",
              "      <td>116.40</td>\n",
              "      <td>114.5901</td>\n",
              "      <td>116.25</td>\n",
              "      <td>0.000000</td>\n",
              "      <td>0.000000</td>\n",
              "      <td>0.000000</td>\n",
              "      <td>Hold</td>\n",
              "    </tr>\n",
              "    <tr>\n",
              "      <th>1</th>\n",
              "      <td>2020-10-08</td>\n",
              "      <td>US STOCKS-S&amp;P 500, Dow track second straight w...</td>\n",
              "      <td>114.97</td>\n",
              "      <td>116.40</td>\n",
              "      <td>114.5901</td>\n",
              "      <td>116.25</td>\n",
              "      <td>0.000000</td>\n",
              "      <td>0.000000</td>\n",
              "      <td>0.000000</td>\n",
              "      <td>Hold</td>\n",
              "    </tr>\n",
              "    <tr>\n",
              "      <th>2</th>\n",
              "      <td>2020-10-08</td>\n",
              "      <td>RPT-U.S. explores restrictions on Ant Group, T...</td>\n",
              "      <td>114.97</td>\n",
              "      <td>116.40</td>\n",
              "      <td>114.5901</td>\n",
              "      <td>116.25</td>\n",
              "      <td>0.000000</td>\n",
              "      <td>0.000000</td>\n",
              "      <td>0.000000</td>\n",
              "      <td>Hold</td>\n",
              "    </tr>\n",
              "    <tr>\n",
              "      <th>3</th>\n",
              "      <td>2020-10-09</td>\n",
              "      <td>Microsoft Takes Shots at Apple in New App Stor...</td>\n",
              "      <td>116.97</td>\n",
              "      <td>117.00</td>\n",
              "      <td>114.9200</td>\n",
              "      <td>115.28</td>\n",
              "      <td>0.095016</td>\n",
              "      <td>0.050675</td>\n",
              "      <td>0.044341</td>\n",
              "      <td>Hold</td>\n",
              "    </tr>\n",
              "    <tr>\n",
              "      <th>4</th>\n",
              "      <td>2020-10-09</td>\n",
              "      <td>Pre-Market Most Active for Oct 9, 2020 :  MVIS...</td>\n",
              "      <td>116.97</td>\n",
              "      <td>117.00</td>\n",
              "      <td>114.9200</td>\n",
              "      <td>115.28</td>\n",
              "      <td>0.132414</td>\n",
              "      <td>0.092863</td>\n",
              "      <td>0.039551</td>\n",
              "      <td>Hold</td>\n",
              "    </tr>\n",
              "    <tr>\n",
              "      <th>5</th>\n",
              "      <td>2020-10-09</td>\n",
              "      <td>Is Ecolab Stock a Buy?</td>\n",
              "      <td>116.97</td>\n",
              "      <td>117.00</td>\n",
              "      <td>114.9200</td>\n",
              "      <td>115.28</td>\n",
              "      <td>0.143061</td>\n",
              "      <td>0.118360</td>\n",
              "      <td>0.024700</td>\n",
              "      <td>Hold</td>\n",
              "    </tr>\n",
              "    <tr>\n",
              "      <th>6</th>\n",
              "      <td>2020-10-09</td>\n",
              "      <td>Should Tech Investors Worry About Antitrust?</td>\n",
              "      <td>116.97</td>\n",
              "      <td>117.00</td>\n",
              "      <td>114.9200</td>\n",
              "      <td>115.28</td>\n",
              "      <td>0.140288</td>\n",
              "      <td>0.129411</td>\n",
              "      <td>0.010878</td>\n",
              "      <td>Hold</td>\n",
              "    </tr>\n",
              "    <tr>\n",
              "      <th>7</th>\n",
              "      <td>2020-10-09</td>\n",
              "      <td>Verizon, Qualcomm, Qorvo: Stocks To Watch As A...</td>\n",
              "      <td>116.97</td>\n",
              "      <td>117.00</td>\n",
              "      <td>114.9200</td>\n",
              "      <td>115.28</td>\n",
              "      <td>0.130761</td>\n",
              "      <td>0.130089</td>\n",
              "      <td>0.000673</td>\n",
              "      <td>Bullish</td>\n",
              "    </tr>\n",
              "    <tr>\n",
              "      <th>8</th>\n",
              "      <td>2020-10-09</td>\n",
              "      <td>Tesla Can Post Apple-Like Margins. Here's How.</td>\n",
              "      <td>116.97</td>\n",
              "      <td>117.00</td>\n",
              "      <td>114.9200</td>\n",
              "      <td>115.28</td>\n",
              "      <td>0.118109</td>\n",
              "      <td>0.124087</td>\n",
              "      <td>-0.005978</td>\n",
              "      <td>Hold</td>\n",
              "    </tr>\n",
              "    <tr>\n",
              "      <th>9</th>\n",
              "      <td>2020-10-09</td>\n",
              "      <td>Tesla's Expenses: Operating Cost Controls, Imp...</td>\n",
              "      <td>116.97</td>\n",
              "      <td>117.00</td>\n",
              "      <td>114.9200</td>\n",
              "      <td>115.28</td>\n",
              "      <td>0.104399</td>\n",
              "      <td>0.114234</td>\n",
              "      <td>-0.009834</td>\n",
              "      <td>Hold</td>\n",
              "    </tr>\n",
              "    <tr>\n",
              "      <th>10</th>\n",
              "      <td>2020-10-09</td>\n",
              "      <td>Apple: Get Ready, iPhone Supercycle is Coming</td>\n",
              "      <td>116.97</td>\n",
              "      <td>117.00</td>\n",
              "      <td>114.9200</td>\n",
              "      <td>115.28</td>\n",
              "      <td>0.090820</td>\n",
              "      <td>0.102521</td>\n",
              "      <td>-0.011701</td>\n",
              "      <td>Hold</td>\n",
              "    </tr>\n",
              "    <tr>\n",
              "      <th>11</th>\n",
              "      <td>2020-10-07</td>\n",
              "      <td>Apple to extend some free subscription to vide...</td>\n",
              "      <td>115.08</td>\n",
              "      <td>115.55</td>\n",
              "      <td>114.1300</td>\n",
              "      <td>114.62</td>\n",
              "      <td>-0.065768</td>\n",
              "      <td>0.018356</td>\n",
              "      <td>-0.084124</td>\n",
              "      <td>Hold</td>\n",
              "    </tr>\n",
              "    <tr>\n",
              "      <th>12</th>\n",
              "      <td>2020-10-07</td>\n",
              "      <td>U.S. appeals judge's ruling that blocked U.S. ...</td>\n",
              "      <td>115.08</td>\n",
              "      <td>115.55</td>\n",
              "      <td>114.1300</td>\n",
              "      <td>114.62</td>\n",
              "      <td>-0.151157</td>\n",
              "      <td>-0.066411</td>\n",
              "      <td>-0.084746</td>\n",
              "      <td>Hold</td>\n",
              "    </tr>\n",
              "    <tr>\n",
              "      <th>13</th>\n",
              "      <td>2020-10-07</td>\n",
              "      <td>'Mercenary' hacker group runs rampant in Middl...</td>\n",
              "      <td>115.08</td>\n",
              "      <td>115.55</td>\n",
              "      <td>114.1300</td>\n",
              "      <td>114.62</td>\n",
              "      <td>-0.191363</td>\n",
              "      <td>-0.128891</td>\n",
              "      <td>-0.062472</td>\n",
              "      <td>Hold</td>\n",
              "    </tr>\n",
              "    <tr>\n",
              "      <th>14</th>\n",
              "      <td>2020-10-07</td>\n",
              "      <td>Pre-Market Most Active for Oct 7, 2020 :  DKNG...</td>\n",
              "      <td>115.08</td>\n",
              "      <td>115.55</td>\n",
              "      <td>114.1300</td>\n",
              "      <td>114.62</td>\n",
              "      <td>-0.203564</td>\n",
              "      <td>-0.166228</td>\n",
              "      <td>-0.037335</td>\n",
              "      <td>Hold</td>\n",
              "    </tr>\n",
              "    <tr>\n",
              "      <th>15</th>\n",
              "      <td>2020-10-07</td>\n",
              "      <td>Daily Markets: Trump's Ping-Ponging On The Sti...</td>\n",
              "      <td>115.08</td>\n",
              "      <td>115.55</td>\n",
              "      <td>114.1300</td>\n",
              "      <td>114.62</td>\n",
              "      <td>-0.199072</td>\n",
              "      <td>-0.182651</td>\n",
              "      <td>-0.016422</td>\n",
              "      <td>Hold</td>\n",
              "    </tr>\n",
              "    <tr>\n",
              "      <th>16</th>\n",
              "      <td>2020-10-07</td>\n",
              "      <td>Apple Leads the Pack in Survey of Brands Custo...</td>\n",
              "      <td>115.08</td>\n",
              "      <td>115.55</td>\n",
              "      <td>114.1300</td>\n",
              "      <td>114.62</td>\n",
              "      <td>-0.185271</td>\n",
              "      <td>-0.183961</td>\n",
              "      <td>-0.001310</td>\n",
              "      <td>Bearish</td>\n",
              "    </tr>\n",
              "    <tr>\n",
              "      <th>17</th>\n",
              "      <td>2020-10-07</td>\n",
              "      <td>Apple's iPhone 12 Event: What You Should Know</td>\n",
              "      <td>115.08</td>\n",
              "      <td>115.55</td>\n",
              "      <td>114.1300</td>\n",
              "      <td>114.62</td>\n",
              "      <td>-0.166904</td>\n",
              "      <td>-0.175433</td>\n",
              "      <td>0.008528</td>\n",
              "      <td>Hold</td>\n",
              "    </tr>\n",
              "    <tr>\n",
              "      <th>18</th>\n",
              "      <td>2020-10-07</td>\n",
              "      <td>Broadcom to end exclusivity deals for seven ye...</td>\n",
              "      <td>115.08</td>\n",
              "      <td>115.55</td>\n",
              "      <td>114.1300</td>\n",
              "      <td>114.62</td>\n",
              "      <td>-0.146948</td>\n",
              "      <td>-0.161190</td>\n",
              "      <td>0.014242</td>\n",
              "      <td>Hold</td>\n",
              "    </tr>\n",
              "    <tr>\n",
              "      <th>19</th>\n",
              "      <td>2020-10-07</td>\n",
              "      <td>EU antitrust regulators accept Broadcom conces...</td>\n",
              "      <td>115.08</td>\n",
              "      <td>115.55</td>\n",
              "      <td>114.1300</td>\n",
              "      <td>114.62</td>\n",
              "      <td>-0.127201</td>\n",
              "      <td>-0.144196</td>\n",
              "      <td>0.016994</td>\n",
              "      <td>Hold</td>\n",
              "    </tr>\n",
              "  </tbody>\n",
              "</table>\n",
              "</div>"
            ],
            "text/plain": [
              "          date  ...    Label\n",
              "0   2020-10-08  ...     Hold\n",
              "1   2020-10-08  ...     Hold\n",
              "2   2020-10-08  ...     Hold\n",
              "3   2020-10-09  ...     Hold\n",
              "4   2020-10-09  ...     Hold\n",
              "5   2020-10-09  ...     Hold\n",
              "6   2020-10-09  ...     Hold\n",
              "7   2020-10-09  ...  Bullish\n",
              "8   2020-10-09  ...     Hold\n",
              "9   2020-10-09  ...     Hold\n",
              "10  2020-10-09  ...     Hold\n",
              "11  2020-10-07  ...     Hold\n",
              "12  2020-10-07  ...     Hold\n",
              "13  2020-10-07  ...     Hold\n",
              "14  2020-10-07  ...     Hold\n",
              "15  2020-10-07  ...     Hold\n",
              "16  2020-10-07  ...  Bearish\n",
              "17  2020-10-07  ...     Hold\n",
              "18  2020-10-07  ...     Hold\n",
              "19  2020-10-07  ...     Hold\n",
              "\n",
              "[20 rows x 10 columns]"
            ]
          },
          "metadata": {
            "tags": []
          },
          "execution_count": 115
        }
      ]
    },
    {
      "cell_type": "code",
      "metadata": {
        "id": "3jVjTaR9AM0L"
      },
      "source": [
        "#label_data.to_csv()"
      ],
      "execution_count": null,
      "outputs": []
    }
  ]
}