{
  "nbformat": 4,
  "nbformat_minor": 0,
  "metadata": {
    "colab": {
      "name": "9) Models Evaluation using the unseen Data.ipynb",
      "provenance": []
    },
    "kernelspec": {
      "name": "python3",
      "display_name": "Python 3"
    },
    "language_info": {
      "name": "python"
    }
  },
  "cells": [
    {
      "cell_type": "code",
      "metadata": {
        "id": "YJ9RYhKqiCcH"
      },
      "source": [
        "pip install prince"
      ],
      "execution_count": null,
      "outputs": []
    },
    {
      "cell_type": "code",
      "metadata": {
        "id": "sOMEBrmKiEsL"
      },
      "source": [
        "import prince"
      ],
      "execution_count": 2,
      "outputs": []
    },
    {
      "cell_type": "code",
      "metadata": {
        "id": "FQ6xKEBPhXaa"
      },
      "source": [
        "import pickle\n",
        "import pandas as pd\n",
        "import nltk\n",
        "import numpy as np\n",
        "from itertools import cycle\n",
        "from sklearn.metrics import roc_curve, auc\n",
        "from sklearn.preprocessing import label_binarize\n",
        "from sklearn.multiclass import OneVsRestClassifier\n",
        "from scipy import interp\n",
        "from sklearn import preprocessing\n",
        "from sklearn.neighbors import KNeighborsClassifier\n",
        "from sklearn.model_selection import GridSearchCV\n",
        "from itertools import product\n",
        "import matplotlib.pyplot as plt\n",
        "import statistics"
      ],
      "execution_count": 3,
      "outputs": []
    },
    {
      "cell_type": "code",
      "metadata": {
        "id": "mqlIlo3shdZp"
      },
      "source": [
        "test_data = pd.read_csv('/content/drive/MyDrive/BERT + STOCK /Fine-tuned Models/apple_unseen_data.csv')"
      ],
      "execution_count": 4,
      "outputs": []
    },
    {
      "cell_type": "code",
      "metadata": {
        "colab": {
          "base_uri": "https://localhost:8080/",
          "height": 253
        },
        "id": "saP_SSjohoBt",
        "outputId": "82b0497d-b8d7-437d-bd06-cb2671181e2e"
      },
      "source": [
        "test_data.head()"
      ],
      "execution_count": 5,
      "outputs": [
        {
          "output_type": "execute_result",
          "data": {
            "text/html": [
              "<div>\n",
              "<style scoped>\n",
              "    .dataframe tbody tr th:only-of-type {\n",
              "        vertical-align: middle;\n",
              "    }\n",
              "\n",
              "    .dataframe tbody tr th {\n",
              "        vertical-align: top;\n",
              "    }\n",
              "\n",
              "    .dataframe thead th {\n",
              "        text-align: right;\n",
              "    }\n",
              "</style>\n",
              "<table border=\"1\" class=\"dataframe\">\n",
              "  <thead>\n",
              "    <tr style=\"text-align: right;\">\n",
              "      <th></th>\n",
              "      <th>Label</th>\n",
              "      <th>0</th>\n",
              "      <th>1</th>\n",
              "      <th>2</th>\n",
              "      <th>3</th>\n",
              "      <th>4</th>\n",
              "      <th>5</th>\n",
              "      <th>6</th>\n",
              "      <th>7</th>\n",
              "      <th>8</th>\n",
              "      <th>9</th>\n",
              "      <th>10</th>\n",
              "      <th>11</th>\n",
              "      <th>12</th>\n",
              "      <th>13</th>\n",
              "      <th>14</th>\n",
              "      <th>15</th>\n",
              "      <th>16</th>\n",
              "      <th>17</th>\n",
              "      <th>18</th>\n",
              "      <th>19</th>\n",
              "      <th>20</th>\n",
              "      <th>21</th>\n",
              "      <th>22</th>\n",
              "      <th>23</th>\n",
              "      <th>24</th>\n",
              "      <th>25</th>\n",
              "      <th>26</th>\n",
              "      <th>27</th>\n",
              "      <th>28</th>\n",
              "      <th>29</th>\n",
              "      <th>30</th>\n",
              "      <th>31</th>\n",
              "      <th>32</th>\n",
              "      <th>33</th>\n",
              "      <th>34</th>\n",
              "      <th>35</th>\n",
              "      <th>36</th>\n",
              "      <th>37</th>\n",
              "      <th>38</th>\n",
              "      <th>...</th>\n",
              "      <th>728</th>\n",
              "      <th>729</th>\n",
              "      <th>730</th>\n",
              "      <th>731</th>\n",
              "      <th>732</th>\n",
              "      <th>733</th>\n",
              "      <th>734</th>\n",
              "      <th>735</th>\n",
              "      <th>736</th>\n",
              "      <th>737</th>\n",
              "      <th>738</th>\n",
              "      <th>739</th>\n",
              "      <th>740</th>\n",
              "      <th>741</th>\n",
              "      <th>742</th>\n",
              "      <th>743</th>\n",
              "      <th>744</th>\n",
              "      <th>745</th>\n",
              "      <th>746</th>\n",
              "      <th>747</th>\n",
              "      <th>748</th>\n",
              "      <th>749</th>\n",
              "      <th>750</th>\n",
              "      <th>751</th>\n",
              "      <th>752</th>\n",
              "      <th>753</th>\n",
              "      <th>754</th>\n",
              "      <th>755</th>\n",
              "      <th>756</th>\n",
              "      <th>757</th>\n",
              "      <th>758</th>\n",
              "      <th>759</th>\n",
              "      <th>760</th>\n",
              "      <th>761</th>\n",
              "      <th>762</th>\n",
              "      <th>763</th>\n",
              "      <th>764</th>\n",
              "      <th>765</th>\n",
              "      <th>766</th>\n",
              "      <th>767</th>\n",
              "    </tr>\n",
              "  </thead>\n",
              "  <tbody>\n",
              "    <tr>\n",
              "      <th>0</th>\n",
              "      <td>Hold</td>\n",
              "      <td>-0.222598</td>\n",
              "      <td>0.748105</td>\n",
              "      <td>0.485288</td>\n",
              "      <td>-0.118639</td>\n",
              "      <td>0.900491</td>\n",
              "      <td>-0.557271</td>\n",
              "      <td>0.961600</td>\n",
              "      <td>0.698754</td>\n",
              "      <td>0.644912</td>\n",
              "      <td>-0.316916</td>\n",
              "      <td>-0.010139</td>\n",
              "      <td>0.847396</td>\n",
              "      <td>0.584393</td>\n",
              "      <td>0.047089</td>\n",
              "      <td>-0.517484</td>\n",
              "      <td>-0.264255</td>\n",
              "      <td>-0.517813</td>\n",
              "      <td>0.486616</td>\n",
              "      <td>0.246014</td>\n",
              "      <td>-0.220483</td>\n",
              "      <td>-0.551734</td>\n",
              "      <td>-0.596142</td>\n",
              "      <td>0.108173</td>\n",
              "      <td>0.020995</td>\n",
              "      <td>1.129889</td>\n",
              "      <td>0.541480</td>\n",
              "      <td>0.448371</td>\n",
              "      <td>-0.323928</td>\n",
              "      <td>-0.407566</td>\n",
              "      <td>0.371477</td>\n",
              "      <td>-0.310437</td>\n",
              "      <td>1.459580</td>\n",
              "      <td>-0.517393</td>\n",
              "      <td>-0.508452</td>\n",
              "      <td>-0.808173</td>\n",
              "      <td>0.220383</td>\n",
              "      <td>-0.579218</td>\n",
              "      <td>0.590688</td>\n",
              "      <td>-0.078066</td>\n",
              "      <td>...</td>\n",
              "      <td>-0.616729</td>\n",
              "      <td>-0.622845</td>\n",
              "      <td>-0.409627</td>\n",
              "      <td>-1.158956</td>\n",
              "      <td>0.227853</td>\n",
              "      <td>0.987284</td>\n",
              "      <td>0.117022</td>\n",
              "      <td>0.271497</td>\n",
              "      <td>0.104969</td>\n",
              "      <td>-0.366703</td>\n",
              "      <td>-0.567497</td>\n",
              "      <td>-1.632088</td>\n",
              "      <td>-0.136654</td>\n",
              "      <td>0.450058</td>\n",
              "      <td>-0.655765</td>\n",
              "      <td>-0.529459</td>\n",
              "      <td>0.085008</td>\n",
              "      <td>0.322147</td>\n",
              "      <td>-0.046987</td>\n",
              "      <td>-0.246344</td>\n",
              "      <td>-0.275842</td>\n",
              "      <td>0.093232</td>\n",
              "      <td>0.170750</td>\n",
              "      <td>-0.970542</td>\n",
              "      <td>0.124097</td>\n",
              "      <td>0.105758</td>\n",
              "      <td>-0.789086</td>\n",
              "      <td>0.112604</td>\n",
              "      <td>0.105249</td>\n",
              "      <td>-0.654910</td>\n",
              "      <td>-0.537238</td>\n",
              "      <td>-0.975833</td>\n",
              "      <td>-1.754885</td>\n",
              "      <td>0.702908</td>\n",
              "      <td>0.613692</td>\n",
              "      <td>-0.092991</td>\n",
              "      <td>0.197458</td>\n",
              "      <td>-0.599833</td>\n",
              "      <td>-0.256600</td>\n",
              "      <td>0.453896</td>\n",
              "    </tr>\n",
              "    <tr>\n",
              "      <th>1</th>\n",
              "      <td>Hold</td>\n",
              "      <td>-0.870338</td>\n",
              "      <td>0.235897</td>\n",
              "      <td>0.177161</td>\n",
              "      <td>-0.060832</td>\n",
              "      <td>1.014795</td>\n",
              "      <td>-0.733983</td>\n",
              "      <td>-0.638219</td>\n",
              "      <td>0.580018</td>\n",
              "      <td>-0.531315</td>\n",
              "      <td>-0.725112</td>\n",
              "      <td>0.380000</td>\n",
              "      <td>0.765162</td>\n",
              "      <td>0.707654</td>\n",
              "      <td>-0.006055</td>\n",
              "      <td>-0.364947</td>\n",
              "      <td>-0.077112</td>\n",
              "      <td>0.425554</td>\n",
              "      <td>0.606706</td>\n",
              "      <td>-0.339503</td>\n",
              "      <td>-1.036398</td>\n",
              "      <td>-0.891776</td>\n",
              "      <td>-0.390247</td>\n",
              "      <td>0.446263</td>\n",
              "      <td>0.181805</td>\n",
              "      <td>0.724459</td>\n",
              "      <td>0.384605</td>\n",
              "      <td>-0.678302</td>\n",
              "      <td>-0.597934</td>\n",
              "      <td>-0.590485</td>\n",
              "      <td>0.256212</td>\n",
              "      <td>-0.828184</td>\n",
              "      <td>0.256212</td>\n",
              "      <td>-0.277979</td>\n",
              "      <td>0.027087</td>\n",
              "      <td>0.570141</td>\n",
              "      <td>-0.008219</td>\n",
              "      <td>-0.726885</td>\n",
              "      <td>-0.656821</td>\n",
              "      <td>-0.119314</td>\n",
              "      <td>...</td>\n",
              "      <td>-0.282978</td>\n",
              "      <td>-0.584410</td>\n",
              "      <td>-0.630456</td>\n",
              "      <td>-0.526689</td>\n",
              "      <td>0.375842</td>\n",
              "      <td>0.006002</td>\n",
              "      <td>-0.629995</td>\n",
              "      <td>0.267400</td>\n",
              "      <td>0.603206</td>\n",
              "      <td>-0.524851</td>\n",
              "      <td>-0.651171</td>\n",
              "      <td>-1.230638</td>\n",
              "      <td>0.288966</td>\n",
              "      <td>-0.428947</td>\n",
              "      <td>-0.449530</td>\n",
              "      <td>-1.508016</td>\n",
              "      <td>0.246104</td>\n",
              "      <td>0.440717</td>\n",
              "      <td>-0.457524</td>\n",
              "      <td>-0.124603</td>\n",
              "      <td>-0.216190</td>\n",
              "      <td>-0.055509</td>\n",
              "      <td>0.366039</td>\n",
              "      <td>-0.826116</td>\n",
              "      <td>0.478645</td>\n",
              "      <td>1.518625</td>\n",
              "      <td>-0.352250</td>\n",
              "      <td>0.509205</td>\n",
              "      <td>-0.098223</td>\n",
              "      <td>0.017005</td>\n",
              "      <td>-0.025829</td>\n",
              "      <td>0.028371</td>\n",
              "      <td>-0.836320</td>\n",
              "      <td>0.111291</td>\n",
              "      <td>1.012991</td>\n",
              "      <td>-0.766528</td>\n",
              "      <td>-0.755766</td>\n",
              "      <td>-0.023098</td>\n",
              "      <td>1.275916</td>\n",
              "      <td>-0.134305</td>\n",
              "    </tr>\n",
              "    <tr>\n",
              "      <th>2</th>\n",
              "      <td>Hold</td>\n",
              "      <td>-0.442109</td>\n",
              "      <td>0.478925</td>\n",
              "      <td>0.125425</td>\n",
              "      <td>0.201929</td>\n",
              "      <td>1.077210</td>\n",
              "      <td>-0.353761</td>\n",
              "      <td>-0.337223</td>\n",
              "      <td>0.556410</td>\n",
              "      <td>0.083395</td>\n",
              "      <td>-0.212093</td>\n",
              "      <td>-0.102887</td>\n",
              "      <td>0.430919</td>\n",
              "      <td>0.273721</td>\n",
              "      <td>-0.055044</td>\n",
              "      <td>-0.713577</td>\n",
              "      <td>0.544598</td>\n",
              "      <td>-0.615964</td>\n",
              "      <td>0.172747</td>\n",
              "      <td>-0.084699</td>\n",
              "      <td>-0.781385</td>\n",
              "      <td>-0.203870</td>\n",
              "      <td>-0.608176</td>\n",
              "      <td>0.321871</td>\n",
              "      <td>0.594021</td>\n",
              "      <td>1.205984</td>\n",
              "      <td>-0.041820</td>\n",
              "      <td>0.052715</td>\n",
              "      <td>-0.609092</td>\n",
              "      <td>-1.005692</td>\n",
              "      <td>-0.074188</td>\n",
              "      <td>-0.753373</td>\n",
              "      <td>0.541640</td>\n",
              "      <td>-0.513618</td>\n",
              "      <td>-0.374426</td>\n",
              "      <td>0.195916</td>\n",
              "      <td>0.434490</td>\n",
              "      <td>-0.355440</td>\n",
              "      <td>-0.161941</td>\n",
              "      <td>-0.257569</td>\n",
              "      <td>...</td>\n",
              "      <td>-0.669705</td>\n",
              "      <td>-0.633738</td>\n",
              "      <td>0.074056</td>\n",
              "      <td>-0.217908</td>\n",
              "      <td>0.548727</td>\n",
              "      <td>0.845867</td>\n",
              "      <td>0.270689</td>\n",
              "      <td>0.283931</td>\n",
              "      <td>0.431459</td>\n",
              "      <td>-0.300325</td>\n",
              "      <td>-0.975098</td>\n",
              "      <td>-1.294832</td>\n",
              "      <td>-0.442116</td>\n",
              "      <td>-0.310437</td>\n",
              "      <td>-0.102694</td>\n",
              "      <td>0.023254</td>\n",
              "      <td>0.363903</td>\n",
              "      <td>0.630929</td>\n",
              "      <td>0.027109</td>\n",
              "      <td>-0.297374</td>\n",
              "      <td>-0.009592</td>\n",
              "      <td>-0.125860</td>\n",
              "      <td>-0.285189</td>\n",
              "      <td>-1.080241</td>\n",
              "      <td>0.868335</td>\n",
              "      <td>0.649717</td>\n",
              "      <td>0.096418</td>\n",
              "      <td>0.474695</td>\n",
              "      <td>-0.426376</td>\n",
              "      <td>0.435644</td>\n",
              "      <td>-0.084565</td>\n",
              "      <td>-0.517118</td>\n",
              "      <td>-1.065985</td>\n",
              "      <td>0.031421</td>\n",
              "      <td>0.105758</td>\n",
              "      <td>-0.707993</td>\n",
              "      <td>-0.018756</td>\n",
              "      <td>-0.127108</td>\n",
              "      <td>-0.035858</td>\n",
              "      <td>-0.245689</td>\n",
              "    </tr>\n",
              "    <tr>\n",
              "      <th>3</th>\n",
              "      <td>Hold</td>\n",
              "      <td>0.067986</td>\n",
              "      <td>1.427715</td>\n",
              "      <td>0.407314</td>\n",
              "      <td>-0.489392</td>\n",
              "      <td>0.815869</td>\n",
              "      <td>0.463780</td>\n",
              "      <td>1.118302</td>\n",
              "      <td>0.885608</td>\n",
              "      <td>0.176066</td>\n",
              "      <td>-0.206627</td>\n",
              "      <td>-0.384975</td>\n",
              "      <td>0.486316</td>\n",
              "      <td>0.239158</td>\n",
              "      <td>-0.047174</td>\n",
              "      <td>-0.587016</td>\n",
              "      <td>-0.325037</td>\n",
              "      <td>-0.495340</td>\n",
              "      <td>0.477149</td>\n",
              "      <td>0.170262</td>\n",
              "      <td>0.030439</td>\n",
              "      <td>-0.542157</td>\n",
              "      <td>-1.020790</td>\n",
              "      <td>0.174149</td>\n",
              "      <td>0.176583</td>\n",
              "      <td>1.138015</td>\n",
              "      <td>0.311608</td>\n",
              "      <td>-0.153014</td>\n",
              "      <td>0.237447</td>\n",
              "      <td>-0.310285</td>\n",
              "      <td>0.394998</td>\n",
              "      <td>-0.749336</td>\n",
              "      <td>0.381146</td>\n",
              "      <td>0.274044</td>\n",
              "      <td>-1.044946</td>\n",
              "      <td>-0.261766</td>\n",
              "      <td>-0.015938</td>\n",
              "      <td>-0.986850</td>\n",
              "      <td>0.196404</td>\n",
              "      <td>-0.300049</td>\n",
              "      <td>...</td>\n",
              "      <td>-0.718957</td>\n",
              "      <td>-0.301005</td>\n",
              "      <td>-0.163546</td>\n",
              "      <td>-0.593132</td>\n",
              "      <td>0.294598</td>\n",
              "      <td>0.948908</td>\n",
              "      <td>-0.023430</td>\n",
              "      <td>0.317777</td>\n",
              "      <td>0.399759</td>\n",
              "      <td>-0.745440</td>\n",
              "      <td>0.124729</td>\n",
              "      <td>-1.955545</td>\n",
              "      <td>-0.489624</td>\n",
              "      <td>1.126911</td>\n",
              "      <td>-0.601347</td>\n",
              "      <td>-0.119431</td>\n",
              "      <td>0.066007</td>\n",
              "      <td>0.146149</td>\n",
              "      <td>-0.345404</td>\n",
              "      <td>0.094044</td>\n",
              "      <td>-1.139542</td>\n",
              "      <td>-0.784869</td>\n",
              "      <td>0.751440</td>\n",
              "      <td>-1.242246</td>\n",
              "      <td>-0.141164</td>\n",
              "      <td>0.621733</td>\n",
              "      <td>-0.579748</td>\n",
              "      <td>0.365992</td>\n",
              "      <td>0.379163</td>\n",
              "      <td>-0.765721</td>\n",
              "      <td>-0.506313</td>\n",
              "      <td>-0.778286</td>\n",
              "      <td>-1.493551</td>\n",
              "      <td>0.673587</td>\n",
              "      <td>-0.012527</td>\n",
              "      <td>0.030688</td>\n",
              "      <td>0.247981</td>\n",
              "      <td>-0.651948</td>\n",
              "      <td>-0.388263</td>\n",
              "      <td>-0.164766</td>\n",
              "    </tr>\n",
              "    <tr>\n",
              "      <th>4</th>\n",
              "      <td>Hold</td>\n",
              "      <td>-0.127278</td>\n",
              "      <td>0.206105</td>\n",
              "      <td>2.125548</td>\n",
              "      <td>-0.090224</td>\n",
              "      <td>1.316796</td>\n",
              "      <td>-0.879829</td>\n",
              "      <td>-0.937623</td>\n",
              "      <td>1.152500</td>\n",
              "      <td>0.412005</td>\n",
              "      <td>-0.918070</td>\n",
              "      <td>0.029844</td>\n",
              "      <td>0.479169</td>\n",
              "      <td>0.811489</td>\n",
              "      <td>0.425634</td>\n",
              "      <td>0.382810</td>\n",
              "      <td>0.844459</td>\n",
              "      <td>-0.076057</td>\n",
              "      <td>0.449275</td>\n",
              "      <td>0.134055</td>\n",
              "      <td>-0.848540</td>\n",
              "      <td>-0.167815</td>\n",
              "      <td>-0.991550</td>\n",
              "      <td>0.703316</td>\n",
              "      <td>-0.054036</td>\n",
              "      <td>0.884157</td>\n",
              "      <td>-0.949081</td>\n",
              "      <td>-0.690108</td>\n",
              "      <td>-1.141005</td>\n",
              "      <td>0.280243</td>\n",
              "      <td>0.359091</td>\n",
              "      <td>-1.138352</td>\n",
              "      <td>0.454745</td>\n",
              "      <td>-0.500308</td>\n",
              "      <td>-0.567648</td>\n",
              "      <td>-0.117159</td>\n",
              "      <td>0.852014</td>\n",
              "      <td>-0.648535</td>\n",
              "      <td>0.657237</td>\n",
              "      <td>0.199490</td>\n",
              "      <td>...</td>\n",
              "      <td>-0.815467</td>\n",
              "      <td>-0.778274</td>\n",
              "      <td>-0.724088</td>\n",
              "      <td>0.136511</td>\n",
              "      <td>-0.287881</td>\n",
              "      <td>0.743119</td>\n",
              "      <td>0.818535</td>\n",
              "      <td>0.603614</td>\n",
              "      <td>0.477033</td>\n",
              "      <td>-0.875563</td>\n",
              "      <td>-0.218031</td>\n",
              "      <td>-0.957509</td>\n",
              "      <td>-0.161228</td>\n",
              "      <td>-0.599754</td>\n",
              "      <td>-1.024942</td>\n",
              "      <td>0.211822</td>\n",
              "      <td>0.189109</td>\n",
              "      <td>-0.292216</td>\n",
              "      <td>-0.486948</td>\n",
              "      <td>0.201005</td>\n",
              "      <td>-0.203180</td>\n",
              "      <td>-0.255745</td>\n",
              "      <td>0.575626</td>\n",
              "      <td>-0.928922</td>\n",
              "      <td>0.012722</td>\n",
              "      <td>0.692404</td>\n",
              "      <td>-0.118258</td>\n",
              "      <td>0.369096</td>\n",
              "      <td>-0.751933</td>\n",
              "      <td>0.211740</td>\n",
              "      <td>-0.083924</td>\n",
              "      <td>-0.963016</td>\n",
              "      <td>-0.187002</td>\n",
              "      <td>0.072385</td>\n",
              "      <td>-0.024630</td>\n",
              "      <td>-0.703102</td>\n",
              "      <td>-0.100126</td>\n",
              "      <td>-0.469442</td>\n",
              "      <td>0.678633</td>\n",
              "      <td>-0.383148</td>\n",
              "    </tr>\n",
              "  </tbody>\n",
              "</table>\n",
              "<p>5 rows × 769 columns</p>\n",
              "</div>"
            ],
            "text/plain": [
              "  Label         0         1         2  ...       764       765       766       767\n",
              "0  Hold -0.222598  0.748105  0.485288  ...  0.197458 -0.599833 -0.256600  0.453896\n",
              "1  Hold -0.870338  0.235897  0.177161  ... -0.755766 -0.023098  1.275916 -0.134305\n",
              "2  Hold -0.442109  0.478925  0.125425  ... -0.018756 -0.127108 -0.035858 -0.245689\n",
              "3  Hold  0.067986  1.427715  0.407314  ...  0.247981 -0.651948 -0.388263 -0.164766\n",
              "4  Hold -0.127278  0.206105  2.125548  ... -0.100126 -0.469442  0.678633 -0.383148\n",
              "\n",
              "[5 rows x 769 columns]"
            ]
          },
          "metadata": {
            "tags": []
          },
          "execution_count": 5
        }
      ]
    },
    {
      "cell_type": "code",
      "metadata": {
        "colab": {
          "base_uri": "https://localhost:8080/"
        },
        "id": "QvuTsdwbhqFc",
        "outputId": "54b2fdb8-055a-4186-9dae-656936d023fe"
      },
      "source": [
        "test_data.shape"
      ],
      "execution_count": 6,
      "outputs": [
        {
          "output_type": "execute_result",
          "data": {
            "text/plain": [
              "(7603, 769)"
            ]
          },
          "metadata": {
            "tags": []
          },
          "execution_count": 6
        }
      ]
    },
    {
      "cell_type": "code",
      "metadata": {
        "id": "IqCCt2Lhhso5"
      },
      "source": [
        "X = test_data.iloc[:, 1:768]"
      ],
      "execution_count": 7,
      "outputs": []
    },
    {
      "cell_type": "code",
      "metadata": {
        "id": "Av1zKdgwiOeL"
      },
      "source": [
        "from sklearn.decomposition import PCA\n"
      ],
      "execution_count": 8,
      "outputs": []
    },
    {
      "cell_type": "code",
      "metadata": {
        "colab": {
          "base_uri": "https://localhost:8080/",
          "height": 404
        },
        "id": "Im_Qs0eGh5lT",
        "outputId": "5d830d65-ab71-4c92-b08c-59e3be0ed350"
      },
      "source": [
        "pca = PCA().fit(X)\n",
        "\n",
        "import matplotlib.pyplot as plt\n",
        "plt.rcParams[\"figure.figsize\"] = (12,6)\n",
        "\n",
        "fig, ax = plt.subplots()\n",
        "xi = np.arange(1, 768, step=1)\n",
        "y = np.cumsum(pca.explained_variance_ratio_)\n",
        "\n",
        "plt.ylim(0.0,1.1)\n",
        "plt.plot(xi, y, marker='o', linestyle='--', color='b')\n",
        "\n",
        "plt.xlabel('Number of Components')\n",
        "plt.xticks(np.arange(0, 750, step=50)) \n",
        "plt.ylabel('Cumulative variance (%)')\n",
        "plt.title('The number of components needed to explain variance')\n",
        "\n",
        "plt.axhline(y=0.95, color='r', linestyle='-')\n",
        "plt.text(0.5, 0.85, '95% cut-off threshold', color = 'red', fontsize=16)\n",
        "\n",
        "ax.grid(axis='x')\n",
        "plt.show()"
      ],
      "execution_count": 9,
      "outputs": [
        {
          "output_type": "display_data",
          "data": {
            "image/png": "[encoded data removed]",
            "text/plain": [
              "<Figure size 864x432 with 1 Axes>"
            ]
          },
          "metadata": {
            "tags": [],
            "needs_background": "light"
          }
        }
      ]
    },
    {
      "cell_type": "code",
      "metadata": {
        "id": "9wr-nD0ph-1i"
      },
      "source": [
        "Y = test_data[['Label']] #dependent variable"
      ],
      "execution_count": 10,
      "outputs": []
    },
    {
      "cell_type": "code",
      "metadata": {
        "colab": {
          "base_uri": "https://localhost:8080/"
        },
        "id": "zRdDcTdXiVC2",
        "outputId": "71676912-9e07-4192-e216-c638a756739b"
      },
      "source": [
        "from imblearn.over_sampling import SMOTE\n",
        "\n",
        "sm = SMOTE()\n",
        "X, Y = sm.fit_sample(X, Y)"
      ],
      "execution_count": 12,
      "outputs": [
        {
          "output_type": "stream",
          "text": [
            "/usr/local/lib/python3.7/dist-packages/sklearn/externals/six.py:31: FutureWarning: The module is deprecated in version 0.21 and will be removed in version 0.23 since we've dropped support for Python 2.7. Please rely on the official version of six (https://pypi.org/project/six/).\n",
            "  \"(https://pypi.org/project/six/).\", FutureWarning)\n",
            "/usr/local/lib/python3.7/dist-packages/sklearn/utils/deprecation.py:144: FutureWarning: The sklearn.neighbors.base module is  deprecated in version 0.22 and will be removed in version 0.24. The corresponding classes / functions should instead be imported from sklearn.neighbors. Anything that cannot be imported from sklearn.neighbors is now part of the private API.\n",
            "  warnings.warn(message, FutureWarning)\n",
            "/usr/local/lib/python3.7/dist-packages/sklearn/utils/validation.py:760: DataConversionWarning: A column-vector y was passed when a 1d array was expected. Please change the shape of y to (n_samples, ), for example using ravel().\n",
            "  y = column_or_1d(y, warn=True)\n",
            "/usr/local/lib/python3.7/dist-packages/sklearn/utils/deprecation.py:87: FutureWarning: Function safe_indexing is deprecated; safe_indexing is deprecated in version 0.22 and will be removed in version 0.24.\n",
            "  warnings.warn(msg, category=FutureWarning)\n",
            "/usr/local/lib/python3.7/dist-packages/sklearn/utils/deprecation.py:87: FutureWarning: Function safe_indexing is deprecated; safe_indexing is deprecated in version 0.22 and will be removed in version 0.24.\n",
            "  warnings.warn(msg, category=FutureWarning)\n"
          ],
          "name": "stderr"
        }
      ]
    },
    {
      "cell_type": "code",
      "metadata": {
        "id": "ujNv3nOjipOJ"
      },
      "source": [
        "pca = prince.PCA(\n",
        "    n_components=200,\n",
        "    n_iter=3,\n",
        "    rescale_with_mean=True,\n",
        "    rescale_with_std=True,\n",
        "    copy=True,\n",
        "    check_input=True,\n",
        "    engine='auto',\n",
        "    random_state=42)"
      ],
      "execution_count": 13,
      "outputs": []
    },
    {
      "cell_type": "code",
      "metadata": {
        "id": "-7jj9JdTizOO"
      },
      "source": [
        "pca = pca.fit(X)"
      ],
      "execution_count": 14,
      "outputs": []
    },
    {
      "cell_type": "code",
      "metadata": {
        "id": "DFZMruEFi1WT"
      },
      "source": [
        "pca_result = pca.transform(X)"
      ],
      "execution_count": 15,
      "outputs": []
    },
    {
      "cell_type": "code",
      "metadata": {
        "colab": {
          "base_uri": "https://localhost:8080/",
          "height": 253
        },
        "id": "q8l9e3d9i3dE",
        "outputId": "be336b7e-f653-4dca-d8d2-c2719a7e65ac"
      },
      "source": [
        "pca_result.head()"
      ],
      "execution_count": 16,
      "outputs": [
        {
          "output_type": "execute_result",
          "data": {
            "text/html": [
              "<div>\n",
              "<style scoped>\n",
              "    .dataframe tbody tr th:only-of-type {\n",
              "        vertical-align: middle;\n",
              "    }\n",
              "\n",
              "    .dataframe tbody tr th {\n",
              "        vertical-align: top;\n",
              "    }\n",
              "\n",
              "    .dataframe thead th {\n",
              "        text-align: right;\n",
              "    }\n",
              "</style>\n",
              "<table border=\"1\" class=\"dataframe\">\n",
              "  <thead>\n",
              "    <tr style=\"text-align: right;\">\n",
              "      <th></th>\n",
              "      <th>0</th>\n",
              "      <th>1</th>\n",
              "      <th>2</th>\n",
              "      <th>3</th>\n",
              "      <th>4</th>\n",
              "      <th>5</th>\n",
              "      <th>6</th>\n",
              "      <th>7</th>\n",
              "      <th>8</th>\n",
              "      <th>9</th>\n",
              "      <th>10</th>\n",
              "      <th>11</th>\n",
              "      <th>12</th>\n",
              "      <th>13</th>\n",
              "      <th>14</th>\n",
              "      <th>15</th>\n",
              "      <th>16</th>\n",
              "      <th>17</th>\n",
              "      <th>18</th>\n",
              "      <th>19</th>\n",
              "      <th>20</th>\n",
              "      <th>21</th>\n",
              "      <th>22</th>\n",
              "      <th>23</th>\n",
              "      <th>24</th>\n",
              "      <th>25</th>\n",
              "      <th>26</th>\n",
              "      <th>27</th>\n",
              "      <th>28</th>\n",
              "      <th>29</th>\n",
              "      <th>30</th>\n",
              "      <th>31</th>\n",
              "      <th>32</th>\n",
              "      <th>33</th>\n",
              "      <th>34</th>\n",
              "      <th>35</th>\n",
              "      <th>36</th>\n",
              "      <th>37</th>\n",
              "      <th>38</th>\n",
              "      <th>39</th>\n",
              "      <th>...</th>\n",
              "      <th>160</th>\n",
              "      <th>161</th>\n",
              "      <th>162</th>\n",
              "      <th>163</th>\n",
              "      <th>164</th>\n",
              "      <th>165</th>\n",
              "      <th>166</th>\n",
              "      <th>167</th>\n",
              "      <th>168</th>\n",
              "      <th>169</th>\n",
              "      <th>170</th>\n",
              "      <th>171</th>\n",
              "      <th>172</th>\n",
              "      <th>173</th>\n",
              "      <th>174</th>\n",
              "      <th>175</th>\n",
              "      <th>176</th>\n",
              "      <th>177</th>\n",
              "      <th>178</th>\n",
              "      <th>179</th>\n",
              "      <th>180</th>\n",
              "      <th>181</th>\n",
              "      <th>182</th>\n",
              "      <th>183</th>\n",
              "      <th>184</th>\n",
              "      <th>185</th>\n",
              "      <th>186</th>\n",
              "      <th>187</th>\n",
              "      <th>188</th>\n",
              "      <th>189</th>\n",
              "      <th>190</th>\n",
              "      <th>191</th>\n",
              "      <th>192</th>\n",
              "      <th>193</th>\n",
              "      <th>194</th>\n",
              "      <th>195</th>\n",
              "      <th>196</th>\n",
              "      <th>197</th>\n",
              "      <th>198</th>\n",
              "      <th>199</th>\n",
              "    </tr>\n",
              "  </thead>\n",
              "  <tbody>\n",
              "    <tr>\n",
              "      <th>0</th>\n",
              "      <td>-3.159658</td>\n",
              "      <td>-7.613223</td>\n",
              "      <td>-1.951735</td>\n",
              "      <td>-6.594447</td>\n",
              "      <td>2.155944</td>\n",
              "      <td>3.365243</td>\n",
              "      <td>-5.114255</td>\n",
              "      <td>-6.138061</td>\n",
              "      <td>-0.178581</td>\n",
              "      <td>2.630959</td>\n",
              "      <td>0.924034</td>\n",
              "      <td>-2.343796</td>\n",
              "      <td>0.961434</td>\n",
              "      <td>-0.745022</td>\n",
              "      <td>6.421421</td>\n",
              "      <td>2.070007</td>\n",
              "      <td>3.233876</td>\n",
              "      <td>1.238694</td>\n",
              "      <td>-4.829897</td>\n",
              "      <td>-3.633815</td>\n",
              "      <td>-1.112754</td>\n",
              "      <td>-3.520590</td>\n",
              "      <td>-4.128796</td>\n",
              "      <td>-2.662302</td>\n",
              "      <td>8.023006</td>\n",
              "      <td>-1.470194</td>\n",
              "      <td>0.730817</td>\n",
              "      <td>2.125004</td>\n",
              "      <td>2.618872</td>\n",
              "      <td>-0.560193</td>\n",
              "      <td>-1.240985</td>\n",
              "      <td>-0.023470</td>\n",
              "      <td>-0.888544</td>\n",
              "      <td>-1.129364</td>\n",
              "      <td>1.103327</td>\n",
              "      <td>-1.294838</td>\n",
              "      <td>0.822462</td>\n",
              "      <td>-2.292696</td>\n",
              "      <td>-0.992648</td>\n",
              "      <td>2.795612</td>\n",
              "      <td>...</td>\n",
              "      <td>0.966455</td>\n",
              "      <td>-0.670476</td>\n",
              "      <td>-2.098222</td>\n",
              "      <td>-0.303211</td>\n",
              "      <td>0.754354</td>\n",
              "      <td>-0.234592</td>\n",
              "      <td>1.571997</td>\n",
              "      <td>0.854741</td>\n",
              "      <td>0.621117</td>\n",
              "      <td>-0.350631</td>\n",
              "      <td>0.311723</td>\n",
              "      <td>0.036240</td>\n",
              "      <td>-0.159431</td>\n",
              "      <td>0.652967</td>\n",
              "      <td>0.509385</td>\n",
              "      <td>-0.120384</td>\n",
              "      <td>0.903454</td>\n",
              "      <td>0.784388</td>\n",
              "      <td>-0.155835</td>\n",
              "      <td>-0.480985</td>\n",
              "      <td>-0.450629</td>\n",
              "      <td>-0.096144</td>\n",
              "      <td>-1.201245</td>\n",
              "      <td>1.011533</td>\n",
              "      <td>-0.902849</td>\n",
              "      <td>1.241346</td>\n",
              "      <td>1.061199</td>\n",
              "      <td>-0.764388</td>\n",
              "      <td>0.370112</td>\n",
              "      <td>0.230850</td>\n",
              "      <td>-1.079344</td>\n",
              "      <td>-0.162580</td>\n",
              "      <td>0.222203</td>\n",
              "      <td>-0.374241</td>\n",
              "      <td>0.066641</td>\n",
              "      <td>0.666912</td>\n",
              "      <td>-0.336875</td>\n",
              "      <td>0.146808</td>\n",
              "      <td>-0.023674</td>\n",
              "      <td>0.341097</td>\n",
              "    </tr>\n",
              "    <tr>\n",
              "      <th>1</th>\n",
              "      <td>-5.723906</td>\n",
              "      <td>18.604902</td>\n",
              "      <td>-8.188195</td>\n",
              "      <td>-0.831957</td>\n",
              "      <td>6.621388</td>\n",
              "      <td>-3.707592</td>\n",
              "      <td>-3.555947</td>\n",
              "      <td>-3.640215</td>\n",
              "      <td>1.385117</td>\n",
              "      <td>1.035877</td>\n",
              "      <td>-1.211509</td>\n",
              "      <td>1.868647</td>\n",
              "      <td>1.286738</td>\n",
              "      <td>2.957151</td>\n",
              "      <td>-0.649022</td>\n",
              "      <td>-1.646654</td>\n",
              "      <td>-0.994880</td>\n",
              "      <td>0.094854</td>\n",
              "      <td>-0.212952</td>\n",
              "      <td>-0.910342</td>\n",
              "      <td>-0.490069</td>\n",
              "      <td>4.071044</td>\n",
              "      <td>1.482131</td>\n",
              "      <td>3.472031</td>\n",
              "      <td>1.833375</td>\n",
              "      <td>-2.314543</td>\n",
              "      <td>1.240298</td>\n",
              "      <td>0.698691</td>\n",
              "      <td>-1.485256</td>\n",
              "      <td>0.184953</td>\n",
              "      <td>1.255641</td>\n",
              "      <td>-0.325555</td>\n",
              "      <td>-0.965995</td>\n",
              "      <td>2.121368</td>\n",
              "      <td>1.019349</td>\n",
              "      <td>1.322606</td>\n",
              "      <td>-2.241685</td>\n",
              "      <td>2.333286</td>\n",
              "      <td>1.844339</td>\n",
              "      <td>0.430010</td>\n",
              "      <td>...</td>\n",
              "      <td>1.085260</td>\n",
              "      <td>-0.422264</td>\n",
              "      <td>0.270236</td>\n",
              "      <td>-0.240268</td>\n",
              "      <td>0.189968</td>\n",
              "      <td>-0.832938</td>\n",
              "      <td>0.357393</td>\n",
              "      <td>0.714709</td>\n",
              "      <td>0.243406</td>\n",
              "      <td>1.020542</td>\n",
              "      <td>0.129640</td>\n",
              "      <td>0.062740</td>\n",
              "      <td>0.873783</td>\n",
              "      <td>0.076610</td>\n",
              "      <td>-0.409881</td>\n",
              "      <td>-0.705463</td>\n",
              "      <td>0.122450</td>\n",
              "      <td>-0.316946</td>\n",
              "      <td>0.394296</td>\n",
              "      <td>0.381278</td>\n",
              "      <td>-0.584101</td>\n",
              "      <td>0.625404</td>\n",
              "      <td>-0.500957</td>\n",
              "      <td>0.123357</td>\n",
              "      <td>-0.703555</td>\n",
              "      <td>0.496563</td>\n",
              "      <td>0.045384</td>\n",
              "      <td>-0.411855</td>\n",
              "      <td>-0.168161</td>\n",
              "      <td>0.978092</td>\n",
              "      <td>0.172185</td>\n",
              "      <td>-0.364723</td>\n",
              "      <td>-0.163053</td>\n",
              "      <td>0.846138</td>\n",
              "      <td>0.470946</td>\n",
              "      <td>-0.057203</td>\n",
              "      <td>0.471313</td>\n",
              "      <td>0.432024</td>\n",
              "      <td>0.277153</td>\n",
              "      <td>-0.861491</td>\n",
              "    </tr>\n",
              "    <tr>\n",
              "      <th>2</th>\n",
              "      <td>9.176351</td>\n",
              "      <td>-1.635566</td>\n",
              "      <td>5.474346</td>\n",
              "      <td>-6.691135</td>\n",
              "      <td>-0.049504</td>\n",
              "      <td>-6.637226</td>\n",
              "      <td>3.098265</td>\n",
              "      <td>-1.924743</td>\n",
              "      <td>-0.434288</td>\n",
              "      <td>-0.471363</td>\n",
              "      <td>0.144496</td>\n",
              "      <td>-0.575610</td>\n",
              "      <td>-1.493774</td>\n",
              "      <td>3.459201</td>\n",
              "      <td>-0.418295</td>\n",
              "      <td>0.106289</td>\n",
              "      <td>3.887093</td>\n",
              "      <td>3.585324</td>\n",
              "      <td>0.554736</td>\n",
              "      <td>-6.602868</td>\n",
              "      <td>-3.813847</td>\n",
              "      <td>4.851465</td>\n",
              "      <td>3.074099</td>\n",
              "      <td>-1.127122</td>\n",
              "      <td>-2.180267</td>\n",
              "      <td>1.526951</td>\n",
              "      <td>0.610989</td>\n",
              "      <td>-2.352415</td>\n",
              "      <td>2.946942</td>\n",
              "      <td>0.045146</td>\n",
              "      <td>1.116273</td>\n",
              "      <td>1.170578</td>\n",
              "      <td>-3.181661</td>\n",
              "      <td>-3.790492</td>\n",
              "      <td>1.702167</td>\n",
              "      <td>1.628762</td>\n",
              "      <td>-2.118664</td>\n",
              "      <td>-0.914070</td>\n",
              "      <td>0.689926</td>\n",
              "      <td>-1.167342</td>\n",
              "      <td>...</td>\n",
              "      <td>-1.111364</td>\n",
              "      <td>0.300313</td>\n",
              "      <td>-0.245846</td>\n",
              "      <td>-0.161818</td>\n",
              "      <td>0.459217</td>\n",
              "      <td>-1.015521</td>\n",
              "      <td>0.497051</td>\n",
              "      <td>1.218528</td>\n",
              "      <td>0.495682</td>\n",
              "      <td>-0.975104</td>\n",
              "      <td>-1.475113</td>\n",
              "      <td>-0.558784</td>\n",
              "      <td>-0.231342</td>\n",
              "      <td>0.649475</td>\n",
              "      <td>-0.197732</td>\n",
              "      <td>0.717532</td>\n",
              "      <td>-1.060445</td>\n",
              "      <td>0.624320</td>\n",
              "      <td>-0.372611</td>\n",
              "      <td>-0.229968</td>\n",
              "      <td>0.477818</td>\n",
              "      <td>0.827929</td>\n",
              "      <td>-0.296403</td>\n",
              "      <td>-1.154783</td>\n",
              "      <td>-0.454057</td>\n",
              "      <td>0.687156</td>\n",
              "      <td>1.033115</td>\n",
              "      <td>-0.958062</td>\n",
              "      <td>0.766107</td>\n",
              "      <td>-0.632514</td>\n",
              "      <td>0.344897</td>\n",
              "      <td>0.059337</td>\n",
              "      <td>-0.417799</td>\n",
              "      <td>-1.238053</td>\n",
              "      <td>0.340263</td>\n",
              "      <td>-1.206703</td>\n",
              "      <td>-0.226333</td>\n",
              "      <td>-0.962310</td>\n",
              "      <td>0.121780</td>\n",
              "      <td>-0.401841</td>\n",
              "    </tr>\n",
              "    <tr>\n",
              "      <th>3</th>\n",
              "      <td>-13.672192</td>\n",
              "      <td>-12.307086</td>\n",
              "      <td>-5.715579</td>\n",
              "      <td>-8.539185</td>\n",
              "      <td>-0.370714</td>\n",
              "      <td>-1.998734</td>\n",
              "      <td>1.019918</td>\n",
              "      <td>-2.195767</td>\n",
              "      <td>-4.159569</td>\n",
              "      <td>-0.540471</td>\n",
              "      <td>-4.544917</td>\n",
              "      <td>-1.209547</td>\n",
              "      <td>1.426604</td>\n",
              "      <td>-4.175914</td>\n",
              "      <td>-1.015073</td>\n",
              "      <td>-1.465520</td>\n",
              "      <td>3.025822</td>\n",
              "      <td>2.905900</td>\n",
              "      <td>-1.852549</td>\n",
              "      <td>0.318429</td>\n",
              "      <td>-0.296842</td>\n",
              "      <td>0.037426</td>\n",
              "      <td>-1.519045</td>\n",
              "      <td>-1.027220</td>\n",
              "      <td>1.446446</td>\n",
              "      <td>-1.718399</td>\n",
              "      <td>0.246238</td>\n",
              "      <td>5.489246</td>\n",
              "      <td>1.734288</td>\n",
              "      <td>3.098266</td>\n",
              "      <td>-0.895456</td>\n",
              "      <td>2.245351</td>\n",
              "      <td>-1.604456</td>\n",
              "      <td>0.426356</td>\n",
              "      <td>-0.752803</td>\n",
              "      <td>0.543058</td>\n",
              "      <td>1.807569</td>\n",
              "      <td>0.847243</td>\n",
              "      <td>0.526717</td>\n",
              "      <td>2.386055</td>\n",
              "      <td>...</td>\n",
              "      <td>0.505426</td>\n",
              "      <td>0.164306</td>\n",
              "      <td>-0.718372</td>\n",
              "      <td>0.536498</td>\n",
              "      <td>0.168321</td>\n",
              "      <td>0.335427</td>\n",
              "      <td>-0.264766</td>\n",
              "      <td>0.564801</td>\n",
              "      <td>-0.608123</td>\n",
              "      <td>0.970421</td>\n",
              "      <td>0.188320</td>\n",
              "      <td>-0.785660</td>\n",
              "      <td>1.456746</td>\n",
              "      <td>-0.019667</td>\n",
              "      <td>0.381230</td>\n",
              "      <td>0.618701</td>\n",
              "      <td>-0.472651</td>\n",
              "      <td>0.445123</td>\n",
              "      <td>-0.297622</td>\n",
              "      <td>0.048068</td>\n",
              "      <td>-0.091188</td>\n",
              "      <td>0.027935</td>\n",
              "      <td>0.009218</td>\n",
              "      <td>-0.399406</td>\n",
              "      <td>-0.277051</td>\n",
              "      <td>-0.620436</td>\n",
              "      <td>0.524337</td>\n",
              "      <td>0.476316</td>\n",
              "      <td>-0.472656</td>\n",
              "      <td>-0.348069</td>\n",
              "      <td>-0.532436</td>\n",
              "      <td>0.534798</td>\n",
              "      <td>0.703905</td>\n",
              "      <td>0.768212</td>\n",
              "      <td>-0.376926</td>\n",
              "      <td>0.056243</td>\n",
              "      <td>0.373520</td>\n",
              "      <td>0.004817</td>\n",
              "      <td>-0.451845</td>\n",
              "      <td>0.024416</td>\n",
              "    </tr>\n",
              "    <tr>\n",
              "      <th>4</th>\n",
              "      <td>-9.660307</td>\n",
              "      <td>7.606166</td>\n",
              "      <td>6.788124</td>\n",
              "      <td>-4.963901</td>\n",
              "      <td>11.271521</td>\n",
              "      <td>0.004180</td>\n",
              "      <td>-6.171389</td>\n",
              "      <td>8.844607</td>\n",
              "      <td>-0.701776</td>\n",
              "      <td>-1.474881</td>\n",
              "      <td>0.727483</td>\n",
              "      <td>-3.374328</td>\n",
              "      <td>-1.689956</td>\n",
              "      <td>0.989587</td>\n",
              "      <td>-4.787101</td>\n",
              "      <td>-0.944599</td>\n",
              "      <td>-0.690083</td>\n",
              "      <td>1.193690</td>\n",
              "      <td>4.836375</td>\n",
              "      <td>-3.539295</td>\n",
              "      <td>-1.350782</td>\n",
              "      <td>-4.416346</td>\n",
              "      <td>-2.607704</td>\n",
              "      <td>1.737339</td>\n",
              "      <td>-1.283276</td>\n",
              "      <td>2.737113</td>\n",
              "      <td>1.657266</td>\n",
              "      <td>-3.454626</td>\n",
              "      <td>-1.031005</td>\n",
              "      <td>-3.327852</td>\n",
              "      <td>-0.051112</td>\n",
              "      <td>-0.546879</td>\n",
              "      <td>1.390618</td>\n",
              "      <td>-1.915502</td>\n",
              "      <td>-0.994643</td>\n",
              "      <td>-1.101771</td>\n",
              "      <td>-1.090979</td>\n",
              "      <td>-0.855925</td>\n",
              "      <td>2.010239</td>\n",
              "      <td>-3.922990</td>\n",
              "      <td>...</td>\n",
              "      <td>-0.132318</td>\n",
              "      <td>-0.837786</td>\n",
              "      <td>0.938017</td>\n",
              "      <td>-1.208328</td>\n",
              "      <td>-0.061753</td>\n",
              "      <td>-0.142508</td>\n",
              "      <td>1.335232</td>\n",
              "      <td>0.076597</td>\n",
              "      <td>-1.164691</td>\n",
              "      <td>0.335063</td>\n",
              "      <td>0.054506</td>\n",
              "      <td>-0.710746</td>\n",
              "      <td>-0.083139</td>\n",
              "      <td>-0.114375</td>\n",
              "      <td>-0.667579</td>\n",
              "      <td>0.686992</td>\n",
              "      <td>0.632208</td>\n",
              "      <td>0.453578</td>\n",
              "      <td>0.029537</td>\n",
              "      <td>0.260288</td>\n",
              "      <td>0.077426</td>\n",
              "      <td>-0.668208</td>\n",
              "      <td>0.957475</td>\n",
              "      <td>-0.008749</td>\n",
              "      <td>0.423636</td>\n",
              "      <td>0.045563</td>\n",
              "      <td>-0.066798</td>\n",
              "      <td>-0.430571</td>\n",
              "      <td>-0.057716</td>\n",
              "      <td>-1.052181</td>\n",
              "      <td>-1.318095</td>\n",
              "      <td>0.019510</td>\n",
              "      <td>0.651620</td>\n",
              "      <td>0.208991</td>\n",
              "      <td>0.772338</td>\n",
              "      <td>0.137279</td>\n",
              "      <td>-0.747528</td>\n",
              "      <td>-0.108447</td>\n",
              "      <td>0.263985</td>\n",
              "      <td>-0.069828</td>\n",
              "    </tr>\n",
              "  </tbody>\n",
              "</table>\n",
              "<p>5 rows × 200 columns</p>\n",
              "</div>"
            ],
            "text/plain": [
              "         0          1         2    ...       197       198       199\n",
              "0  -3.159658  -7.613223 -1.951735  ...  0.146808 -0.023674  0.341097\n",
              "1  -5.723906  18.604902 -8.188195  ...  0.432024  0.277153 -0.861491\n",
              "2   9.176351  -1.635566  5.474346  ... -0.962310  0.121780 -0.401841\n",
              "3 -13.672192 -12.307086 -5.715579  ...  0.004817 -0.451845  0.024416\n",
              "4  -9.660307   7.606166  6.788124  ... -0.108447  0.263985 -0.069828\n",
              "\n",
              "[5 rows x 200 columns]"
            ]
          },
          "metadata": {
            "tags": []
          },
          "execution_count": 16
        }
      ]
    },
    {
      "cell_type": "code",
      "metadata": {
        "id": "rV5qqWxdjIh7"
      },
      "source": [
        "X = pd.DataFrame(X)\n",
        "Y = pd.DataFrame(Y)"
      ],
      "execution_count": 17,
      "outputs": []
    },
    {
      "cell_type": "code",
      "metadata": {
        "id": "mt4zKJksjCq8"
      },
      "source": [
        "Y.rename(columns={0:'Label'}, inplace=True)"
      ],
      "execution_count": 18,
      "outputs": []
    },
    {
      "cell_type": "code",
      "metadata": {
        "colab": {
          "base_uri": "https://localhost:8080/"
        },
        "id": "SocAuGyPi5iR",
        "outputId": "ed55ead7-ee70-457f-d008-d29424a3a7e9"
      },
      "source": [
        "Y[\"Label\"] = Y[\"Label\"].astype('category')\n",
        "Y.dtypes"
      ],
      "execution_count": 19,
      "outputs": [
        {
          "output_type": "execute_result",
          "data": {
            "text/plain": [
              "Label    category\n",
              "dtype: object"
            ]
          },
          "metadata": {
            "tags": []
          },
          "execution_count": 19
        }
      ]
    },
    {
      "cell_type": "code",
      "metadata": {
        "id": "UjIjt91si7_m"
      },
      "source": [
        "Y[\"Label\"] = Y[\"Label\"].cat.codes"
      ],
      "execution_count": 20,
      "outputs": []
    },
    {
      "cell_type": "code",
      "metadata": {
        "id": "LuoEOdrAjXqo"
      },
      "source": [
        "from sklearn.preprocessing import MinMaxScaler"
      ],
      "execution_count": 21,
      "outputs": []
    },
    {
      "cell_type": "code",
      "metadata": {
        "id": "JL_1ivRZjQu5"
      },
      "source": [
        "scaler = MinMaxScaler()"
      ],
      "execution_count": 22,
      "outputs": []
    },
    {
      "cell_type": "code",
      "metadata": {
        "colab": {
          "base_uri": "https://localhost:8080/"
        },
        "id": "UFm3U_rtjSyi",
        "outputId": "bbf4c10a-e768-4225-e92f-975c29fac793"
      },
      "source": [
        "scaler.fit(pca_result)"
      ],
      "execution_count": 23,
      "outputs": [
        {
          "output_type": "execute_result",
          "data": {
            "text/plain": [
              "MinMaxScaler(copy=True, feature_range=(0, 1))"
            ]
          },
          "metadata": {
            "tags": []
          },
          "execution_count": 23
        }
      ]
    },
    {
      "cell_type": "code",
      "metadata": {
        "id": "p8_lyzUGjdv7"
      },
      "source": [
        "X_scaled = scaler.transform(pca_result)"
      ],
      "execution_count": 24,
      "outputs": []
    },
    {
      "cell_type": "code",
      "metadata": {
        "id": "nMBWkLHZjgYa"
      },
      "source": [
        "X_scaled = pd.DataFrame(X_scaled)"
      ],
      "execution_count": 25,
      "outputs": []
    },
    {
      "cell_type": "code",
      "metadata": {
        "id": "O0l85-MxkHYe"
      },
      "source": [
        "\n",
        "from sklearn.model_selection import train_test_split\n",
        "from sklearn.preprocessing import MinMaxScaler\n",
        "\n",
        "from xgboost import XGBClassifier\n",
        "from sklearn.model_selection import GridSearchCV\n",
        "from sklearn.model_selection import StratifiedKFold\n",
        "from datetime import datetime\n",
        "from sklearn.model_selection import RandomizedSearchCV\n",
        "from sklearn.metrics import classification_report, confusion_matrix, accuracy_score\n",
        "\n",
        "from sklearn.ensemble import GradientBoostingClassifier # Gradient Boosting algo\n",
        "from sklearn.ensemble import AdaBoostClassifier # adaboost classifie"
      ],
      "execution_count": 26,
      "outputs": []
    },
    {
      "cell_type": "code",
      "metadata": {
        "id": "9j5Q2apskj9l"
      },
      "source": [
        "import pickle"
      ],
      "execution_count": 28,
      "outputs": []
    },
    {
      "cell_type": "code",
      "metadata": {
        "id": "SZ5HlseArMaZ"
      },
      "source": [
        "xgboost_model = '/content/drive/MyDrive/BERT + STOCK /Fine-tuned Models/xgboost.sav'"
      ],
      "execution_count": 29,
      "outputs": []
    },
    {
      "cell_type": "code",
      "metadata": {
        "id": "T3PLilCirFEf"
      },
      "source": [
        "loaded_xgboost = pickle.load(open(xgboost_model, 'rb'))"
      ],
      "execution_count": 30,
      "outputs": []
    },
    {
      "cell_type": "code",
      "metadata": {
        "id": "9ajZgSSMrUb8"
      },
      "source": [
        "result = loaded_xgboost.score(X_scaled,Y)"
      ],
      "execution_count": 31,
      "outputs": []
    },
    {
      "cell_type": "code",
      "metadata": {
        "colab": {
          "base_uri": "https://localhost:8080/"
        },
        "id": "arQk9bpyrc0Q",
        "outputId": "0bdbd748-58cc-493a-8aac-081eac5a920e"
      },
      "source": [
        "print(result)"
      ],
      "execution_count": 32,
      "outputs": [
        {
          "output_type": "stream",
          "text": [
            "0.3333333333333333\n"
          ],
          "name": "stdout"
        }
      ]
    },
    {
      "cell_type": "code",
      "metadata": {
        "id": "Icf8qhin_ild"
      },
      "source": [
        "from keras.models import model_from_json"
      ],
      "execution_count": 33,
      "outputs": []
    },
    {
      "cell_type": "code",
      "metadata": {
        "colab": {
          "base_uri": "https://localhost:8080/"
        },
        "id": "6q3n5Um-9kT-",
        "outputId": "6c312c8a-dc0d-48b5-b09a-16403b919043"
      },
      "source": [
        "json_lstm_file = open('/content/drive/MyDrive/BERT + STOCK /Fine-tuned Models/model_LSTM.json', 'r')\n",
        "loaded_model_json = json_lstm_file.read()\n",
        "json_lstm_file.close()\n",
        "loaded_model = model_from_json(loaded_model_json)\n",
        "# load weights into new model\n",
        "loaded_model.load_weights(\"/content/drive/MyDrive/BERT + STOCK /Fine-tuned Models/model_LSTM.h5\")\n",
        "print(\"Loaded model from disk\")"
      ],
      "execution_count": 34,
      "outputs": [
        {
          "output_type": "stream",
          "text": [
            "Loaded model from disk\n"
          ],
          "name": "stdout"
        }
      ]
    },
    {
      "cell_type": "code",
      "metadata": {
        "id": "O9tmCWL6AWIa"
      },
      "source": [
        "x_test = np.array(X_scaled)\n",
        "x_test = np.reshape(x_test, (x_test.shape[0],1, x_test.shape[1]))"
      ],
      "execution_count": 35,
      "outputs": []
    },
    {
      "cell_type": "code",
      "metadata": {
        "colab": {
          "base_uri": "https://localhost:8080/"
        },
        "id": "DRDKMOKf_Uou",
        "outputId": "4499982d-3d4b-4bf4-f998-d42bf63a1214"
      },
      "source": [
        "\n",
        "# evaluate loaded model on test data\n",
        "import keras\n",
        "loss_fn = keras.losses.SparseCategoricalCrossentropy()\n",
        "opt = keras.optimizers.Adam(learning_rate=0.0001, amsgrad=True)\n",
        "loaded_model.compile(loss= loss_fn, optimizer=opt, metrics = ['accuracy'])\n",
        "score = loaded_model.evaluate(x_test,Y, verbose=0)\n",
        "print(\"%s: %.2f%%\" % (loaded_model.metrics_names[1], score[1]*100))"
      ],
      "execution_count": 36,
      "outputs": [
        {
          "output_type": "stream",
          "text": [
            "accuracy: 43.69%\n"
          ],
          "name": "stdout"
        }
      ]
    },
    {
      "cell_type": "code",
      "metadata": {
        "colab": {
          "base_uri": "https://localhost:8080/"
        },
        "id": "mKXt5Yrj_0GO",
        "outputId": "8ce37872-48cc-4de1-ac78-c5afacd6d18c"
      },
      "source": [
        "json_mlp_file = open('/content/drive/MyDrive/BERT + STOCK /Fine-tuned Models/model_MLP.json', 'r')\n",
        "loaded_model_json = json_mlp_file.read()\n",
        "json_mlp_file.close()\n",
        "loaded_model = model_from_json(loaded_model_json)\n",
        "# load weights into new model\n",
        "loaded_model.load_weights(\"/content/drive/MyDrive/BERT + STOCK /Fine-tuned Models/model_MLP.h5\")\n",
        "print(\"Loaded model from disk\")"
      ],
      "execution_count": 37,
      "outputs": [
        {
          "output_type": "stream",
          "text": [
            "Loaded model from disk\n"
          ],
          "name": "stdout"
        }
      ]
    },
    {
      "cell_type": "code",
      "metadata": {
        "colab": {
          "base_uri": "https://localhost:8080/"
        },
        "id": "Bfe-yPv-A2oY",
        "outputId": "e7f101a1-bcaf-4f56-c867-a449286fc557"
      },
      "source": [
        "# evaluate loaded model on test data\n",
        "import keras\n",
        "loss_fn = keras.losses.SparseCategoricalCrossentropy()\n",
        "opt = keras.optimizers.Adam(learning_rate=0.0001, amsgrad=True)\n",
        "loaded_model.compile(loss= loss_fn, optimizer=opt, metrics = ['accuracy'])\n",
        "score = loaded_model.evaluate(x_test,Y, verbose=0)\n",
        "print(\"%s: %.2f%%\" % (loaded_model.metrics_names[1], score[1]*100))"
      ],
      "execution_count": 38,
      "outputs": [
        {
          "output_type": "stream",
          "text": [
            "accuracy: 44.85%\n"
          ],
          "name": "stdout"
        }
      ]
    }
  ]
}