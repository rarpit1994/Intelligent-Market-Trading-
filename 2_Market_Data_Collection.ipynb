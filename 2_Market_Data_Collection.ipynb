{
  "nbformat": 4,
  "nbformat_minor": 0,
  "metadata": {
    "colab": {
      "name": "2. Market Data Collection.ipynb",
      "provenance": []
    },
    "kernelspec": {
      "name": "python3",
      "display_name": "Python 3"
    }
  },
  "cells": [
    {
      "cell_type": "code",
      "metadata": {
        "id": "tUQNtZCtBzWW"
      },
      "source": [
        "!pip install intrinio_sdk"
      ],
      "execution_count": null,
      "outputs": []
    },
    {
      "cell_type": "code",
      "metadata": {
        "colab": {
          "base_uri": "https://localhost:8080/"
        },
        "id": "kGXM_67ECSSW",
        "outputId": "2c697666-60a4-447d-ab16-834bf772f2f5"
      },
      "source": [
        "import pandas as pd\n",
        "import nltk\n",
        "import numpy as np\n",
        "nltk.download('wordnet')"
      ],
      "execution_count": null,
      "outputs": [
        {
          "output_type": "stream",
          "text": [
            "[nltk_data] Downloading package wordnet to /root/nltk_data...\n",
            "[nltk_data]   Unzipping corpora/wordnet.zip.\n"
          ],
          "name": "stdout"
        },
        {
          "output_type": "execute_result",
          "data": {
            "text/plain": [
              "True"
            ]
          },
          "metadata": {
            "tags": []
          },
          "execution_count": 2
        }
      ]
    },
    {
      "cell_type": "code",
      "metadata": {
        "colab": {
          "base_uri": "https://localhost:8080/"
        },
        "id": "UjgfgdBPCHKU",
        "outputId": "4958db6a-b498-420b-8c86-823f0cfb6564"
      },
      "source": [
        "from __future__ import print_function\n",
        "import time\n",
        "import intrinio_sdk\n",
        "from intrinio_sdk.rest import ApiException\n",
        "from pprint import pprint\n",
        "\n",
        "intrinio_sdk.ApiClient().configuration.api_key['api_key'] = 'OjhhMjAzZjE5MmFkZmRkMGQ1YTgzZDU4ODFmMmJiYTJm'\n",
        "\n",
        "security_api = intrinio_sdk.SecurityApi()\n",
        "\n",
        "identifier = 'AAPL' # str | A Security identifier (Ticker, FIGI, ISIN, CUSIP, Intrinio ID)\n",
        "start_date = '2015-01-01' # date | Return prices on or after the date (optional)\n",
        "end_date = '2020-12-31' # date | Return prices on or before the date (optional)\n",
        "frequency = 'daily' # str | Return stock prices in the given frequency (optional) (default to daily)\n",
        "page_size = 100 # int | The number of results to return (optional) (default to 100)\n",
        "next_page = '' # str | Gets the next page of data from a previous API call (optional)\n",
        "\n",
        "api_response_list_1 = []\n",
        "condition = True\n",
        "\n",
        "while condition:\n",
        "    try:\n",
        "        api_response = security_api.get_security_stock_prices(identifier, start_date=start_date, end_date=end_date, frequency=frequency, page_size=page_size, next_page=next_page)\n",
        "        #pprint(api_response)\n",
        "        api_response_list_1.append(api_response)\n",
        "        next_page = api_response.next_page\n",
        "    except ApiException as e:\n",
        "        print(\"Exception when calling SecurityApi->get_security_stock_prices: %s\\r\\n\" % e)\n",
        "        condition = False"
      ],
      "execution_count": null,
      "outputs": [
        {
          "output_type": "stream",
          "text": [
            "Exception when calling SecurityApi->get_security_stock_prices: (502)\n",
            "Reason: Bad Gateway\n",
            "HTTP response headers: HTTPHeaderDict({'Server': 'awselb/2.0', 'Date': 'Tue, 02 Mar 2021 06:00:35 GMT', 'Content-Type': 'text/html', 'Content-Length': '122', 'Connection': 'keep-alive'})\n",
            "HTTP response body: <html>\r\n",
            "<head><title>502 Bad Gateway</title></head>\r\n",
            "<body>\r\n",
            "<center><h1>502 Bad Gateway</h1></center>\r\n",
            "</body>\r\n",
            "</html>\r\n",
            "\n",
            "\r\n",
            "\n"
          ],
          "name": "stdout"
        }
      ]
    },
    {
      "cell_type": "code",
      "metadata": {
        "id": "fIN1Gl3RCVkm"
      },
      "source": [
        "#Extract close, high, low and open of each piece of stock data\n",
        "close_list = []\n",
        "high_list = []\n",
        "low_list = []\n",
        "open_list = []\n",
        "date_list = []\n",
        "\n",
        "cnt = 0\n",
        "last = ''\n",
        "\n",
        "for page_100 in api_response_list_1:\n",
        "    for price in page_100.stock_prices:\n",
        "        if last == price.open:\n",
        "            cnt+= 1\n",
        "            pass \n",
        "        last = price.open\n",
        "        \n",
        "\n",
        "        close_list.append(price.close)\n",
        "        high_list.append(price.high)\n",
        "        low_list.append(price.low)\n",
        "        open_list.append(price.open)\n",
        "        date_list.append(price.date)"
      ],
      "execution_count": null,
      "outputs": []
    },
    {
      "cell_type": "code",
      "metadata": {
        "id": "njKzJ98ghFLT"
      },
      "source": [
        "new_df = pd.DataFrame ({'close':close_list,\n",
        "                       'high':high_list,\n",
        "                       'low':low_list,\n",
        "                       'open':open_list,\n",
        "                       'date':date_list\n",
        "                       })"
      ],
      "execution_count": null,
      "outputs": []
    },
    {
      "cell_type": "code",
      "metadata": {
        "colab": {
          "base_uri": "https://localhost:8080/",
          "height": 204
        },
        "id": "u5MW-Ov9hiUt",
        "outputId": "a9041a50-d0b8-46dc-f075-df3f9a1af5ae"
      },
      "source": [
        "new_df.head()"
      ],
      "execution_count": null,
      "outputs": [
        {
          "output_type": "execute_result",
          "data": {
            "text/html": [
              "<div>\n",
              "<style scoped>\n",
              "    .dataframe tbody tr th:only-of-type {\n",
              "        vertical-align: middle;\n",
              "    }\n",
              "\n",
              "    .dataframe tbody tr th {\n",
              "        vertical-align: top;\n",
              "    }\n",
              "\n",
              "    .dataframe thead th {\n",
              "        text-align: right;\n",
              "    }\n",
              "</style>\n",
              "<table border=\"1\" class=\"dataframe\">\n",
              "  <thead>\n",
              "    <tr style=\"text-align: right;\">\n",
              "      <th></th>\n",
              "      <th>close</th>\n",
              "      <th>high</th>\n",
              "      <th>low</th>\n",
              "      <th>open</th>\n",
              "      <th>date</th>\n",
              "      <th>difference</th>\n",
              "    </tr>\n",
              "  </thead>\n",
              "  <tbody>\n",
              "    <tr>\n",
              "      <th>0</th>\n",
              "      <td>124.40</td>\n",
              "      <td>125.18</td>\n",
              "      <td>119.2845</td>\n",
              "      <td>120.06</td>\n",
              "      <td>2020-10-12</td>\n",
              "      <td>8.230</td>\n",
              "    </tr>\n",
              "    <tr>\n",
              "      <th>1</th>\n",
              "      <td>116.97</td>\n",
              "      <td>117.00</td>\n",
              "      <td>114.9200</td>\n",
              "      <td>115.28</td>\n",
              "      <td>2020-10-09</td>\n",
              "      <td>1.956</td>\n",
              "    </tr>\n",
              "    <tr>\n",
              "      <th>2</th>\n",
              "      <td>114.97</td>\n",
              "      <td>116.40</td>\n",
              "      <td>114.5901</td>\n",
              "      <td>116.25</td>\n",
              "      <td>2020-10-08</td>\n",
              "      <td>0.658</td>\n",
              "    </tr>\n",
              "    <tr>\n",
              "      <th>3</th>\n",
              "      <td>115.08</td>\n",
              "      <td>115.55</td>\n",
              "      <td>114.1300</td>\n",
              "      <td>114.62</td>\n",
              "      <td>2020-10-07</td>\n",
              "      <td>0.584</td>\n",
              "    </tr>\n",
              "    <tr>\n",
              "      <th>4</th>\n",
              "      <td>113.16</td>\n",
              "      <td>116.12</td>\n",
              "      <td>112.2500</td>\n",
              "      <td>115.70</td>\n",
              "      <td>2020-10-06</td>\n",
              "      <td>-1.948</td>\n",
              "    </tr>\n",
              "  </tbody>\n",
              "</table>\n",
              "</div>"
            ],
            "text/plain": [
              "    close    high       low    open        date  difference\n",
              "0  124.40  125.18  119.2845  120.06  2020-10-12       8.230\n",
              "1  116.97  117.00  114.9200  115.28  2020-10-09       1.956\n",
              "2  114.97  116.40  114.5901  116.25  2020-10-08       0.658\n",
              "3  115.08  115.55  114.1300  114.62  2020-10-07       0.584\n",
              "4  113.16  116.12  112.2500  115.70  2020-10-06      -1.948"
            ]
          },
          "metadata": {
            "tags": []
          },
          "execution_count": 10
        }
      ]
    },
    {
      "cell_type": "code",
      "metadata": {
        "id": "MU8SMTXyDQYp"
      },
      "source": [
        "df_1.to_csv('/content/drive/MyDrive/Colab Notebooks/BERT + STOCK /Market_Data_apple.csv')"
      ],
      "execution_count": null,
      "outputs": []
    }
  ]
}