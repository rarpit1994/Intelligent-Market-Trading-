{
  "nbformat": 4,
  "nbformat_minor": 0,
  "metadata": {
    "colab": {
      "name": "3) Merging Market and News Data Collected from Intrinio.ipynb",
      "provenance": [],
      "collapsed_sections": []
    },
    "kernelspec": {
      "name": "python3",
      "display_name": "Python 3"
    }
  },
  "cells": [
    {
      "cell_type": "code",
      "metadata": {
        "id": "Z1l2eXXfYZDA"
      },
      "source": [
        "import pandas as pd\n",
        "import nltk\n",
        "import numpy as np"
      ],
      "execution_count": null,
      "outputs": []
    },
    {
      "cell_type": "code",
      "metadata": {
        "id": "B2dnxCYBYiJh"
      },
      "source": [
        "stock_data = pd.read_csv(\"/content/drive/MyDrive/BERT + STOCK /Market_Data_apple.csv\")"
      ],
      "execution_count": null,
      "outputs": []
    },
    {
      "cell_type": "code",
      "metadata": {
        "colab": {
          "base_uri": "https://localhost:8080/",
          "height": 204
        },
        "id": "WtoGZPBTYr9t",
        "outputId": "5ce38bd5-b355-4f70-b63d-0ffb31604fba"
      },
      "source": [
        "stock_data.head()"
      ],
      "execution_count": null,
      "outputs": [
        {
          "output_type": "execute_result",
          "data": {
            "text/html": [
              "<div>\n",
              "<style scoped>\n",
              "    .dataframe tbody tr th:only-of-type {\n",
              "        vertical-align: middle;\n",
              "    }\n",
              "\n",
              "    .dataframe tbody tr th {\n",
              "        vertical-align: top;\n",
              "    }\n",
              "\n",
              "    .dataframe thead th {\n",
              "        text-align: right;\n",
              "    }\n",
              "</style>\n",
              "<table border=\"1\" class=\"dataframe\">\n",
              "  <thead>\n",
              "    <tr style=\"text-align: right;\">\n",
              "      <th></th>\n",
              "      <th>Unnamed: 0</th>\n",
              "      <th>close</th>\n",
              "      <th>high</th>\n",
              "      <th>low</th>\n",
              "      <th>open</th>\n",
              "      <th>date</th>\n",
              "      <th>difference</th>\n",
              "    </tr>\n",
              "  </thead>\n",
              "  <tbody>\n",
              "    <tr>\n",
              "      <th>0</th>\n",
              "      <td>0</td>\n",
              "      <td>124.40</td>\n",
              "      <td>125.18</td>\n",
              "      <td>119.2845</td>\n",
              "      <td>120.06</td>\n",
              "      <td>2020-10-12</td>\n",
              "      <td>8.230</td>\n",
              "    </tr>\n",
              "    <tr>\n",
              "      <th>1</th>\n",
              "      <td>1</td>\n",
              "      <td>116.97</td>\n",
              "      <td>117.00</td>\n",
              "      <td>114.9200</td>\n",
              "      <td>115.28</td>\n",
              "      <td>2020-10-09</td>\n",
              "      <td>1.956</td>\n",
              "    </tr>\n",
              "    <tr>\n",
              "      <th>2</th>\n",
              "      <td>2</td>\n",
              "      <td>114.97</td>\n",
              "      <td>116.40</td>\n",
              "      <td>114.5901</td>\n",
              "      <td>116.25</td>\n",
              "      <td>2020-10-08</td>\n",
              "      <td>0.658</td>\n",
              "    </tr>\n",
              "    <tr>\n",
              "      <th>3</th>\n",
              "      <td>3</td>\n",
              "      <td>115.08</td>\n",
              "      <td>115.55</td>\n",
              "      <td>114.1300</td>\n",
              "      <td>114.62</td>\n",
              "      <td>2020-10-07</td>\n",
              "      <td>0.584</td>\n",
              "    </tr>\n",
              "    <tr>\n",
              "      <th>4</th>\n",
              "      <td>4</td>\n",
              "      <td>113.16</td>\n",
              "      <td>116.12</td>\n",
              "      <td>112.2500</td>\n",
              "      <td>115.70</td>\n",
              "      <td>2020-10-06</td>\n",
              "      <td>-1.948</td>\n",
              "    </tr>\n",
              "  </tbody>\n",
              "</table>\n",
              "</div>"
            ],
            "text/plain": [
              "   Unnamed: 0   close    high       low    open        date  difference\n",
              "0           0  124.40  125.18  119.2845  120.06  2020-10-12       8.230\n",
              "1           1  116.97  117.00  114.9200  115.28  2020-10-09       1.956\n",
              "2           2  114.97  116.40  114.5901  116.25  2020-10-08       0.658\n",
              "3           3  115.08  115.55  114.1300  114.62  2020-10-07       0.584\n",
              "4           4  113.16  116.12  112.2500  115.70  2020-10-06      -1.948"
            ]
          },
          "metadata": {
            "tags": []
          },
          "execution_count": 32
        }
      ]
    },
    {
      "cell_type": "code",
      "metadata": {
        "colab": {
          "base_uri": "https://localhost:8080/"
        },
        "id": "S1t2EIF8ZEk7",
        "outputId": "d4e022f0-1074-4c08-f55f-2cff2b71458d"
      },
      "source": [
        "stock_data.shape"
      ],
      "execution_count": null,
      "outputs": [
        {
          "output_type": "execute_result",
          "data": {
            "text/plain": [
              "(71395, 7)"
            ]
          },
          "metadata": {
            "tags": []
          },
          "execution_count": 33
        }
      ]
    },
    {
      "cell_type": "code",
      "metadata": {
        "id": "YN0kFSUYYu62"
      },
      "source": [
        "news_data = pd.read_csv(\"/content/drive/MyDrive/BERT + STOCK /Intrinio_Titles_Data.csv\")"
      ],
      "execution_count": null,
      "outputs": []
    },
    {
      "cell_type": "code",
      "metadata": {
        "colab": {
          "base_uri": "https://localhost:8080/",
          "height": 204
        },
        "id": "QxtqYPj9Y4w2",
        "outputId": "5dff29e9-76fa-4c45-d60c-22009e6f8dbb"
      },
      "source": [
        "news_data.head()"
      ],
      "execution_count": null,
      "outputs": [
        {
          "output_type": "execute_result",
          "data": {
            "text/html": [
              "<div>\n",
              "<style scoped>\n",
              "    .dataframe tbody tr th:only-of-type {\n",
              "        vertical-align: middle;\n",
              "    }\n",
              "\n",
              "    .dataframe tbody tr th {\n",
              "        vertical-align: top;\n",
              "    }\n",
              "\n",
              "    .dataframe thead th {\n",
              "        text-align: right;\n",
              "    }\n",
              "</style>\n",
              "<table border=\"1\" class=\"dataframe\">\n",
              "  <thead>\n",
              "    <tr style=\"text-align: right;\">\n",
              "      <th></th>\n",
              "      <th>Unnamed: 0</th>\n",
              "      <th>date</th>\n",
              "      <th>title</th>\n",
              "    </tr>\n",
              "  </thead>\n",
              "  <tbody>\n",
              "    <tr>\n",
              "      <th>0</th>\n",
              "      <td>0</td>\n",
              "      <td>2020-10-08 18:25:00+00:00</td>\n",
              "      <td>Microsoft Is Bringing Xbox Game Pass to iOS, b...</td>\n",
              "    </tr>\n",
              "    <tr>\n",
              "      <th>1</th>\n",
              "      <td>1</td>\n",
              "      <td>2020-10-08 17:34:06+00:00</td>\n",
              "      <td>US STOCKS-S&amp;P 500, Dow track second straight w...</td>\n",
              "    </tr>\n",
              "    <tr>\n",
              "      <th>2</th>\n",
              "      <td>2</td>\n",
              "      <td>NaN</td>\n",
              "      <td>3 Top 5G Stocks to Buy Right Now</td>\n",
              "    </tr>\n",
              "    <tr>\n",
              "      <th>3</th>\n",
              "      <td>3</td>\n",
              "      <td>2020-10-09 14:00:00+00:00</td>\n",
              "      <td>Microsoft Takes Shots at Apple in New App Stor...</td>\n",
              "    </tr>\n",
              "    <tr>\n",
              "      <th>4</th>\n",
              "      <td>4</td>\n",
              "      <td>2020-10-09 12:28:59+00:00</td>\n",
              "      <td>Pre-Market Most Active for Oct 9, 2020 :  MVIS...</td>\n",
              "    </tr>\n",
              "  </tbody>\n",
              "</table>\n",
              "</div>"
            ],
            "text/plain": [
              "   Unnamed: 0  ...                                              title\n",
              "0           0  ...  Microsoft Is Bringing Xbox Game Pass to iOS, b...\n",
              "1           1  ...  US STOCKS-S&P 500, Dow track second straight w...\n",
              "2           2  ...                   3 Top 5G Stocks to Buy Right Now\n",
              "3           3  ...  Microsoft Takes Shots at Apple in New App Stor...\n",
              "4           4  ...  Pre-Market Most Active for Oct 9, 2020 :  MVIS...\n",
              "\n",
              "[5 rows x 3 columns]"
            ]
          },
          "metadata": {
            "tags": []
          },
          "execution_count": 35
        }
      ]
    },
    {
      "cell_type": "code",
      "metadata": {
        "colab": {
          "base_uri": "https://localhost:8080/"
        },
        "id": "-UXKXyAWZCf6",
        "outputId": "6d7a37b0-f89a-4159-807c-09bbcc826d20"
      },
      "source": [
        "news_data.shape"
      ],
      "execution_count": null,
      "outputs": [
        {
          "output_type": "execute_result",
          "data": {
            "text/plain": [
              "(110225, 3)"
            ]
          },
          "metadata": {
            "tags": []
          },
          "execution_count": 36
        }
      ]
    },
    {
      "cell_type": "code",
      "metadata": {
        "id": "un_Sd_K0ZAiO"
      },
      "source": [
        "news_data['date']=pd.to_datetime(news_data['date']).dt.strftime('%Y-%m-%d')"
      ],
      "execution_count": null,
      "outputs": []
    },
    {
      "cell_type": "code",
      "metadata": {
        "id": "z_8evz0wZLbQ"
      },
      "source": [
        "stock_data['date']=pd.to_datetime(stock_data['date']).dt.strftime('%Y-%m-%d')"
      ],
      "execution_count": null,
      "outputs": []
    },
    {
      "cell_type": "code",
      "metadata": {
        "colab": {
          "base_uri": "https://localhost:8080/",
          "height": 204
        },
        "id": "7zn2IsBCZ2T2",
        "outputId": "8a6f1f5a-19c9-414c-b240-b98ecb6750cc"
      },
      "source": [
        "news_data.head()"
      ],
      "execution_count": null,
      "outputs": [
        {
          "output_type": "execute_result",
          "data": {
            "text/html": [
              "<div>\n",
              "<style scoped>\n",
              "    .dataframe tbody tr th:only-of-type {\n",
              "        vertical-align: middle;\n",
              "    }\n",
              "\n",
              "    .dataframe tbody tr th {\n",
              "        vertical-align: top;\n",
              "    }\n",
              "\n",
              "    .dataframe thead th {\n",
              "        text-align: right;\n",
              "    }\n",
              "</style>\n",
              "<table border=\"1\" class=\"dataframe\">\n",
              "  <thead>\n",
              "    <tr style=\"text-align: right;\">\n",
              "      <th></th>\n",
              "      <th>Unnamed: 0</th>\n",
              "      <th>date</th>\n",
              "      <th>title</th>\n",
              "    </tr>\n",
              "  </thead>\n",
              "  <tbody>\n",
              "    <tr>\n",
              "      <th>0</th>\n",
              "      <td>0</td>\n",
              "      <td>2020-10-08</td>\n",
              "      <td>Microsoft Is Bringing Xbox Game Pass to iOS, b...</td>\n",
              "    </tr>\n",
              "    <tr>\n",
              "      <th>1</th>\n",
              "      <td>1</td>\n",
              "      <td>2020-10-08</td>\n",
              "      <td>US STOCKS-S&amp;P 500, Dow track second straight w...</td>\n",
              "    </tr>\n",
              "    <tr>\n",
              "      <th>2</th>\n",
              "      <td>2</td>\n",
              "      <td>NaN</td>\n",
              "      <td>3 Top 5G Stocks to Buy Right Now</td>\n",
              "    </tr>\n",
              "    <tr>\n",
              "      <th>3</th>\n",
              "      <td>3</td>\n",
              "      <td>2020-10-09</td>\n",
              "      <td>Microsoft Takes Shots at Apple in New App Stor...</td>\n",
              "    </tr>\n",
              "    <tr>\n",
              "      <th>4</th>\n",
              "      <td>4</td>\n",
              "      <td>2020-10-09</td>\n",
              "      <td>Pre-Market Most Active for Oct 9, 2020 :  MVIS...</td>\n",
              "    </tr>\n",
              "  </tbody>\n",
              "</table>\n",
              "</div>"
            ],
            "text/plain": [
              "   Unnamed: 0        date                                              title\n",
              "0           0  2020-10-08  Microsoft Is Bringing Xbox Game Pass to iOS, b...\n",
              "1           1  2020-10-08  US STOCKS-S&P 500, Dow track second straight w...\n",
              "2           2         NaN                   3 Top 5G Stocks to Buy Right Now\n",
              "3           3  2020-10-09  Microsoft Takes Shots at Apple in New App Stor...\n",
              "4           4  2020-10-09  Pre-Market Most Active for Oct 9, 2020 :  MVIS..."
            ]
          },
          "metadata": {
            "tags": []
          },
          "execution_count": 39
        }
      ]
    },
    {
      "cell_type": "code",
      "metadata": {
        "colab": {
          "base_uri": "https://localhost:8080/",
          "height": 204
        },
        "id": "1WlIBnsPdJw_",
        "outputId": "6b4fde24-35d8-456f-cea9-68ad8d2099e2"
      },
      "source": [
        "stock_data.head()"
      ],
      "execution_count": null,
      "outputs": [
        {
          "output_type": "execute_result",
          "data": {
            "text/html": [
              "<div>\n",
              "<style scoped>\n",
              "    .dataframe tbody tr th:only-of-type {\n",
              "        vertical-align: middle;\n",
              "    }\n",
              "\n",
              "    .dataframe tbody tr th {\n",
              "        vertical-align: top;\n",
              "    }\n",
              "\n",
              "    .dataframe thead th {\n",
              "        text-align: right;\n",
              "    }\n",
              "</style>\n",
              "<table border=\"1\" class=\"dataframe\">\n",
              "  <thead>\n",
              "    <tr style=\"text-align: right;\">\n",
              "      <th></th>\n",
              "      <th>Unnamed: 0</th>\n",
              "      <th>close</th>\n",
              "      <th>high</th>\n",
              "      <th>low</th>\n",
              "      <th>open</th>\n",
              "      <th>date</th>\n",
              "      <th>difference</th>\n",
              "    </tr>\n",
              "  </thead>\n",
              "  <tbody>\n",
              "    <tr>\n",
              "      <th>0</th>\n",
              "      <td>0</td>\n",
              "      <td>124.40</td>\n",
              "      <td>125.18</td>\n",
              "      <td>119.2845</td>\n",
              "      <td>120.06</td>\n",
              "      <td>2020-10-12</td>\n",
              "      <td>8.230</td>\n",
              "    </tr>\n",
              "    <tr>\n",
              "      <th>1</th>\n",
              "      <td>1</td>\n",
              "      <td>116.97</td>\n",
              "      <td>117.00</td>\n",
              "      <td>114.9200</td>\n",
              "      <td>115.28</td>\n",
              "      <td>2020-10-09</td>\n",
              "      <td>1.956</td>\n",
              "    </tr>\n",
              "    <tr>\n",
              "      <th>2</th>\n",
              "      <td>2</td>\n",
              "      <td>114.97</td>\n",
              "      <td>116.40</td>\n",
              "      <td>114.5901</td>\n",
              "      <td>116.25</td>\n",
              "      <td>2020-10-08</td>\n",
              "      <td>0.658</td>\n",
              "    </tr>\n",
              "    <tr>\n",
              "      <th>3</th>\n",
              "      <td>3</td>\n",
              "      <td>115.08</td>\n",
              "      <td>115.55</td>\n",
              "      <td>114.1300</td>\n",
              "      <td>114.62</td>\n",
              "      <td>2020-10-07</td>\n",
              "      <td>0.584</td>\n",
              "    </tr>\n",
              "    <tr>\n",
              "      <th>4</th>\n",
              "      <td>4</td>\n",
              "      <td>113.16</td>\n",
              "      <td>116.12</td>\n",
              "      <td>112.2500</td>\n",
              "      <td>115.70</td>\n",
              "      <td>2020-10-06</td>\n",
              "      <td>-1.948</td>\n",
              "    </tr>\n",
              "  </tbody>\n",
              "</table>\n",
              "</div>"
            ],
            "text/plain": [
              "   Unnamed: 0   close    high       low    open        date  difference\n",
              "0           0  124.40  125.18  119.2845  120.06  2020-10-12       8.230\n",
              "1           1  116.97  117.00  114.9200  115.28  2020-10-09       1.956\n",
              "2           2  114.97  116.40  114.5901  116.25  2020-10-08       0.658\n",
              "3           3  115.08  115.55  114.1300  114.62  2020-10-07       0.584\n",
              "4           4  113.16  116.12  112.2500  115.70  2020-10-06      -1.948"
            ]
          },
          "metadata": {
            "tags": []
          },
          "execution_count": 40
        }
      ]
    },
    {
      "cell_type": "code",
      "metadata": {
        "colab": {
          "base_uri": "https://localhost:8080/"
        },
        "id": "TzGSb3PBtDHk",
        "outputId": "cd0aeb5d-a237-4ceb-fe6f-3e65b4736ff3"
      },
      "source": [
        "news_data.isna().sum()"
      ],
      "execution_count": null,
      "outputs": [
        {
          "output_type": "execute_result",
          "data": {
            "text/plain": [
              "Unnamed: 0        0\n",
              "date          16617\n",
              "title             0\n",
              "dtype: int64"
            ]
          },
          "metadata": {
            "tags": []
          },
          "execution_count": 41
        }
      ]
    },
    {
      "cell_type": "code",
      "metadata": {
        "id": "9BongpidaKzl"
      },
      "source": [
        "news_data.dropna(inplace=True)"
      ],
      "execution_count": null,
      "outputs": []
    },
    {
      "cell_type": "code",
      "metadata": {
        "colab": {
          "base_uri": "https://localhost:8080/"
        },
        "id": "5rZdV1wKacNj",
        "outputId": "9dc200ff-2404-44bf-85cd-3294cc4796a6"
      },
      "source": [
        "news_data.columns"
      ],
      "execution_count": null,
      "outputs": [
        {
          "output_type": "execute_result",
          "data": {
            "text/plain": [
              "Index(['Unnamed: 0', 'date', 'title'], dtype='object')"
            ]
          },
          "metadata": {
            "tags": []
          },
          "execution_count": 43
        }
      ]
    },
    {
      "cell_type": "code",
      "metadata": {
        "id": "ye2RGbTpaVt_"
      },
      "source": [
        "news_data = news_data[['date','title']]"
      ],
      "execution_count": null,
      "outputs": []
    },
    {
      "cell_type": "code",
      "metadata": {
        "colab": {
          "base_uri": "https://localhost:8080/"
        },
        "id": "cgVY-Ky7atcJ",
        "outputId": "50e59796-0e45-48dd-cc41-867ccbb9c57b"
      },
      "source": [
        "stock_data.columns"
      ],
      "execution_count": null,
      "outputs": [
        {
          "output_type": "execute_result",
          "data": {
            "text/plain": [
              "Index(['Unnamed: 0', 'close', 'high', 'low', 'open', 'date', 'difference'], dtype='object')"
            ]
          },
          "metadata": {
            "tags": []
          },
          "execution_count": 45
        }
      ]
    },
    {
      "cell_type": "code",
      "metadata": {
        "id": "mul0YQajarlM"
      },
      "source": [
        "stock_data = stock_data[['close', 'high', 'low', 'open', 'date', 'difference']]"
      ],
      "execution_count": null,
      "outputs": []
    },
    {
      "cell_type": "code",
      "metadata": {
        "colab": {
          "base_uri": "https://localhost:8080/",
          "height": 204
        },
        "id": "jihX7W0sZ4yz",
        "outputId": "de9ded99-655e-4d63-b585-00f6d4fe6d17"
      },
      "source": [
        "stock_data.head()"
      ],
      "execution_count": null,
      "outputs": [
        {
          "output_type": "execute_result",
          "data": {
            "text/html": [
              "<div>\n",
              "<style scoped>\n",
              "    .dataframe tbody tr th:only-of-type {\n",
              "        vertical-align: middle;\n",
              "    }\n",
              "\n",
              "    .dataframe tbody tr th {\n",
              "        vertical-align: top;\n",
              "    }\n",
              "\n",
              "    .dataframe thead th {\n",
              "        text-align: right;\n",
              "    }\n",
              "</style>\n",
              "<table border=\"1\" class=\"dataframe\">\n",
              "  <thead>\n",
              "    <tr style=\"text-align: right;\">\n",
              "      <th></th>\n",
              "      <th>close</th>\n",
              "      <th>high</th>\n",
              "      <th>low</th>\n",
              "      <th>open</th>\n",
              "      <th>date</th>\n",
              "      <th>difference</th>\n",
              "    </tr>\n",
              "  </thead>\n",
              "  <tbody>\n",
              "    <tr>\n",
              "      <th>0</th>\n",
              "      <td>124.40</td>\n",
              "      <td>125.18</td>\n",
              "      <td>119.2845</td>\n",
              "      <td>120.06</td>\n",
              "      <td>2020-10-12</td>\n",
              "      <td>8.230</td>\n",
              "    </tr>\n",
              "    <tr>\n",
              "      <th>1</th>\n",
              "      <td>116.97</td>\n",
              "      <td>117.00</td>\n",
              "      <td>114.9200</td>\n",
              "      <td>115.28</td>\n",
              "      <td>2020-10-09</td>\n",
              "      <td>1.956</td>\n",
              "    </tr>\n",
              "    <tr>\n",
              "      <th>2</th>\n",
              "      <td>114.97</td>\n",
              "      <td>116.40</td>\n",
              "      <td>114.5901</td>\n",
              "      <td>116.25</td>\n",
              "      <td>2020-10-08</td>\n",
              "      <td>0.658</td>\n",
              "    </tr>\n",
              "    <tr>\n",
              "      <th>3</th>\n",
              "      <td>115.08</td>\n",
              "      <td>115.55</td>\n",
              "      <td>114.1300</td>\n",
              "      <td>114.62</td>\n",
              "      <td>2020-10-07</td>\n",
              "      <td>0.584</td>\n",
              "    </tr>\n",
              "    <tr>\n",
              "      <th>4</th>\n",
              "      <td>113.16</td>\n",
              "      <td>116.12</td>\n",
              "      <td>112.2500</td>\n",
              "      <td>115.70</td>\n",
              "      <td>2020-10-06</td>\n",
              "      <td>-1.948</td>\n",
              "    </tr>\n",
              "  </tbody>\n",
              "</table>\n",
              "</div>"
            ],
            "text/plain": [
              "    close    high       low    open        date  difference\n",
              "0  124.40  125.18  119.2845  120.06  2020-10-12       8.230\n",
              "1  116.97  117.00  114.9200  115.28  2020-10-09       1.956\n",
              "2  114.97  116.40  114.5901  116.25  2020-10-08       0.658\n",
              "3  115.08  115.55  114.1300  114.62  2020-10-07       0.584\n",
              "4  113.16  116.12  112.2500  115.70  2020-10-06      -1.948"
            ]
          },
          "metadata": {
            "tags": []
          },
          "execution_count": 47
        }
      ]
    },
    {
      "cell_type": "code",
      "metadata": {
        "colab": {
          "base_uri": "https://localhost:8080/",
          "height": 204
        },
        "id": "xuI9JQyp-3xa",
        "outputId": "c7be85aa-34c5-4163-9a31-fb2dd33298be"
      },
      "source": [
        "news_data.head()"
      ],
      "execution_count": null,
      "outputs": [
        {
          "output_type": "execute_result",
          "data": {
            "text/html": [
              "<div>\n",
              "<style scoped>\n",
              "    .dataframe tbody tr th:only-of-type {\n",
              "        vertical-align: middle;\n",
              "    }\n",
              "\n",
              "    .dataframe tbody tr th {\n",
              "        vertical-align: top;\n",
              "    }\n",
              "\n",
              "    .dataframe thead th {\n",
              "        text-align: right;\n",
              "    }\n",
              "</style>\n",
              "<table border=\"1\" class=\"dataframe\">\n",
              "  <thead>\n",
              "    <tr style=\"text-align: right;\">\n",
              "      <th></th>\n",
              "      <th>date</th>\n",
              "      <th>title</th>\n",
              "    </tr>\n",
              "  </thead>\n",
              "  <tbody>\n",
              "    <tr>\n",
              "      <th>0</th>\n",
              "      <td>2020-10-08</td>\n",
              "      <td>Microsoft Is Bringing Xbox Game Pass to iOS, b...</td>\n",
              "    </tr>\n",
              "    <tr>\n",
              "      <th>1</th>\n",
              "      <td>2020-10-08</td>\n",
              "      <td>US STOCKS-S&amp;P 500, Dow track second straight w...</td>\n",
              "    </tr>\n",
              "    <tr>\n",
              "      <th>3</th>\n",
              "      <td>2020-10-09</td>\n",
              "      <td>Microsoft Takes Shots at Apple in New App Stor...</td>\n",
              "    </tr>\n",
              "    <tr>\n",
              "      <th>4</th>\n",
              "      <td>2020-10-09</td>\n",
              "      <td>Pre-Market Most Active for Oct 9, 2020 :  MVIS...</td>\n",
              "    </tr>\n",
              "    <tr>\n",
              "      <th>5</th>\n",
              "      <td>2020-10-09</td>\n",
              "      <td>Is Ecolab Stock a Buy?</td>\n",
              "    </tr>\n",
              "  </tbody>\n",
              "</table>\n",
              "</div>"
            ],
            "text/plain": [
              "         date                                              title\n",
              "0  2020-10-08  Microsoft Is Bringing Xbox Game Pass to iOS, b...\n",
              "1  2020-10-08  US STOCKS-S&P 500, Dow track second straight w...\n",
              "3  2020-10-09  Microsoft Takes Shots at Apple in New App Stor...\n",
              "4  2020-10-09  Pre-Market Most Active for Oct 9, 2020 :  MVIS...\n",
              "5  2020-10-09                             Is Ecolab Stock a Buy?"
            ]
          },
          "metadata": {
            "tags": []
          },
          "execution_count": 48
        }
      ]
    },
    {
      "cell_type": "code",
      "metadata": {
        "colab": {
          "base_uri": "https://localhost:8080/"
        },
        "id": "PYVdBGm4tLR7",
        "outputId": "0fd086e8-3494-478a-fe39-9af52d4ad00b"
      },
      "source": [
        "news_data.shape"
      ],
      "execution_count": null,
      "outputs": [
        {
          "output_type": "execute_result",
          "data": {
            "text/plain": [
              "(93608, 2)"
            ]
          },
          "metadata": {
            "tags": []
          },
          "execution_count": 49
        }
      ]
    },
    {
      "cell_type": "code",
      "metadata": {
        "colab": {
          "base_uri": "https://localhost:8080/"
        },
        "id": "RGV0vESLtNIU",
        "outputId": "6da4312b-8bbf-49ee-d2fb-79f9852838d5"
      },
      "source": [
        "stock_data.shape"
      ],
      "execution_count": null,
      "outputs": [
        {
          "output_type": "execute_result",
          "data": {
            "text/plain": [
              "(71395, 6)"
            ]
          },
          "metadata": {
            "tags": []
          },
          "execution_count": 50
        }
      ]
    },
    {
      "cell_type": "code",
      "metadata": {
        "colab": {
          "base_uri": "https://localhost:8080/",
          "height": 204
        },
        "id": "T4hVvbFKZQml",
        "outputId": "ce5528be-aea7-4353-96b8-599370770757"
      },
      "source": [
        "#Merging News and Stock data to one table\n",
        "result = pd.merge(news_data, stock_data, on='date')\n",
        "result.head()"
      ],
      "execution_count": null,
      "outputs": [
        {
          "output_type": "execute_result",
          "data": {
            "text/html": [
              "<div>\n",
              "<style scoped>\n",
              "    .dataframe tbody tr th:only-of-type {\n",
              "        vertical-align: middle;\n",
              "    }\n",
              "\n",
              "    .dataframe tbody tr th {\n",
              "        vertical-align: top;\n",
              "    }\n",
              "\n",
              "    .dataframe thead th {\n",
              "        text-align: right;\n",
              "    }\n",
              "</style>\n",
              "<table border=\"1\" class=\"dataframe\">\n",
              "  <thead>\n",
              "    <tr style=\"text-align: right;\">\n",
              "      <th></th>\n",
              "      <th>date</th>\n",
              "      <th>title</th>\n",
              "      <th>close</th>\n",
              "      <th>high</th>\n",
              "      <th>low</th>\n",
              "      <th>open</th>\n",
              "      <th>difference</th>\n",
              "    </tr>\n",
              "  </thead>\n",
              "  <tbody>\n",
              "    <tr>\n",
              "      <th>0</th>\n",
              "      <td>2020-10-08</td>\n",
              "      <td>Microsoft Is Bringing Xbox Game Pass to iOS, b...</td>\n",
              "      <td>114.97</td>\n",
              "      <td>116.4</td>\n",
              "      <td>114.5901</td>\n",
              "      <td>116.25</td>\n",
              "      <td>0.658</td>\n",
              "    </tr>\n",
              "    <tr>\n",
              "      <th>1</th>\n",
              "      <td>2020-10-08</td>\n",
              "      <td>Microsoft Is Bringing Xbox Game Pass to iOS, b...</td>\n",
              "      <td>114.97</td>\n",
              "      <td>116.4</td>\n",
              "      <td>114.5901</td>\n",
              "      <td>116.25</td>\n",
              "      <td>0.658</td>\n",
              "    </tr>\n",
              "    <tr>\n",
              "      <th>2</th>\n",
              "      <td>2020-10-08</td>\n",
              "      <td>Microsoft Is Bringing Xbox Game Pass to iOS, b...</td>\n",
              "      <td>114.97</td>\n",
              "      <td>116.4</td>\n",
              "      <td>114.5901</td>\n",
              "      <td>116.25</td>\n",
              "      <td>0.658</td>\n",
              "    </tr>\n",
              "    <tr>\n",
              "      <th>3</th>\n",
              "      <td>2020-10-08</td>\n",
              "      <td>Microsoft Is Bringing Xbox Game Pass to iOS, b...</td>\n",
              "      <td>114.97</td>\n",
              "      <td>116.4</td>\n",
              "      <td>114.5901</td>\n",
              "      <td>116.25</td>\n",
              "      <td>0.658</td>\n",
              "    </tr>\n",
              "    <tr>\n",
              "      <th>4</th>\n",
              "      <td>2020-10-08</td>\n",
              "      <td>Microsoft Is Bringing Xbox Game Pass to iOS, b...</td>\n",
              "      <td>114.97</td>\n",
              "      <td>116.4</td>\n",
              "      <td>114.5901</td>\n",
              "      <td>116.25</td>\n",
              "      <td>0.658</td>\n",
              "    </tr>\n",
              "  </tbody>\n",
              "</table>\n",
              "</div>"
            ],
            "text/plain": [
              "         date  ... difference\n",
              "0  2020-10-08  ...      0.658\n",
              "1  2020-10-08  ...      0.658\n",
              "2  2020-10-08  ...      0.658\n",
              "3  2020-10-08  ...      0.658\n",
              "4  2020-10-08  ...      0.658\n",
              "\n",
              "[5 rows x 7 columns]"
            ]
          },
          "metadata": {
            "tags": []
          },
          "execution_count": 51
        }
      ]
    },
    {
      "cell_type": "code",
      "metadata": {
        "colab": {
          "base_uri": "https://localhost:8080/",
          "height": 204
        },
        "id": "2Rp64TcDZors",
        "outputId": "1316adc7-4ed3-46c8-a817-37494ad79963"
      },
      "source": [
        "result.head()"
      ],
      "execution_count": null,
      "outputs": [
        {
          "output_type": "execute_result",
          "data": {
            "text/html": [
              "<div>\n",
              "<style scoped>\n",
              "    .dataframe tbody tr th:only-of-type {\n",
              "        vertical-align: middle;\n",
              "    }\n",
              "\n",
              "    .dataframe tbody tr th {\n",
              "        vertical-align: top;\n",
              "    }\n",
              "\n",
              "    .dataframe thead th {\n",
              "        text-align: right;\n",
              "    }\n",
              "</style>\n",
              "<table border=\"1\" class=\"dataframe\">\n",
              "  <thead>\n",
              "    <tr style=\"text-align: right;\">\n",
              "      <th></th>\n",
              "      <th>date</th>\n",
              "      <th>title</th>\n",
              "      <th>close</th>\n",
              "      <th>high</th>\n",
              "      <th>low</th>\n",
              "      <th>open</th>\n",
              "      <th>difference</th>\n",
              "    </tr>\n",
              "  </thead>\n",
              "  <tbody>\n",
              "    <tr>\n",
              "      <th>0</th>\n",
              "      <td>2020-10-08</td>\n",
              "      <td>Microsoft Is Bringing Xbox Game Pass to iOS, b...</td>\n",
              "      <td>114.97</td>\n",
              "      <td>116.4</td>\n",
              "      <td>114.5901</td>\n",
              "      <td>116.25</td>\n",
              "      <td>0.658</td>\n",
              "    </tr>\n",
              "    <tr>\n",
              "      <th>1</th>\n",
              "      <td>2020-10-08</td>\n",
              "      <td>Microsoft Is Bringing Xbox Game Pass to iOS, b...</td>\n",
              "      <td>114.97</td>\n",
              "      <td>116.4</td>\n",
              "      <td>114.5901</td>\n",
              "      <td>116.25</td>\n",
              "      <td>0.658</td>\n",
              "    </tr>\n",
              "    <tr>\n",
              "      <th>2</th>\n",
              "      <td>2020-10-08</td>\n",
              "      <td>Microsoft Is Bringing Xbox Game Pass to iOS, b...</td>\n",
              "      <td>114.97</td>\n",
              "      <td>116.4</td>\n",
              "      <td>114.5901</td>\n",
              "      <td>116.25</td>\n",
              "      <td>0.658</td>\n",
              "    </tr>\n",
              "    <tr>\n",
              "      <th>3</th>\n",
              "      <td>2020-10-08</td>\n",
              "      <td>Microsoft Is Bringing Xbox Game Pass to iOS, b...</td>\n",
              "      <td>114.97</td>\n",
              "      <td>116.4</td>\n",
              "      <td>114.5901</td>\n",
              "      <td>116.25</td>\n",
              "      <td>0.658</td>\n",
              "    </tr>\n",
              "    <tr>\n",
              "      <th>4</th>\n",
              "      <td>2020-10-08</td>\n",
              "      <td>Microsoft Is Bringing Xbox Game Pass to iOS, b...</td>\n",
              "      <td>114.97</td>\n",
              "      <td>116.4</td>\n",
              "      <td>114.5901</td>\n",
              "      <td>116.25</td>\n",
              "      <td>0.658</td>\n",
              "    </tr>\n",
              "  </tbody>\n",
              "</table>\n",
              "</div>"
            ],
            "text/plain": [
              "         date  ... difference\n",
              "0  2020-10-08  ...      0.658\n",
              "1  2020-10-08  ...      0.658\n",
              "2  2020-10-08  ...      0.658\n",
              "3  2020-10-08  ...      0.658\n",
              "4  2020-10-08  ...      0.658\n",
              "\n",
              "[5 rows x 7 columns]"
            ]
          },
          "metadata": {
            "tags": []
          },
          "execution_count": 52
        }
      ]
    },
    {
      "cell_type": "code",
      "metadata": {
        "colab": {
          "base_uri": "https://localhost:8080/"
        },
        "id": "boZArdi4ZtS2",
        "outputId": "5e910aa6-6a20-4a6f-8055-0b4e1788f728"
      },
      "source": [
        "result.shape"
      ],
      "execution_count": null,
      "outputs": [
        {
          "output_type": "execute_result",
          "data": {
            "text/plain": [
              "(3794892, 7)"
            ]
          },
          "metadata": {
            "tags": []
          },
          "execution_count": 53
        }
      ]
    },
    {
      "cell_type": "code",
      "metadata": {
        "id": "2unXEE03uDFf"
      },
      "source": [
        "result.drop_duplicates(inplace=True)"
      ],
      "execution_count": null,
      "outputs": []
    },
    {
      "cell_type": "code",
      "metadata": {
        "colab": {
          "base_uri": "https://localhost:8080/"
        },
        "id": "_X6zP4q-uJ3f",
        "outputId": "368aa5b0-97ab-4d4d-a9f4-f4551e1090ca"
      },
      "source": [
        "result.shape"
      ],
      "execution_count": null,
      "outputs": [
        {
          "output_type": "execute_result",
          "data": {
            "text/plain": [
              "(50468, 7)"
            ]
          },
          "metadata": {
            "tags": []
          },
          "execution_count": 55
        }
      ]
    },
    {
      "cell_type": "code",
      "metadata": {
        "colab": {
          "base_uri": "https://localhost:8080/",
          "height": 359
        },
        "id": "8GtBdS9puM66",
        "outputId": "39a21b8e-92e0-4f73-e7e7-4dccfd2e2298"
      },
      "source": [
        "result.head(10)"
      ],
      "execution_count": null,
      "outputs": [
        {
          "output_type": "execute_result",
          "data": {
            "text/html": [
              "<div>\n",
              "<style scoped>\n",
              "    .dataframe tbody tr th:only-of-type {\n",
              "        vertical-align: middle;\n",
              "    }\n",
              "\n",
              "    .dataframe tbody tr th {\n",
              "        vertical-align: top;\n",
              "    }\n",
              "\n",
              "    .dataframe thead th {\n",
              "        text-align: right;\n",
              "    }\n",
              "</style>\n",
              "<table border=\"1\" class=\"dataframe\">\n",
              "  <thead>\n",
              "    <tr style=\"text-align: right;\">\n",
              "      <th></th>\n",
              "      <th>date</th>\n",
              "      <th>title</th>\n",
              "      <th>close</th>\n",
              "      <th>high</th>\n",
              "      <th>low</th>\n",
              "      <th>open</th>\n",
              "      <th>difference</th>\n",
              "    </tr>\n",
              "  </thead>\n",
              "  <tbody>\n",
              "    <tr>\n",
              "      <th>0</th>\n",
              "      <td>2020-10-08</td>\n",
              "      <td>Microsoft Is Bringing Xbox Game Pass to iOS, b...</td>\n",
              "      <td>114.97</td>\n",
              "      <td>116.4</td>\n",
              "      <td>114.5901</td>\n",
              "      <td>116.25</td>\n",
              "      <td>0.658</td>\n",
              "    </tr>\n",
              "    <tr>\n",
              "      <th>50</th>\n",
              "      <td>2020-10-08</td>\n",
              "      <td>US STOCKS-S&amp;P 500, Dow track second straight w...</td>\n",
              "      <td>114.97</td>\n",
              "      <td>116.4</td>\n",
              "      <td>114.5901</td>\n",
              "      <td>116.25</td>\n",
              "      <td>0.658</td>\n",
              "    </tr>\n",
              "    <tr>\n",
              "      <th>100</th>\n",
              "      <td>2020-10-08</td>\n",
              "      <td>RPT-U.S. explores restrictions on Ant Group, T...</td>\n",
              "      <td>114.97</td>\n",
              "      <td>116.4</td>\n",
              "      <td>114.5901</td>\n",
              "      <td>116.25</td>\n",
              "      <td>0.658</td>\n",
              "    </tr>\n",
              "    <tr>\n",
              "      <th>300</th>\n",
              "      <td>2020-10-09</td>\n",
              "      <td>Microsoft Takes Shots at Apple in New App Stor...</td>\n",
              "      <td>116.97</td>\n",
              "      <td>117.0</td>\n",
              "      <td>114.9200</td>\n",
              "      <td>115.28</td>\n",
              "      <td>1.956</td>\n",
              "    </tr>\n",
              "    <tr>\n",
              "      <th>350</th>\n",
              "      <td>2020-10-09</td>\n",
              "      <td>Pre-Market Most Active for Oct 9, 2020 :  MVIS...</td>\n",
              "      <td>116.97</td>\n",
              "      <td>117.0</td>\n",
              "      <td>114.9200</td>\n",
              "      <td>115.28</td>\n",
              "      <td>1.956</td>\n",
              "    </tr>\n",
              "    <tr>\n",
              "      <th>400</th>\n",
              "      <td>2020-10-09</td>\n",
              "      <td>Is Ecolab Stock a Buy?</td>\n",
              "      <td>116.97</td>\n",
              "      <td>117.0</td>\n",
              "      <td>114.9200</td>\n",
              "      <td>115.28</td>\n",
              "      <td>1.956</td>\n",
              "    </tr>\n",
              "    <tr>\n",
              "      <th>450</th>\n",
              "      <td>2020-10-09</td>\n",
              "      <td>Should Tech Investors Worry About Antitrust?</td>\n",
              "      <td>116.97</td>\n",
              "      <td>117.0</td>\n",
              "      <td>114.9200</td>\n",
              "      <td>115.28</td>\n",
              "      <td>1.956</td>\n",
              "    </tr>\n",
              "    <tr>\n",
              "      <th>500</th>\n",
              "      <td>2020-10-09</td>\n",
              "      <td>Verizon, Qualcomm, Qorvo: Stocks To Watch As A...</td>\n",
              "      <td>116.97</td>\n",
              "      <td>117.0</td>\n",
              "      <td>114.9200</td>\n",
              "      <td>115.28</td>\n",
              "      <td>1.956</td>\n",
              "    </tr>\n",
              "    <tr>\n",
              "      <th>550</th>\n",
              "      <td>2020-10-09</td>\n",
              "      <td>Tesla Can Post Apple-Like Margins. Here's How.</td>\n",
              "      <td>116.97</td>\n",
              "      <td>117.0</td>\n",
              "      <td>114.9200</td>\n",
              "      <td>115.28</td>\n",
              "      <td>1.956</td>\n",
              "    </tr>\n",
              "    <tr>\n",
              "      <th>600</th>\n",
              "      <td>2020-10-09</td>\n",
              "      <td>Tesla's Expenses: Operating Cost Controls, Imp...</td>\n",
              "      <td>116.97</td>\n",
              "      <td>117.0</td>\n",
              "      <td>114.9200</td>\n",
              "      <td>115.28</td>\n",
              "      <td>1.956</td>\n",
              "    </tr>\n",
              "  </tbody>\n",
              "</table>\n",
              "</div>"
            ],
            "text/plain": [
              "           date  ... difference\n",
              "0    2020-10-08  ...      0.658\n",
              "50   2020-10-08  ...      0.658\n",
              "100  2020-10-08  ...      0.658\n",
              "300  2020-10-09  ...      1.956\n",
              "350  2020-10-09  ...      1.956\n",
              "400  2020-10-09  ...      1.956\n",
              "450  2020-10-09  ...      1.956\n",
              "500  2020-10-09  ...      1.956\n",
              "550  2020-10-09  ...      1.956\n",
              "600  2020-10-09  ...      1.956\n",
              "\n",
              "[10 rows x 7 columns]"
            ]
          },
          "metadata": {
            "tags": []
          },
          "execution_count": 56
        }
      ]
    },
    {
      "cell_type": "code",
      "metadata": {
        "id": "7NJbHE3nuSag"
      },
      "source": [
        "result.reset_index(inplace=True)"
      ],
      "execution_count": null,
      "outputs": []
    },
    {
      "cell_type": "code",
      "metadata": {
        "colab": {
          "base_uri": "https://localhost:8080/",
          "height": 359
        },
        "id": "A1Q7PNv4vCqi",
        "outputId": "477d0848-7c19-4c71-db33-c582e4657505"
      },
      "source": [
        "result.head(10)"
      ],
      "execution_count": null,
      "outputs": [
        {
          "output_type": "execute_result",
          "data": {
            "text/html": [
              "<div>\n",
              "<style scoped>\n",
              "    .dataframe tbody tr th:only-of-type {\n",
              "        vertical-align: middle;\n",
              "    }\n",
              "\n",
              "    .dataframe tbody tr th {\n",
              "        vertical-align: top;\n",
              "    }\n",
              "\n",
              "    .dataframe thead th {\n",
              "        text-align: right;\n",
              "    }\n",
              "</style>\n",
              "<table border=\"1\" class=\"dataframe\">\n",
              "  <thead>\n",
              "    <tr style=\"text-align: right;\">\n",
              "      <th></th>\n",
              "      <th>index</th>\n",
              "      <th>date</th>\n",
              "      <th>title</th>\n",
              "      <th>close</th>\n",
              "      <th>high</th>\n",
              "      <th>low</th>\n",
              "      <th>open</th>\n",
              "      <th>difference</th>\n",
              "    </tr>\n",
              "  </thead>\n",
              "  <tbody>\n",
              "    <tr>\n",
              "      <th>0</th>\n",
              "      <td>0</td>\n",
              "      <td>2020-10-08</td>\n",
              "      <td>Microsoft Is Bringing Xbox Game Pass to iOS, b...</td>\n",
              "      <td>114.97</td>\n",
              "      <td>116.4</td>\n",
              "      <td>114.5901</td>\n",
              "      <td>116.25</td>\n",
              "      <td>0.658</td>\n",
              "    </tr>\n",
              "    <tr>\n",
              "      <th>1</th>\n",
              "      <td>50</td>\n",
              "      <td>2020-10-08</td>\n",
              "      <td>US STOCKS-S&amp;P 500, Dow track second straight w...</td>\n",
              "      <td>114.97</td>\n",
              "      <td>116.4</td>\n",
              "      <td>114.5901</td>\n",
              "      <td>116.25</td>\n",
              "      <td>0.658</td>\n",
              "    </tr>\n",
              "    <tr>\n",
              "      <th>2</th>\n",
              "      <td>100</td>\n",
              "      <td>2020-10-08</td>\n",
              "      <td>RPT-U.S. explores restrictions on Ant Group, T...</td>\n",
              "      <td>114.97</td>\n",
              "      <td>116.4</td>\n",
              "      <td>114.5901</td>\n",
              "      <td>116.25</td>\n",
              "      <td>0.658</td>\n",
              "    </tr>\n",
              "    <tr>\n",
              "      <th>3</th>\n",
              "      <td>300</td>\n",
              "      <td>2020-10-09</td>\n",
              "      <td>Microsoft Takes Shots at Apple in New App Stor...</td>\n",
              "      <td>116.97</td>\n",
              "      <td>117.0</td>\n",
              "      <td>114.9200</td>\n",
              "      <td>115.28</td>\n",
              "      <td>1.956</td>\n",
              "    </tr>\n",
              "    <tr>\n",
              "      <th>4</th>\n",
              "      <td>350</td>\n",
              "      <td>2020-10-09</td>\n",
              "      <td>Pre-Market Most Active for Oct 9, 2020 :  MVIS...</td>\n",
              "      <td>116.97</td>\n",
              "      <td>117.0</td>\n",
              "      <td>114.9200</td>\n",
              "      <td>115.28</td>\n",
              "      <td>1.956</td>\n",
              "    </tr>\n",
              "    <tr>\n",
              "      <th>5</th>\n",
              "      <td>400</td>\n",
              "      <td>2020-10-09</td>\n",
              "      <td>Is Ecolab Stock a Buy?</td>\n",
              "      <td>116.97</td>\n",
              "      <td>117.0</td>\n",
              "      <td>114.9200</td>\n",
              "      <td>115.28</td>\n",
              "      <td>1.956</td>\n",
              "    </tr>\n",
              "    <tr>\n",
              "      <th>6</th>\n",
              "      <td>450</td>\n",
              "      <td>2020-10-09</td>\n",
              "      <td>Should Tech Investors Worry About Antitrust?</td>\n",
              "      <td>116.97</td>\n",
              "      <td>117.0</td>\n",
              "      <td>114.9200</td>\n",
              "      <td>115.28</td>\n",
              "      <td>1.956</td>\n",
              "    </tr>\n",
              "    <tr>\n",
              "      <th>7</th>\n",
              "      <td>500</td>\n",
              "      <td>2020-10-09</td>\n",
              "      <td>Verizon, Qualcomm, Qorvo: Stocks To Watch As A...</td>\n",
              "      <td>116.97</td>\n",
              "      <td>117.0</td>\n",
              "      <td>114.9200</td>\n",
              "      <td>115.28</td>\n",
              "      <td>1.956</td>\n",
              "    </tr>\n",
              "    <tr>\n",
              "      <th>8</th>\n",
              "      <td>550</td>\n",
              "      <td>2020-10-09</td>\n",
              "      <td>Tesla Can Post Apple-Like Margins. Here's How.</td>\n",
              "      <td>116.97</td>\n",
              "      <td>117.0</td>\n",
              "      <td>114.9200</td>\n",
              "      <td>115.28</td>\n",
              "      <td>1.956</td>\n",
              "    </tr>\n",
              "    <tr>\n",
              "      <th>9</th>\n",
              "      <td>600</td>\n",
              "      <td>2020-10-09</td>\n",
              "      <td>Tesla's Expenses: Operating Cost Controls, Imp...</td>\n",
              "      <td>116.97</td>\n",
              "      <td>117.0</td>\n",
              "      <td>114.9200</td>\n",
              "      <td>115.28</td>\n",
              "      <td>1.956</td>\n",
              "    </tr>\n",
              "  </tbody>\n",
              "</table>\n",
              "</div>"
            ],
            "text/plain": [
              "   index        date  ...    open  difference\n",
              "0      0  2020-10-08  ...  116.25       0.658\n",
              "1     50  2020-10-08  ...  116.25       0.658\n",
              "2    100  2020-10-08  ...  116.25       0.658\n",
              "3    300  2020-10-09  ...  115.28       1.956\n",
              "4    350  2020-10-09  ...  115.28       1.956\n",
              "5    400  2020-10-09  ...  115.28       1.956\n",
              "6    450  2020-10-09  ...  115.28       1.956\n",
              "7    500  2020-10-09  ...  115.28       1.956\n",
              "8    550  2020-10-09  ...  115.28       1.956\n",
              "9    600  2020-10-09  ...  115.28       1.956\n",
              "\n",
              "[10 rows x 8 columns]"
            ]
          },
          "metadata": {
            "tags": []
          },
          "execution_count": 58
        }
      ]
    },
    {
      "cell_type": "code",
      "metadata": {
        "colab": {
          "base_uri": "https://localhost:8080/"
        },
        "id": "oF81ld8IvFLm",
        "outputId": "3eae7a3c-8297-47d7-cfda-e0d949134913"
      },
      "source": [
        "result.columns"
      ],
      "execution_count": null,
      "outputs": [
        {
          "output_type": "execute_result",
          "data": {
            "text/plain": [
              "Index(['index', 'date', 'title', 'close', 'high', 'low', 'open', 'difference'], dtype='object')"
            ]
          },
          "metadata": {
            "tags": []
          },
          "execution_count": 59
        }
      ]
    },
    {
      "cell_type": "code",
      "metadata": {
        "id": "jyQzXqLsvIXE"
      },
      "source": [
        "result = result[['date', 'title', 'close', 'high', 'low', 'open','difference']]"
      ],
      "execution_count": null,
      "outputs": []
    },
    {
      "cell_type": "code",
      "metadata": {
        "id": "Vlbi46OBuho9"
      },
      "source": [
        "#result.to_csv('/content/drive/MyDrive/Merged_Apple_News_difference.csv')"
      ],
      "execution_count": null,
      "outputs": []
    }
  ]
}