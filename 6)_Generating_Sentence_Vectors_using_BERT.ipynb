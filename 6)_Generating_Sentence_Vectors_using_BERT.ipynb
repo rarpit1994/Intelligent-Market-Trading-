{
  "nbformat": 4,
  "nbformat_minor": 0,
  "metadata": {
    "colab": {
      "name": "6) Generating Sentence Vectors using BERT.ipynb",
      "provenance": [],
      "collapsed_sections": []
    },
    "kernelspec": {
      "name": "python3",
      "display_name": "Python 3"
    },
    "language_info": {
      "name": "python"
    }
  },
  "cells": [
    {
      "cell_type": "code",
      "metadata": {
        "colab": {
          "base_uri": "https://localhost:8080/"
        },
        "id": "NXih9K41mUKS",
        "outputId": "8848943c-83bf-47bc-fa75-805afda73803"
      },
      "source": [
        "# Install the library using pip\n",
        "!pip install sentence-transformers"
      ],
      "execution_count": null,
      "outputs": [
        {
          "output_type": "stream",
          "text": [
            "Requirement already satisfied: sentence-transformers in /usr/local/lib/python3.7/dist-packages (1.0.3)\n",
            "Requirement already satisfied: scipy in /usr/local/lib/python3.7/dist-packages (from sentence-transformers) (1.4.1)\n",
            "Requirement already satisfied: torch>=1.6.0 in /usr/local/lib/python3.7/dist-packages (from sentence-transformers) (1.8.0+cu101)\n",
            "Requirement already satisfied: sentencepiece in /usr/local/lib/python3.7/dist-packages (from sentence-transformers) (0.1.95)\n",
            "Requirement already satisfied: transformers<5.0.0,>=3.1.0 in /usr/local/lib/python3.7/dist-packages (from sentence-transformers) (4.4.2)\n",
            "Requirement already satisfied: tqdm in /usr/local/lib/python3.7/dist-packages (from sentence-transformers) (4.41.1)\n",
            "Requirement already satisfied: nltk in /usr/local/lib/python3.7/dist-packages (from sentence-transformers) (3.2.5)\n",
            "Requirement already satisfied: numpy in /usr/local/lib/python3.7/dist-packages (from sentence-transformers) (1.19.5)\n",
            "Requirement already satisfied: scikit-learn in /usr/local/lib/python3.7/dist-packages (from sentence-transformers) (0.22.2.post1)\n",
            "Requirement already satisfied: typing-extensions in /usr/local/lib/python3.7/dist-packages (from torch>=1.6.0->sentence-transformers) (3.7.4.3)\n",
            "Requirement already satisfied: requests in /usr/local/lib/python3.7/dist-packages (from transformers<5.0.0,>=3.1.0->sentence-transformers) (2.23.0)\n",
            "Requirement already satisfied: tokenizers<0.11,>=0.10.1 in /usr/local/lib/python3.7/dist-packages (from transformers<5.0.0,>=3.1.0->sentence-transformers) (0.10.1)\n",
            "Requirement already satisfied: filelock in /usr/local/lib/python3.7/dist-packages (from transformers<5.0.0,>=3.1.0->sentence-transformers) (3.0.12)\n",
            "Requirement already satisfied: packaging in /usr/local/lib/python3.7/dist-packages (from transformers<5.0.0,>=3.1.0->sentence-transformers) (20.9)\n",
            "Requirement already satisfied: regex!=2019.12.17 in /usr/local/lib/python3.7/dist-packages (from transformers<5.0.0,>=3.1.0->sentence-transformers) (2019.12.20)\n",
            "Requirement already satisfied: importlib-metadata; python_version < \"3.8\" in /usr/local/lib/python3.7/dist-packages (from transformers<5.0.0,>=3.1.0->sentence-transformers) (3.7.2)\n",
            "Requirement already satisfied: sacremoses in /usr/local/lib/python3.7/dist-packages (from transformers<5.0.0,>=3.1.0->sentence-transformers) (0.0.43)\n",
            "Requirement already satisfied: six in /usr/local/lib/python3.7/dist-packages (from nltk->sentence-transformers) (1.15.0)\n",
            "Requirement already satisfied: joblib>=0.11 in /usr/local/lib/python3.7/dist-packages (from scikit-learn->sentence-transformers) (1.0.1)\n",
            "Requirement already satisfied: idna<3,>=2.5 in /usr/local/lib/python3.7/dist-packages (from requests->transformers<5.0.0,>=3.1.0->sentence-transformers) (2.10)\n",
            "Requirement already satisfied: certifi>=2017.4.17 in /usr/local/lib/python3.7/dist-packages (from requests->transformers<5.0.0,>=3.1.0->sentence-transformers) (2020.12.5)\n",
            "Requirement already satisfied: chardet<4,>=3.0.2 in /usr/local/lib/python3.7/dist-packages (from requests->transformers<5.0.0,>=3.1.0->sentence-transformers) (3.0.4)\n",
            "Requirement already satisfied: urllib3!=1.25.0,!=1.25.1,<1.26,>=1.21.1 in /usr/local/lib/python3.7/dist-packages (from requests->transformers<5.0.0,>=3.1.0->sentence-transformers) (1.24.3)\n",
            "Requirement already satisfied: pyparsing>=2.0.2 in /usr/local/lib/python3.7/dist-packages (from packaging->transformers<5.0.0,>=3.1.0->sentence-transformers) (2.4.7)\n",
            "Requirement already satisfied: zipp>=0.5 in /usr/local/lib/python3.7/dist-packages (from importlib-metadata; python_version < \"3.8\"->transformers<5.0.0,>=3.1.0->sentence-transformers) (3.4.1)\n",
            "Requirement already satisfied: click in /usr/local/lib/python3.7/dist-packages (from sacremoses->transformers<5.0.0,>=3.1.0->sentence-transformers) (7.1.2)\n"
          ],
          "name": "stdout"
        }
      ]
    },
    {
      "cell_type": "code",
      "metadata": {
        "id": "vMvlsVkpmYql"
      },
      "source": [
        "from sentence_transformers import SentenceTransformer\n",
        "\n",
        "# Load the BERT model. Various models trained on Natural Language Inference (NLI) https://github.com/UKPLab/sentence-transformers/blob/master/docs/pretrained-models/nli-models.md and \n",
        "# Semantic Textual Similarity are available https://github.com/UKPLab/sentence-transformers/blob/master/docs/pretrained-models/sts-models.md\n",
        "\n",
        "model = SentenceTransformer('bert-base-nli-mean-tokens')"
      ],
      "execution_count": null,
      "outputs": []
    },
    {
      "cell_type": "code",
      "metadata": {
        "id": "ogjZWNTomk63"
      },
      "source": [
        "import pandas as pd"
      ],
      "execution_count": null,
      "outputs": []
    },
    {
      "cell_type": "code",
      "metadata": {
        "id": "jf_MYengmnXS"
      },
      "source": [
        "data = pd.read_csv('/content/drive/MyDrive/BERT + STOCK /Label_data_march_02 (1).csv')"
      ],
      "execution_count": null,
      "outputs": []
    },
    {
      "cell_type": "code",
      "metadata": {
        "colab": {
          "base_uri": "https://localhost:8080/",
          "height": 204
        },
        "id": "0D7uGOVwmyW6",
        "outputId": "ea945ff5-76b4-447a-9fcb-150dea02e2e2"
      },
      "source": [
        "data.head()"
      ],
      "execution_count": null,
      "outputs": [
        {
          "output_type": "execute_result",
          "data": {
            "text/html": [
              "<div>\n",
              "<style scoped>\n",
              "    .dataframe tbody tr th:only-of-type {\n",
              "        vertical-align: middle;\n",
              "    }\n",
              "\n",
              "    .dataframe tbody tr th {\n",
              "        vertical-align: top;\n",
              "    }\n",
              "\n",
              "    .dataframe thead th {\n",
              "        text-align: right;\n",
              "    }\n",
              "</style>\n",
              "<table border=\"1\" class=\"dataframe\">\n",
              "  <thead>\n",
              "    <tr style=\"text-align: right;\">\n",
              "      <th></th>\n",
              "      <th>date</th>\n",
              "      <th>title</th>\n",
              "      <th>close</th>\n",
              "      <th>high</th>\n",
              "      <th>low</th>\n",
              "      <th>open</th>\n",
              "      <th>Label</th>\n",
              "    </tr>\n",
              "  </thead>\n",
              "  <tbody>\n",
              "    <tr>\n",
              "      <th>0</th>\n",
              "      <td>2020-10-08</td>\n",
              "      <td>Microsoft Is Bringing Xbox Game Pass to iOS, b...</td>\n",
              "      <td>114.97</td>\n",
              "      <td>116.4</td>\n",
              "      <td>114.5901</td>\n",
              "      <td>116.25</td>\n",
              "      <td>Hold</td>\n",
              "    </tr>\n",
              "    <tr>\n",
              "      <th>1</th>\n",
              "      <td>2020-10-08</td>\n",
              "      <td>US STOCKS-S&amp;P 500, Dow track second straight w...</td>\n",
              "      <td>114.97</td>\n",
              "      <td>116.4</td>\n",
              "      <td>114.5901</td>\n",
              "      <td>116.25</td>\n",
              "      <td>Hold</td>\n",
              "    </tr>\n",
              "    <tr>\n",
              "      <th>2</th>\n",
              "      <td>2020-10-08</td>\n",
              "      <td>RPT-U.S. explores restrictions on Ant Group, T...</td>\n",
              "      <td>114.97</td>\n",
              "      <td>116.4</td>\n",
              "      <td>114.5901</td>\n",
              "      <td>116.25</td>\n",
              "      <td>Hold</td>\n",
              "    </tr>\n",
              "    <tr>\n",
              "      <th>3</th>\n",
              "      <td>2020-10-09</td>\n",
              "      <td>Microsoft Takes Shots at Apple in New App Stor...</td>\n",
              "      <td>116.97</td>\n",
              "      <td>117.0</td>\n",
              "      <td>114.9200</td>\n",
              "      <td>115.28</td>\n",
              "      <td>Hold</td>\n",
              "    </tr>\n",
              "    <tr>\n",
              "      <th>4</th>\n",
              "      <td>2020-10-09</td>\n",
              "      <td>Pre-Market Most Active for Oct 9, 2020 :  MVIS...</td>\n",
              "      <td>116.97</td>\n",
              "      <td>117.0</td>\n",
              "      <td>114.9200</td>\n",
              "      <td>115.28</td>\n",
              "      <td>Hold</td>\n",
              "    </tr>\n",
              "  </tbody>\n",
              "</table>\n",
              "</div>"
            ],
            "text/plain": [
              "         date                                              title  ...    open  Label\n",
              "0  2020-10-08  Microsoft Is Bringing Xbox Game Pass to iOS, b...  ...  116.25   Hold\n",
              "1  2020-10-08  US STOCKS-S&P 500, Dow track second straight w...  ...  116.25   Hold\n",
              "2  2020-10-08  RPT-U.S. explores restrictions on Ant Group, T...  ...  116.25   Hold\n",
              "3  2020-10-09  Microsoft Takes Shots at Apple in New App Stor...  ...  115.28   Hold\n",
              "4  2020-10-09  Pre-Market Most Active for Oct 9, 2020 :  MVIS...  ...  115.28   Hold\n",
              "\n",
              "[5 rows x 7 columns]"
            ]
          },
          "metadata": {
            "tags": []
          },
          "execution_count": 27
        }
      ]
    },
    {
      "cell_type": "code",
      "metadata": {
        "colab": {
          "base_uri": "https://localhost:8080/"
        },
        "id": "5nGmV6ECGPh2",
        "outputId": "ab5934e4-79fb-4b18-e598-c220a8c70b82"
      },
      "source": [
        "data.shape"
      ],
      "execution_count": null,
      "outputs": [
        {
          "output_type": "execute_result",
          "data": {
            "text/plain": [
              "(50416, 7)"
            ]
          },
          "metadata": {
            "tags": []
          },
          "execution_count": 28
        }
      ]
    },
    {
      "cell_type": "code",
      "metadata": {
        "id": "L7XK6IO1m0u1"
      },
      "source": [
        "sentences = data.title.to_list()"
      ],
      "execution_count": null,
      "outputs": []
    },
    {
      "cell_type": "code",
      "metadata": {
        "colab": {
          "base_uri": "https://localhost:8080/"
        },
        "id": "MEsjOfppmgeG",
        "outputId": "1fe8041e-5e54-401d-b1c0-857665c04ae1"
      },
      "source": [
        "sentence_embeddings = model.encode(sentences)\n",
        "\n",
        "print('Sample BERT embedding vector - length', len(sentence_embeddings[0]))\n",
        "\n",
        "print('Sample BERT embedding vector - note includes negative values', sentence_embeddings[0])"
      ],
      "execution_count": null,
      "outputs": [
        {
          "output_type": "stream",
          "text": [
            "Sample BERT embedding vector - length 768\n",
            "Sample BERT embedding vector - note includes negative values [-2.22597852e-01  7.48104990e-01  4.85288173e-01 -1.18639268e-01\n",
            "  9.00490642e-01 -5.57270646e-01  9.61600125e-01  6.98753715e-01\n",
            "  6.44912124e-01 -3.16915929e-01 -1.01386420e-02  8.47396493e-01\n",
            "  5.84392607e-01  4.70889919e-02 -5.17484069e-01 -2.64255494e-01\n",
            " -5.17812669e-01  4.86615807e-01  2.46013641e-01 -2.20482796e-01\n",
            " -5.51734030e-01 -5.96142054e-01  1.08172819e-01  2.09946465e-02\n",
            "  1.12988865e+00  5.41480362e-01  4.48370516e-01 -3.23927790e-01\n",
            " -4.07565981e-01  3.71477216e-01 -3.10437173e-01  1.45957983e+00\n",
            " -5.17393351e-01 -5.08451998e-01 -8.08173299e-01  2.20383137e-01\n",
            " -5.79218328e-01  5.90688348e-01 -7.80660287e-02  5.32741725e-01\n",
            " -2.05353051e-01 -8.01787138e-01  3.79246145e-01  4.46640179e-02\n",
            " -3.60316098e-01 -2.45121732e-01 -1.93653420e-01  5.45745313e-01\n",
            " -1.54411405e-01 -8.73533547e-01  6.65920615e-01  3.00391674e-01\n",
            "  1.77846953e-01 -5.35600781e-01 -7.44419277e-01  4.01335806e-01\n",
            "  1.37686096e-02 -9.11986768e-01 -6.31388009e-01  1.09664008e-01\n",
            " -9.94367063e-01  4.33267921e-01 -2.27125019e-01 -4.54219401e-01\n",
            " -5.95723949e-02 -7.61419713e-01  3.76463592e-01  5.73246002e-01\n",
            " -4.25129622e-01 -1.19500148e+00 -4.20083314e-01 -1.22410929e+00\n",
            " -1.00896275e+00 -5.48401296e-01  4.07656312e-01  1.55784786e-01\n",
            " -1.65028840e-01  1.20659387e+00  1.58732998e+00 -7.90282637e-02\n",
            "  6.08374059e-01 -3.20965722e-02  8.76539886e-01  2.56183654e-01\n",
            "  6.71842933e-01  2.12828383e-01  4.22678530e-01 -8.16698134e-01\n",
            " -7.28389680e-01  5.35876632e-01  5.36767066e-01 -1.57612368e-01\n",
            "  1.16842294e+00 -4.50524241e-01 -8.56739581e-01  8.98612812e-02\n",
            " -3.71110290e-01  3.41020934e-02  4.32981673e-04  3.81261200e-01\n",
            " -6.42658249e-02  2.19796032e-01 -8.94948125e-01  5.05879819e-01\n",
            " -3.95315349e-01  4.92291123e-01  3.81022930e-01 -2.64756471e-01\n",
            " -5.89368165e-01  4.51898903e-01  1.34501266e+00 -4.63208348e-01\n",
            "  6.10357285e-01  1.28303158e+00 -1.11635447e+00 -5.77853262e-01\n",
            " -5.18764913e-01  5.29484987e-01  4.12063718e-01  1.74875155e-01\n",
            "  1.37818289e+00  3.95023860e-02 -4.83738303e-01  3.49108815e-01\n",
            "  1.38595581e+00  4.18987453e-01 -9.16422978e-02  4.62508708e-01\n",
            " -1.06537735e+00 -1.26489565e-01  3.43160897e-01  8.81042480e-01\n",
            "  7.80521333e-01 -1.08240271e+00 -5.16606867e-01  6.43076062e-01\n",
            "  5.29355109e-01 -1.19597566e+00 -1.91020574e-02 -2.58964092e-01\n",
            "  1.61260530e-01 -2.87880450e-01  3.76621991e-01 -9.36701953e-01\n",
            " -6.22182250e-01  1.30709521e-02  5.16105831e-01  2.46516373e-02\n",
            " -2.25123197e-01 -5.72837740e-02  4.68699746e-02 -7.23713279e-01\n",
            " -2.97124058e-01  4.09506023e-01  1.18050851e-01  1.28873870e-01\n",
            " -1.07584214e+00 -5.65947592e-01  6.27354756e-02  5.08889258e-01\n",
            "  1.17812403e-01  5.01888216e-01  4.99661475e-01  3.89765091e-02\n",
            "  8.30711722e-01 -1.53840007e-02  1.43046415e+00 -2.94822484e-01\n",
            "  5.41896939e-01 -9.03195143e-01  1.36027172e-01  7.94303358e-01\n",
            "  1.27418840e+00 -1.50793269e-01  1.59490621e+00 -1.81906834e-01\n",
            "  4.54000920e-01  6.22971475e-01 -1.14104860e-01  9.27707776e-02\n",
            " -5.19549072e-01  1.21905059e-01 -5.80205262e-01  1.89340100e-01\n",
            " -1.67904869e-02 -9.07679461e-03  1.53375328e-01  3.22350189e-02\n",
            " -3.24779630e-01 -2.50085145e-01  1.07884429e-01  2.24736139e-01\n",
            " -6.00068927e-01 -2.82817990e-01 -8.80722880e-01 -7.33735710e-02\n",
            " -5.40421069e-01  8.12444031e-01  2.06702620e-01  5.77089727e-01\n",
            " -1.32602870e-01  4.46043909e-01  4.45269614e-01 -2.52732903e-01\n",
            " -1.01653934e+00  7.59128213e-01 -5.98568283e-02  4.52014595e-01\n",
            " -1.23826051e+00 -1.85459033e-01 -5.92754483e-01  4.47938889e-01\n",
            "  5.30380011e-01  6.98073208e-01  9.32699740e-01  1.14125304e-01\n",
            "  9.67729241e-02 -1.35877043e-01  2.20683396e-01  1.07422745e+00\n",
            " -8.02041411e-01 -2.25318506e-01  3.18811148e-01  5.95464289e-01\n",
            " -2.26983577e-01  9.45308030e-01 -6.32355548e-03 -4.03223813e-01\n",
            "  1.59515798e-01  2.23682567e-01 -7.32250065e-02  1.08582236e-01\n",
            " -4.42540824e-01 -2.44599786e-02  2.23965645e-01 -4.38538879e-01\n",
            " -1.63421798e+00 -1.02134384e-01  4.28054780e-01 -2.83721566e-01\n",
            " -4.69861656e-01 -3.02997649e-01  5.27956545e-01 -1.25822306e-01\n",
            "  1.42184356e-02  3.51245999e-02  6.64723516e-01 -4.55201209e-01\n",
            "  1.66948065e-02 -3.63122821e-01 -7.17600584e-01 -2.32229576e-01\n",
            "  2.93593228e-01 -9.07198966e-01  4.82857414e-02  1.83834255e-01\n",
            " -2.06263393e-01  1.14195451e-01 -6.11482382e-01 -3.88140559e-01\n",
            " -1.37688309e-01  9.57981721e-02  6.74301744e-01  4.68204886e-01\n",
            " -6.44476593e-01 -1.23692405e+00 -1.19740039e-01  4.14522201e-01\n",
            " -5.26439488e-01 -2.87622571e-01 -1.10276297e-01 -6.76091433e-01\n",
            " -1.70079604e-01  6.52699232e-01 -2.11676925e-01 -2.15813786e-01\n",
            " -1.91958591e-01  6.49180949e-01 -3.75380009e-01 -8.25979784e-02\n",
            "  5.07928550e-01  2.34450325e-01 -8.29847991e-01  8.29371572e-01\n",
            " -6.74021780e-01  3.47354829e-01  2.80930310e-01 -1.04323411e+00\n",
            " -5.81253350e-01 -1.83027405e-02  1.16737437e+00 -6.18059576e-01\n",
            "  2.70866096e-01  1.76393196e-01 -1.06361121e-01 -2.12418690e-01\n",
            "  6.82037652e-01 -2.84213215e-01  1.21577144e+00 -2.56372780e-01\n",
            " -1.19162150e-01  1.33993909e-01 -6.39412880e-01  2.54314631e-01\n",
            " -4.28014785e-01 -7.90319562e-01  4.95996863e-01 -2.36108065e-01\n",
            " -1.18970096e+00 -4.59462821e-01  4.62177843e-02 -4.74106878e-01\n",
            "  5.22041976e-01  8.48098874e-01 -1.67961940e-02 -2.44801089e-01\n",
            " -3.08592916e-01  1.09108627e+00  1.31490409e-01 -3.84442031e-01\n",
            " -3.27721208e-01 -1.02996603e-01  3.89044881e-01  6.09881401e-01\n",
            "  9.31469381e-01 -6.25786424e-01 -1.29501238e-01 -3.30036074e-01\n",
            " -8.32328200e-01 -2.18511503e-02  9.29006636e-01 -3.12675744e-01\n",
            "  2.07715854e-01  5.68299472e-01  8.51857364e-01  2.29792014e-01\n",
            " -2.92937130e-01  5.71645856e-01 -1.92634419e-01  7.91111887e-01\n",
            "  1.01686871e+00 -1.92715436e-01 -4.77351174e-02 -4.18039709e-02\n",
            " -1.60295959e-03 -3.41273189e-01  2.58338541e-01  1.29646659e+00\n",
            " -1.99644625e-01  5.01928747e-01  2.25034177e-01  7.05642343e-01\n",
            "  1.09581590e+00 -1.01876624e-01  1.22214183e-01  1.96426839e-01\n",
            " -1.11961567e+00  4.51161683e-01 -3.07926029e-01 -2.09386632e-01\n",
            " -9.57816958e-01  5.99854052e-01  1.92792729e-01 -4.62496459e-01\n",
            " -3.94694395e-02  2.59393603e-01 -3.08595568e-01 -1.24447398e-01\n",
            "  4.30946261e-01  5.22021390e-02 -6.84017166e-02  5.71319342e-01\n",
            "  8.01196039e-01 -7.57484853e-01 -6.51653111e-01 -3.89364690e-01\n",
            "  1.65855497e-01 -1.09650940e-01 -4.66386937e-02 -9.58918273e-01\n",
            "  1.39105931e-01 -8.13725293e-01  1.58767670e-01  4.11606997e-01\n",
            " -2.53897697e-01  8.00850272e-01 -6.45484999e-02  7.44777501e-01\n",
            " -1.61093786e-01  6.44058168e-01 -8.75129923e-02  7.11599469e-01\n",
            " -3.87066990e-01 -3.18346024e-01  5.49527526e-01 -4.17684078e-01\n",
            "  9.18248594e-01 -6.10026158e-02  2.34073415e-01  2.02359825e-01\n",
            " -1.16601944e-01 -4.09794971e-02 -1.15458176e-01  1.90580706e-03\n",
            "  3.78861010e-01 -3.68207484e-01  1.24555004e+00 -3.81062180e-01\n",
            "  1.08108413e+00 -5.37089646e-01  2.81874657e-01 -1.11107743e+00\n",
            "  3.52120399e-02  4.84923422e-01 -4.88826275e-01  3.87902856e-01\n",
            " -2.06347018e-01 -6.04949176e-01 -1.23591781e+00 -6.56479821e-02\n",
            "  5.06782174e-01 -3.25141788e-01  8.20422545e-02 -5.16064465e-01\n",
            "  1.46434605e-02  1.87236533e-01 -4.73228067e-01 -1.40157521e-01\n",
            " -3.40241760e-01  1.00455739e-01  1.03250019e-01 -5.13945520e-01\n",
            " -1.56849527e+00 -4.00456786e-01 -1.48449838e-01 -4.04030263e-01\n",
            "  4.43989128e-01  1.77815735e-01  7.26860225e-01 -9.21739161e-01\n",
            " -2.05762878e-01 -1.62865803e-01  8.97072017e-01 -7.12390721e-01\n",
            " -4.93280143e-02  3.16128194e-01  1.99928686e-01  7.40968995e-03\n",
            "  2.68469781e-01 -5.10196567e-01  7.51470149e-01 -8.93792093e-01\n",
            "  2.88112089e-02 -6.52498245e-01  5.42082429e-01 -4.27161604e-02\n",
            " -6.47557676e-01  3.95862073e-01 -1.66840160e+00 -5.57799757e-01\n",
            "  9.67617452e-01  4.54993367e-01  6.17085755e-01  2.40736544e-01\n",
            "  1.27091718e+00 -2.75424063e-01 -5.58741903e-03 -1.18550611e+00\n",
            "  1.44083634e-01 -1.04611404e-01  7.26184100e-02  3.99547070e-01\n",
            "  8.15447271e-01  8.54462087e-01 -3.17664705e-02 -1.24638832e+00\n",
            "  7.32392296e-02  5.79329073e-01 -6.43530264e-02 -3.35398942e-01\n",
            " -7.02672839e-01  2.27902949e-01  6.02412820e-01  9.34239209e-01\n",
            " -3.15492928e-01 -9.49484646e-01 -3.98413718e-01 -6.05295599e-01\n",
            " -2.73683593e-02 -9.73083615e-01 -8.57879519e-01 -7.92213380e-01\n",
            " -1.63976610e-01 -1.23732114e+00  5.99058032e-01 -6.02376223e-01\n",
            " -6.03295863e-01  5.30690094e-03  7.92994499e-01  2.32924670e-01\n",
            "  8.03956389e-01 -1.31423488e-01  1.20638177e-01  5.48295021e-01\n",
            "  6.53750718e-01  3.10192168e-01 -7.90048718e-01 -1.01652920e+00\n",
            " -2.26476625e-01 -1.99979320e-01  3.24200779e-01  6.87211871e-01\n",
            "  8.52006733e-01 -3.45298424e-02 -6.55889288e-02  1.14580548e+00\n",
            " -2.08760232e-01  4.88624930e-01 -5.62988129e-03 -1.35563076e+00\n",
            "  8.02582204e-02  7.66425878e-02  9.45585549e-01 -2.78984427e-01\n",
            " -4.87281084e-02 -3.03493679e-01  3.11251521e-01  7.80259728e-01\n",
            " -6.40982628e-01  4.20356914e-02 -3.83647196e-02 -4.72772598e-01\n",
            "  3.10013473e-01  2.13560686e-01  2.06863806e-01  3.59298795e-01\n",
            "  1.09353475e-01 -4.31000888e-01 -6.74215913e-01 -7.61360601e-02\n",
            "  2.85337567e-01  9.40199316e-01  3.33545536e-01  1.69792458e-01\n",
            " -9.83024180e-01  1.61721811e-01 -3.59566696e-02 -2.73728520e-01\n",
            " -1.52891457e+00 -8.04566562e-01 -6.64253235e-01 -5.87195158e-01\n",
            "  4.22596365e-01 -2.03263757e-04 -8.16903651e-01 -3.51328582e-01\n",
            " -7.97591925e-01  4.12419587e-01 -1.51181892e-01  3.57032657e-01\n",
            "  9.12521541e-01  3.35340112e-01 -4.42324847e-01 -7.54679501e-01\n",
            " -6.98696375e-01  2.87759513e-01 -1.10597622e+00 -6.03597343e-01\n",
            " -9.13382828e-01 -1.06334865e+00  5.85685134e-01  8.94464627e-02\n",
            " -4.69616264e-01  2.94993650e-02 -1.32751524e-01 -1.72847420e-01\n",
            "  4.43029515e-02  1.35548458e-01  5.78341544e-01 -2.81555355e-01\n",
            "  1.31254041e+00  1.20655783e-01 -4.35609221e-01 -3.79511863e-02\n",
            "  1.82882115e-01 -9.86069292e-02 -5.01056135e-01  6.84567243e-02\n",
            " -5.90678990e-01 -3.14270318e-01 -2.13559523e-01 -2.20269207e-02\n",
            "  3.17893445e-01 -1.59703687e-01  2.03424200e-01  1.65037900e-01\n",
            "  1.00925970e+00  5.11468530e-01 -5.49949892e-02  4.56520140e-01\n",
            "  5.62800705e-01 -1.17714942e+00 -8.10131729e-01  2.30346948e-01\n",
            " -5.63559771e-01 -3.89100939e-01  6.20182157e-01  8.75831917e-02\n",
            " -5.71228564e-01 -1.24487646e-01  6.45963788e-01 -1.14175314e-02\n",
            " -2.61518717e-01  2.71863967e-01 -3.36064965e-01  1.08246319e-01\n",
            "  9.46041420e-02 -4.38329995e-01  3.31371911e-02 -1.41214460e-01\n",
            "  1.30580872e-01  7.23605275e-01  2.68294901e-01  1.88794866e-01\n",
            "  1.25506592e+00 -5.91346920e-01 -6.72237933e-01  3.36892098e-01\n",
            " -1.25529099e+00  1.76158324e-01  4.88521278e-01 -3.69836897e-01\n",
            "  1.12555370e-01 -2.38982692e-01  6.62380219e-01  8.22149038e-01\n",
            " -6.25097811e-01  5.04894316e-01  4.28259104e-01  2.75717765e-01\n",
            " -7.34113097e-01  1.40044415e+00 -3.87104839e-01 -3.66399467e-01\n",
            "  2.96679914e-01 -1.05073714e+00 -4.39186841e-01  3.04458112e-01\n",
            "  8.76873970e-01  6.06970966e-01  5.16322963e-02  6.64414465e-01\n",
            " -7.83419609e-01  2.19729036e-01 -7.91596547e-02  6.26427084e-02\n",
            "  3.35192531e-01  1.81436256e-01 -2.32815728e-01  1.10812867e+00\n",
            " -4.89393063e-02  5.34227371e-01 -1.51641622e-01  4.80839640e-01\n",
            "  6.06745839e-01  3.63193065e-01  9.96830761e-02 -7.78742805e-02\n",
            " -4.47174460e-01 -5.81769526e-01  2.99516395e-02  4.76809405e-02\n",
            "  5.88595450e-01  2.33566508e-01  2.81827629e-01  1.78389728e-01\n",
            " -1.03904143e-01 -6.18863821e-01  5.18768966e-01 -1.29025924e+00\n",
            "  6.62340879e-01 -3.96030992e-01  1.02952026e-01  1.96016818e-01\n",
            "  1.31572381e-01  3.96052778e-01 -4.04951096e-01  2.69230902e-01\n",
            " -5.68820298e-01 -1.76456109e-01 -2.20711529e-01  7.01524138e-01\n",
            " -7.91546226e-01 -6.36968791e-01  7.16789365e-01  1.37825981e-01\n",
            " -3.77761185e-01  1.62905216e-01 -5.25541425e-01  6.47573993e-02\n",
            " -5.67679405e-01  1.28220275e-01 -5.07483900e-01 -1.35137832e+00\n",
            "  4.31961507e-01  1.92280039e-02 -1.26136109e-01  4.21947002e-01\n",
            " -2.07640558e-01 -8.99664223e-01 -7.25611031e-01  7.65994966e-01\n",
            "  4.13563102e-01  9.73269522e-01 -3.94388825e-01  8.44120264e-01\n",
            " -1.09083883e-01 -6.54743016e-01 -5.34003377e-01 -3.67066383e-01\n",
            " -4.11959529e-01 -7.57083118e-01 -1.02413070e+00 -1.06559026e+00\n",
            "  2.80867994e-01  1.25119656e-01  2.56190568e-01 -5.90663329e-02\n",
            " -6.16729200e-01 -6.22845471e-01 -4.09627080e-01 -1.15895593e+00\n",
            "  2.27853492e-01  9.87284064e-01  1.17021672e-01  2.71497250e-01\n",
            "  1.04968697e-01 -3.66702735e-01 -5.67496955e-01 -1.63208771e+00\n",
            " -1.36654317e-01  4.50057894e-01 -6.55764937e-01 -5.29459059e-01\n",
            "  8.50078389e-02  3.22146922e-01 -4.69870381e-02 -2.46343747e-01\n",
            " -2.75842220e-01  9.32319984e-02  1.70750111e-01 -9.70542252e-01\n",
            "  1.24097399e-01  1.05758354e-01 -7.89086282e-01  1.12603784e-01\n",
            "  1.05249502e-01 -6.54910088e-01 -5.37237883e-01 -9.75832880e-01\n",
            " -1.75488544e+00  7.02908456e-01  6.13691866e-01 -9.29906219e-02\n",
            "  1.97458118e-01 -5.99833071e-01 -2.56600112e-01  4.53895986e-01]\n"
          ],
          "name": "stdout"
        }
      ]
    },
    {
      "cell_type": "code",
      "metadata": {
        "id": "OMUmG2aTAnP3"
      },
      "source": [
        "title_embeddings = pd.DataFrame(sentence_embeddings)"
      ],
      "execution_count": null,
      "outputs": []
    },
    {
      "cell_type": "code",
      "metadata": {
        "colab": {
          "base_uri": "https://localhost:8080/"
        },
        "id": "gP2rsnkKApkM",
        "outputId": "58d92d23-d9c7-483e-a3e8-c2c148ce0d9d"
      },
      "source": [
        "title_embeddings.shape"
      ],
      "execution_count": null,
      "outputs": [
        {
          "output_type": "execute_result",
          "data": {
            "text/plain": [
              "(50416, 768)"
            ]
          },
          "metadata": {
            "tags": []
          },
          "execution_count": 36
        }
      ]
    },
    {
      "cell_type": "code",
      "metadata": {
        "id": "Wa5tpeIGAqxg"
      },
      "source": [
        "title_embeddings.to_csv('/content/drive/MyDrive/BERT + STOCK /title_embeddings.csv', index=False)"
      ],
      "execution_count": null,
      "outputs": []
    },
    {
      "cell_type": "code",
      "metadata": {
        "id": "SokZiFWsAuAF"
      },
      "source": [
        ""
      ],
      "execution_count": null,
      "outputs": []
    }
  ]
}